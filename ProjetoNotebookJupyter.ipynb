{
  "nbformat": 4,
  "nbformat_minor": 0,
  "metadata": {
    "colab": {
      "name": "ProjetoCovid19.ipynb",
      "provenance": [],
      "collapsed_sections": []
    },
    "kernelspec": {
      "name": "python3",
      "display_name": "Python 3"
    },
    "language_info": {
      "name": "python"
    }
  },
  "cells": [
    {
      "cell_type": "markdown",
      "metadata": {
        "id": "KlShI8u4S_A6"
      },
      "source": [
        "## **Análise Comportamental de Trabalhadores em Home Office Durante a Pandemia de COVID-19 **\n",
        "\n",
        "  Colab colaborativo desenvolvido por Christian Dênis Dalzochio, Gabriel Scola, Gustavo Haupt Canello, Vittoria Luiza da S. Thomasini. O presente ambiente tem o objetivo de analisar os dados gerados por um formulário do Google Forms. Com 228 respostas, dividimos o formulário em 4 seções julgadas como mais importantes: Foco, saúde mental, relação do trabalhador com a empresa e idades. Diante disso, foi possível relatar e comprovar qual realmente foi a sensação e o impacto do HomeOffice não só em questões de produtividade e foco, mas também com realção a convívio e estresse. \n",
        "\n",
        "\n",
        "  Sendo assim, com a ajuda do python e das bibliotecas pandas e pyplot foi possível gerar alguns gráficos e análises decorrentes das respostas, para assim, no final se ter uma definição de perfís por meio de alguns métodos matemáticos de média e padrões de perfis. Além disso, criamos um perfil do futuro e analisamos ele separadamente dos demais, no final do ambiente colaborativo veremos o perfil Anywhere, que nada mais é do que o perfil do futuro, com \"skills\" próprias para um ambiente de trabalho moderno, horarios flexíveis, mobilidade de locais e \"n\" fatores relevantes.\n",
        "\n",
        "  Informações gerais sobre os dados:\n",
        "\n",
        "\n",
        "*   Todos os dados foram exportados do formulário e inseridos em uma planilha .csv que, posteriormente foi upada para nosso ambiente do github\n",
        "*   Cada ramificação citada acima tem uma planilha respectiva, e, além delas, ainda temos uma geral com todas as informações coletadas\n",
        "*   No inicio de todas as seções foi necessário fazer o import da planilha para o Colab\n",
        "*   Todas as respostas de \"Sim\" ou \"Não\" foram alteradas para 0 ou 1, considerando que respotas de \"Sim\" correspodem a 1 e respostas de \"Nâo\" correspodem a 0. Fizemos isso pois fica mais fácil de tratar os dados apenas com números.\n",
        "\n",
        "\n",
        "\n",
        "\n"
      ]
    },
    {
      "cell_type": "markdown",
      "metadata": {
        "id": "BgECvhTUcAgY"
      },
      "source": [
        "## **Foco e Produtividade**\n",
        "\n",
        "Abaixo iniciamos o estudo analisando questões de produtividade e foco no trabalho de casa durante a pandemia. Tendo como principais pergutas para essa seção listadas abaixo:\n",
        "\n",
        "\n",
        "*   Como você avalia a sua produtividade durante a pandemia?\n",
        "*   Como você avalia o seu foco durante o trabalho de Home Office?\n",
        "\n"
      ]
    },
    {
      "cell_type": "code",
      "metadata": {
        "colab": {
          "base_uri": "https://localhost:8080/",
          "height": 297
        },
        "id": "-vfPv8zocFEk",
        "outputId": "62dc22f7-6043-4326-b979-c0f96314b566"
      },
      "source": [
        "import matplotlib.pyplot as plt\n",
        "import pandas as pd\n",
        "plt.rcParams[\"figure.figsize\"] = (20, 5)\n",
        "respostas_teste_1 = 'https://github.com/vittoria-thomasini/comportment-analytics-covid19/blob/main/Planilhas/Foco.csv?raw=true'\n",
        "dados_df = pd.read_csv(respostas_teste_1, delimiter=';')\n",
        "dados_df = dados_df.replace('Sim', 1)\n",
        "dados_df = dados_df.replace('Não', 0)\n",
        "dados_df.head()"
      ],
      "execution_count": null,
      "outputs": [
        {
          "output_type": "execute_result",
          "data": {
            "text/html": [
              "<div>\n",
              "<style scoped>\n",
              "    .dataframe tbody tr th:only-of-type {\n",
              "        vertical-align: middle;\n",
              "    }\n",
              "\n",
              "    .dataframe tbody tr th {\n",
              "        vertical-align: top;\n",
              "    }\n",
              "\n",
              "    .dataframe thead th {\n",
              "        text-align: right;\n",
              "    }\n",
              "</style>\n",
              "<table border=\"1\" class=\"dataframe\">\n",
              "  <thead>\n",
              "    <tr style=\"text-align: right;\">\n",
              "      <th></th>\n",
              "      <th>Qual sua Idade?</th>\n",
              "      <th>Você trabalhou de casa durante a pandemia?</th>\n",
              "      <th>Você já exercia esse modelo de trabalho?</th>\n",
              "      <th>Você se vê e/ou pretende trabalhar remotamente no futuro?</th>\n",
              "      <th>Como você avalia sua adaptação ao Home Office?</th>\n",
              "      <th>Como você avalia a sua produtividade durante a pandemia?</th>\n",
              "      <th>Como você avalia o seu foco durante o trabalho de Home Office?</th>\n",
              "      <th>Como foi sua experiência em trabalhar de casa?</th>\n",
              "    </tr>\n",
              "  </thead>\n",
              "  <tbody>\n",
              "    <tr>\n",
              "      <th>0</th>\n",
              "      <td>Entre 18 e 25 anos</td>\n",
              "      <td>1</td>\n",
              "      <td>0</td>\n",
              "      <td>1</td>\n",
              "      <td>5</td>\n",
              "      <td>4</td>\n",
              "      <td>4</td>\n",
              "      <td>5</td>\n",
              "    </tr>\n",
              "    <tr>\n",
              "      <th>1</th>\n",
              "      <td>Entre 18 e 25 anos</td>\n",
              "      <td>1</td>\n",
              "      <td>0</td>\n",
              "      <td>0</td>\n",
              "      <td>3</td>\n",
              "      <td>3</td>\n",
              "      <td>3</td>\n",
              "      <td>3</td>\n",
              "    </tr>\n",
              "    <tr>\n",
              "      <th>2</th>\n",
              "      <td>Entre 18 e 25 anos</td>\n",
              "      <td>1</td>\n",
              "      <td>0</td>\n",
              "      <td>0</td>\n",
              "      <td>4</td>\n",
              "      <td>3</td>\n",
              "      <td>4</td>\n",
              "      <td>4</td>\n",
              "    </tr>\n",
              "    <tr>\n",
              "      <th>3</th>\n",
              "      <td>Entre 18 e 25 anos</td>\n",
              "      <td>1</td>\n",
              "      <td>0</td>\n",
              "      <td>1</td>\n",
              "      <td>4</td>\n",
              "      <td>3</td>\n",
              "      <td>2</td>\n",
              "      <td>3</td>\n",
              "    </tr>\n",
              "    <tr>\n",
              "      <th>4</th>\n",
              "      <td>Entre 18 e 25 anos</td>\n",
              "      <td>1</td>\n",
              "      <td>0</td>\n",
              "      <td>1</td>\n",
              "      <td>3</td>\n",
              "      <td>3</td>\n",
              "      <td>2</td>\n",
              "      <td>2</td>\n",
              "    </tr>\n",
              "  </tbody>\n",
              "</table>\n",
              "</div>"
            ],
            "text/plain": [
              "      Qual sua Idade?  ...  Como foi sua experiência em trabalhar de casa?\n",
              "0  Entre 18 e 25 anos  ...                                               5\n",
              "1  Entre 18 e 25 anos  ...                                               3\n",
              "2  Entre 18 e 25 anos  ...                                               4\n",
              "3  Entre 18 e 25 anos  ...                                               3\n",
              "4  Entre 18 e 25 anos  ...                                               2\n",
              "\n",
              "[5 rows x 8 columns]"
            ]
          },
          "metadata": {
            "tags": []
          },
          "execution_count": 57
        }
      ]
    },
    {
      "cell_type": "code",
      "metadata": {
        "colab": {
          "base_uri": "https://localhost:8080/",
          "height": 304
        },
        "id": "lY2E-imicNWt",
        "outputId": "b94a5cb5-da56-4a91-8461-cffe58fbc541"
      },
      "source": [
        "display(dados_df.describe())"
      ],
      "execution_count": null,
      "outputs": [
        {
          "output_type": "display_data",
          "data": {
            "text/html": [
              "<div>\n",
              "<style scoped>\n",
              "    .dataframe tbody tr th:only-of-type {\n",
              "        vertical-align: middle;\n",
              "    }\n",
              "\n",
              "    .dataframe tbody tr th {\n",
              "        vertical-align: top;\n",
              "    }\n",
              "\n",
              "    .dataframe thead th {\n",
              "        text-align: right;\n",
              "    }\n",
              "</style>\n",
              "<table border=\"1\" class=\"dataframe\">\n",
              "  <thead>\n",
              "    <tr style=\"text-align: right;\">\n",
              "      <th></th>\n",
              "      <th>Você trabalhou de casa durante a pandemia?</th>\n",
              "      <th>Você já exercia esse modelo de trabalho?</th>\n",
              "      <th>Você se vê e/ou pretende trabalhar remotamente no futuro?</th>\n",
              "      <th>Como você avalia sua adaptação ao Home Office?</th>\n",
              "      <th>Como você avalia a sua produtividade durante a pandemia?</th>\n",
              "      <th>Como você avalia o seu foco durante o trabalho de Home Office?</th>\n",
              "      <th>Como foi sua experiência em trabalhar de casa?</th>\n",
              "    </tr>\n",
              "  </thead>\n",
              "  <tbody>\n",
              "    <tr>\n",
              "      <th>count</th>\n",
              "      <td>153.0</td>\n",
              "      <td>153.000000</td>\n",
              "      <td>153.000000</td>\n",
              "      <td>153.000000</td>\n",
              "      <td>153.000000</td>\n",
              "      <td>153.000000</td>\n",
              "      <td>153.000000</td>\n",
              "    </tr>\n",
              "    <tr>\n",
              "      <th>mean</th>\n",
              "      <td>1.0</td>\n",
              "      <td>0.215686</td>\n",
              "      <td>0.718954</td>\n",
              "      <td>3.843137</td>\n",
              "      <td>3.614379</td>\n",
              "      <td>3.372549</td>\n",
              "      <td>3.660131</td>\n",
              "    </tr>\n",
              "    <tr>\n",
              "      <th>std</th>\n",
              "      <td>0.0</td>\n",
              "      <td>0.412648</td>\n",
              "      <td>0.450986</td>\n",
              "      <td>1.007326</td>\n",
              "      <td>1.088965</td>\n",
              "      <td>1.105503</td>\n",
              "      <td>1.077054</td>\n",
              "    </tr>\n",
              "    <tr>\n",
              "      <th>min</th>\n",
              "      <td>1.0</td>\n",
              "      <td>0.000000</td>\n",
              "      <td>0.000000</td>\n",
              "      <td>1.000000</td>\n",
              "      <td>1.000000</td>\n",
              "      <td>1.000000</td>\n",
              "      <td>1.000000</td>\n",
              "    </tr>\n",
              "    <tr>\n",
              "      <th>25%</th>\n",
              "      <td>1.0</td>\n",
              "      <td>0.000000</td>\n",
              "      <td>0.000000</td>\n",
              "      <td>3.000000</td>\n",
              "      <td>3.000000</td>\n",
              "      <td>3.000000</td>\n",
              "      <td>3.000000</td>\n",
              "    </tr>\n",
              "    <tr>\n",
              "      <th>50%</th>\n",
              "      <td>1.0</td>\n",
              "      <td>0.000000</td>\n",
              "      <td>1.000000</td>\n",
              "      <td>4.000000</td>\n",
              "      <td>4.000000</td>\n",
              "      <td>4.000000</td>\n",
              "      <td>4.000000</td>\n",
              "    </tr>\n",
              "    <tr>\n",
              "      <th>75%</th>\n",
              "      <td>1.0</td>\n",
              "      <td>0.000000</td>\n",
              "      <td>1.000000</td>\n",
              "      <td>5.000000</td>\n",
              "      <td>4.000000</td>\n",
              "      <td>4.000000</td>\n",
              "      <td>4.000000</td>\n",
              "    </tr>\n",
              "    <tr>\n",
              "      <th>max</th>\n",
              "      <td>1.0</td>\n",
              "      <td>1.000000</td>\n",
              "      <td>1.000000</td>\n",
              "      <td>5.000000</td>\n",
              "      <td>5.000000</td>\n",
              "      <td>5.000000</td>\n",
              "      <td>5.000000</td>\n",
              "    </tr>\n",
              "  </tbody>\n",
              "</table>\n",
              "</div>"
            ],
            "text/plain": [
              "       Você trabalhou de casa durante a pandemia?  ...  Como foi sua experiência em trabalhar de casa?\n",
              "count                                       153.0  ...                                      153.000000\n",
              "mean                                          1.0  ...                                        3.660131\n",
              "std                                           0.0  ...                                        1.077054\n",
              "min                                           1.0  ...                                        1.000000\n",
              "25%                                           1.0  ...                                        3.000000\n",
              "50%                                           1.0  ...                                        4.000000\n",
              "75%                                           1.0  ...                                        4.000000\n",
              "max                                           1.0  ...                                        5.000000\n",
              "\n",
              "[8 rows x 7 columns]"
            ]
          },
          "metadata": {
            "tags": []
          }
        }
      ]
    },
    {
      "cell_type": "code",
      "metadata": {
        "colab": {
          "base_uri": "https://localhost:8080/"
        },
        "id": "z_b3gkFq-Qrf",
        "outputId": "6997b842-982f-44b0-93bf-e159fb113f2e"
      },
      "source": [
        "filtroneutro = dados_df.loc[dados_df['Como você avalia o seu foco durante o trabalho de Home Office?'] == 3]\n",
        "filtrobom = dados_df.loc[dados_df['Como você avalia o seu foco durante o trabalho de Home Office?'] > 3]\n",
        "filtroruim = dados_df.loc[dados_df['Como você avalia o seu foco durante o trabalho de Home Office?'] < 3]\n",
        "neutras = filtroneutro['Como você avalia o seu foco durante o trabalho de Home Office?'].count()\n",
        "bom = filtrobom['Como você avalia o seu foco durante o trabalho de Home Office?'].count()\n",
        "ruim = filtroruim['Como você avalia o seu foco durante o trabalho de Home Office?'].count()\n",
        "resposta = ruim, neutras, bom\n",
        "resposta"
      ],
      "execution_count": null,
      "outputs": [
        {
          "output_type": "execute_result",
          "data": {
            "text/plain": [
              "(36, 39, 78)"
            ]
          },
          "metadata": {
            "tags": []
          },
          "execution_count": 72
        }
      ]
    },
    {
      "cell_type": "code",
      "metadata": {
        "colab": {
          "base_uri": "https://localhost:8080/",
          "height": 320
        },
        "id": "Ut7eaj7B-4Kd",
        "outputId": "0c9c45ae-3992-489c-d9c5-d2784476d835"
      },
      "source": [
        "grupos = ['Ruim', 'Neutro', 'Bom']\n",
        "plt.bar(grupos, resposta)\n",
        "plt.show()"
      ],
      "execution_count": 141,
      "outputs": [
        {
          "output_type": "display_data",
          "data": {
            "image/png": "[encoded data removed]",
            "text/plain": [
              "<Figure size 720x360 with 1 Axes>"
            ]
          },
          "metadata": {
            "tags": [],
            "needs_background": "light"
          }
        }
      ]
    },
    {
      "cell_type": "code",
      "metadata": {
        "colab": {
          "base_uri": "https://localhost:8080/",
          "height": 367
        },
        "id": "ZfYh2UKPcNgy",
        "outputId": "6f565698-7789-4778-b288-ec4342c712ee"
      },
      "source": [
        "foco = dados_df['Como você avalia o seu foco durante o trabalho de Home Office?']\n",
        "\n",
        "dados_df2 = dados_df.drop(columns=['Qual sua Idade?','Você trabalhou de casa durante a pandemia?','Você já exercia esse modelo de trabalho?','Você se vê e/ou pretende trabalhar remotamente no futuro?'])\n",
        "graf=dados_df2.groupby(foco).mean().plot(grid=True)\n",
        "\n",
        "#Alterei a legenda para se tornar mais legível\n",
        "graf.legend([\"Adaptação\", \"Produtividade\", \"Foco\", \"Experiência\"])\n",
        "graf.set(title=\"Agrupamento Foco\")"
      ],
      "execution_count": null,
      "outputs": [
        {
          "output_type": "execute_result",
          "data": {
            "text/plain": [
              "[Text(0.5, 1.0, 'Agrupamento Foco')]"
            ]
          },
          "metadata": {
            "tags": []
          },
          "execution_count": 75
        },
        {
          "output_type": "display_data",
          "data": {
            "image/png": "[encoded data removed]",
            "text/plain": [
              "<Figure size 1440x360 with 1 Axes>"
            ]
          },
          "metadata": {
            "tags": [],
            "needs_background": "light"
          }
        }
      ]
    },
    {
      "cell_type": "markdown",
      "metadata": {
        "id": "PychjGF2KAV9"
      },
      "source": [
        "\n",
        "\n",
        "## **Saúde Mental**\n",
        "\n",
        "Após a analise do foco e produtividade em HomeOffice, partimos para o estudo da saúde mental do pessoal que respondeu a pesquisa. Abaixo seguem algumas analises feitas em cima de pergutas com cunho de estresse e fadiga, tendo como principal base para o estudo as perguntas dispostas abaixo:\n",
        "\n",
        "\n",
        "*   Como você avalia o seu nível de fadiga (Cansaço excessivo) durante o trabalho de Home Office?\n",
        "*   Como você avalia o seu nível de estresse durante o trabalho de Home Office?\n",
        "*   Como foi sua experiência em trabalhar em casa?\n",
        "\n"
      ]
    },
    {
      "cell_type": "code",
      "metadata": {
        "id": "Ko_zNrvRKA-B",
        "colab": {
          "base_uri": "https://localhost:8080/",
          "height": 306
        },
        "outputId": "6f1555f1-0476-4c61-b16b-f50128a05a73"
      },
      "source": [
        "import pandas as pd\n",
        "import matplotlib as matplt\n",
        "\n",
        "matplt.rcParams[\"figure.figsize\"] = (10, 5)\n",
        "\n",
        "respostas = 'https://github.com/vittoria-thomasini/comportment-analytics-covid19/blob/main/Planilhas/Saude%20mental.csv?raw=true'\n",
        "dados = pd.read_csv(respostas,  delimiter=';' )\n",
        "\n",
        "idade = dados['Qual sua Idade?']\n",
        "pandemia = dados['Você trabalhou de casa durante a pandemia?']\n",
        "futuro = dados['Você se vê e/ou pretende trabalhar remotamente no futuro?']\n",
        "fadiga = dados['Como você avalia o seu nível de fadiga (Cansaço excessivo) durante o trabalho de Home Office?']\n",
        "estresse = dados['Como você avalia o seu nível de estresse durante o trabalho de Home Office?']\n",
        "experiencia = dados['Como foi sua experiência em trabalhar de casa?']\n",
        "\n",
        "dados = dados.replace('Sim', 1)\n",
        "dados = dados.replace('Não', 0)\n",
        "dados.head()"
      ],
      "execution_count": 148,
      "outputs": [
        {
          "output_type": "execute_result",
          "data": {
            "text/html": [
              "<div>\n",
              "<style scoped>\n",
              "    .dataframe tbody tr th:only-of-type {\n",
              "        vertical-align: middle;\n",
              "    }\n",
              "\n",
              "    .dataframe tbody tr th {\n",
              "        vertical-align: top;\n",
              "    }\n",
              "\n",
              "    .dataframe thead th {\n",
              "        text-align: right;\n",
              "    }\n",
              "</style>\n",
              "<table border=\"1\" class=\"dataframe\">\n",
              "  <thead>\n",
              "    <tr style=\"text-align: right;\">\n",
              "      <th></th>\n",
              "      <th>Qual sua Idade?</th>\n",
              "      <th>Você trabalhou de casa durante a pandemia?</th>\n",
              "      <th>Você se vê e/ou pretende trabalhar remotamente no futuro?</th>\n",
              "      <th>Como você avalia o seu nível de fadiga (Cansaço excessivo) durante o trabalho de Home Office?</th>\n",
              "      <th>Como você avalia o seu nível de estresse durante o trabalho de Home Office?</th>\n",
              "      <th>Como foi sua experiência em trabalhar de casa?</th>\n",
              "    </tr>\n",
              "  </thead>\n",
              "  <tbody>\n",
              "    <tr>\n",
              "      <th>0</th>\n",
              "      <td>Entre 18 e 25 anos</td>\n",
              "      <td>1</td>\n",
              "      <td>1</td>\n",
              "      <td>3</td>\n",
              "      <td>3</td>\n",
              "      <td>5</td>\n",
              "    </tr>\n",
              "    <tr>\n",
              "      <th>1</th>\n",
              "      <td>Entre 18 e 25 anos</td>\n",
              "      <td>1</td>\n",
              "      <td>0</td>\n",
              "      <td>3</td>\n",
              "      <td>3</td>\n",
              "      <td>3</td>\n",
              "    </tr>\n",
              "    <tr>\n",
              "      <th>2</th>\n",
              "      <td>Entre 18 e 25 anos</td>\n",
              "      <td>1</td>\n",
              "      <td>0</td>\n",
              "      <td>5</td>\n",
              "      <td>4</td>\n",
              "      <td>4</td>\n",
              "    </tr>\n",
              "    <tr>\n",
              "      <th>3</th>\n",
              "      <td>Entre 18 e 25 anos</td>\n",
              "      <td>1</td>\n",
              "      <td>1</td>\n",
              "      <td>5</td>\n",
              "      <td>3</td>\n",
              "      <td>3</td>\n",
              "    </tr>\n",
              "    <tr>\n",
              "      <th>4</th>\n",
              "      <td>Entre 18 e 25 anos</td>\n",
              "      <td>1</td>\n",
              "      <td>1</td>\n",
              "      <td>3</td>\n",
              "      <td>4</td>\n",
              "      <td>2</td>\n",
              "    </tr>\n",
              "  </tbody>\n",
              "</table>\n",
              "</div>"
            ],
            "text/plain": [
              "      Qual sua Idade?  ...  Como foi sua experiência em trabalhar de casa?\n",
              "0  Entre 18 e 25 anos  ...                                               5\n",
              "1  Entre 18 e 25 anos  ...                                               3\n",
              "2  Entre 18 e 25 anos  ...                                               4\n",
              "3  Entre 18 e 25 anos  ...                                               3\n",
              "4  Entre 18 e 25 anos  ...                                               2\n",
              "\n",
              "[5 rows x 6 columns]"
            ]
          },
          "metadata": {
            "tags": []
          },
          "execution_count": 148
        }
      ]
    },
    {
      "cell_type": "code",
      "metadata": {
        "colab": {
          "base_uri": "https://localhost:8080/"
        },
        "id": "HtNEEzyXAgaN",
        "outputId": "7a0025d4-6652-4e0d-866c-8b6814a95b1d"
      },
      "source": [
        "#Quantidade de valores não nulos\n",
        "dados.count()"
      ],
      "execution_count": 146,
      "outputs": [
        {
          "output_type": "execute_result",
          "data": {
            "text/plain": [
              "Qual sua Idade?                                                                                  153\n",
              "Você trabalhou de casa durante a pandemia?                                                       153\n",
              "Você se vê e/ou pretende trabalhar remotamente no futuro?                                        153\n",
              "Como você avalia o seu nível de fadiga (Cansaço excessivo) durante o trabalho de Home Office?    153\n",
              "Como você avalia o seu nível de estresse durante o trabalho de Home Office?                      153\n",
              "Como foi sua experiência em trabalhar de casa?                                                   153\n",
              "dtype: int64"
            ]
          },
          "metadata": {
            "tags": []
          },
          "execution_count": 146
        }
      ]
    },
    {
      "cell_type": "markdown",
      "metadata": {
        "id": "gRq1aOhcaM1J"
      },
      "source": [
        "Como todos os entrevistados responderam que trabalharam durante a pandemia em casa foi optado por desconsiderá-la."
      ]
    },
    {
      "cell_type": "code",
      "metadata": {
        "colab": {
          "base_uri": "https://localhost:8080/",
          "height": 323
        },
        "id": "MG7TYcHcaZ8W",
        "outputId": "fd5e71c2-5b10-40f7-a039-7823acacdb0f"
      },
      "source": [
        "dados = dados.drop(columns=['Você trabalhou de casa durante a pandemia?'])\n",
        "dados.head()"
      ],
      "execution_count": null,
      "outputs": [
        {
          "output_type": "execute_result",
          "data": {
            "text/html": [
              "<div>\n",
              "<style scoped>\n",
              "    .dataframe tbody tr th:only-of-type {\n",
              "        vertical-align: middle;\n",
              "    }\n",
              "\n",
              "    .dataframe tbody tr th {\n",
              "        vertical-align: top;\n",
              "    }\n",
              "\n",
              "    .dataframe thead th {\n",
              "        text-align: right;\n",
              "    }\n",
              "</style>\n",
              "<table border=\"1\" class=\"dataframe\">\n",
              "  <thead>\n",
              "    <tr style=\"text-align: right;\">\n",
              "      <th></th>\n",
              "      <th>Qual sua Idade?</th>\n",
              "      <th>Você se vê e/ou pretende trabalhar remotamente no futuro?</th>\n",
              "      <th>Como você avalia o seu nível de fadiga (Cansaço excessivo) durante o trabalho de Home Office?</th>\n",
              "      <th>Como você avalia o seu nível de estresse durante o trabalho de Home Office?</th>\n",
              "      <th>Como foi sua experiência em trabalhar de casa?</th>\n",
              "    </tr>\n",
              "  </thead>\n",
              "  <tbody>\n",
              "    <tr>\n",
              "      <th>0</th>\n",
              "      <td>Entre 18 e 25 anos</td>\n",
              "      <td>1</td>\n",
              "      <td>3</td>\n",
              "      <td>3</td>\n",
              "      <td>5</td>\n",
              "    </tr>\n",
              "    <tr>\n",
              "      <th>1</th>\n",
              "      <td>Entre 18 e 25 anos</td>\n",
              "      <td>0</td>\n",
              "      <td>3</td>\n",
              "      <td>3</td>\n",
              "      <td>3</td>\n",
              "    </tr>\n",
              "    <tr>\n",
              "      <th>2</th>\n",
              "      <td>Entre 18 e 25 anos</td>\n",
              "      <td>0</td>\n",
              "      <td>5</td>\n",
              "      <td>4</td>\n",
              "      <td>4</td>\n",
              "    </tr>\n",
              "    <tr>\n",
              "      <th>3</th>\n",
              "      <td>Entre 18 e 25 anos</td>\n",
              "      <td>1</td>\n",
              "      <td>5</td>\n",
              "      <td>3</td>\n",
              "      <td>3</td>\n",
              "    </tr>\n",
              "    <tr>\n",
              "      <th>4</th>\n",
              "      <td>Entre 18 e 25 anos</td>\n",
              "      <td>1</td>\n",
              "      <td>3</td>\n",
              "      <td>4</td>\n",
              "      <td>2</td>\n",
              "    </tr>\n",
              "  </tbody>\n",
              "</table>\n",
              "</div>"
            ],
            "text/plain": [
              "      Qual sua Idade?  ...  Como foi sua experiência em trabalhar de casa?\n",
              "0  Entre 18 e 25 anos  ...                                               5\n",
              "1  Entre 18 e 25 anos  ...                                               3\n",
              "2  Entre 18 e 25 anos  ...                                               4\n",
              "3  Entre 18 e 25 anos  ...                                               3\n",
              "4  Entre 18 e 25 anos  ...                                               2\n",
              "\n",
              "[5 rows x 5 columns]"
            ]
          },
          "metadata": {
            "tags": []
          },
          "execution_count": 23
        }
      ]
    },
    {
      "cell_type": "code",
      "metadata": {
        "colab": {
          "base_uri": "https://localhost:8080/",
          "height": 331
        },
        "id": "qitWNMRDGNss",
        "outputId": "9c9454cd-09b4-434b-daa8-fe96a0f331b9"
      },
      "source": [
        "display(dados.describe())"
      ],
      "execution_count": null,
      "outputs": [
        {
          "output_type": "display_data",
          "data": {
            "text/html": [
              "<div>\n",
              "<style scoped>\n",
              "    .dataframe tbody tr th:only-of-type {\n",
              "        vertical-align: middle;\n",
              "    }\n",
              "\n",
              "    .dataframe tbody tr th {\n",
              "        vertical-align: top;\n",
              "    }\n",
              "\n",
              "    .dataframe thead th {\n",
              "        text-align: right;\n",
              "    }\n",
              "</style>\n",
              "<table border=\"1\" class=\"dataframe\">\n",
              "  <thead>\n",
              "    <tr style=\"text-align: right;\">\n",
              "      <th></th>\n",
              "      <th>Você se vê e/ou pretende trabalhar remotamente no futuro?</th>\n",
              "      <th>Como você avalia o seu nível de fadiga (Cansaço excessivo) durante o trabalho de Home Office?</th>\n",
              "      <th>Como você avalia o seu nível de estresse durante o trabalho de Home Office?</th>\n",
              "      <th>Como foi sua experiência em trabalhar de casa?</th>\n",
              "    </tr>\n",
              "  </thead>\n",
              "  <tbody>\n",
              "    <tr>\n",
              "      <th>count</th>\n",
              "      <td>153.000000</td>\n",
              "      <td>153.000000</td>\n",
              "      <td>153.000000</td>\n",
              "      <td>153.000000</td>\n",
              "    </tr>\n",
              "    <tr>\n",
              "      <th>mean</th>\n",
              "      <td>0.718954</td>\n",
              "      <td>3.117647</td>\n",
              "      <td>3.196078</td>\n",
              "      <td>3.660131</td>\n",
              "    </tr>\n",
              "    <tr>\n",
              "      <th>std</th>\n",
              "      <td>0.450986</td>\n",
              "      <td>1.031996</td>\n",
              "      <td>1.135891</td>\n",
              "      <td>1.077054</td>\n",
              "    </tr>\n",
              "    <tr>\n",
              "      <th>min</th>\n",
              "      <td>0.000000</td>\n",
              "      <td>1.000000</td>\n",
              "      <td>1.000000</td>\n",
              "      <td>1.000000</td>\n",
              "    </tr>\n",
              "    <tr>\n",
              "      <th>25%</th>\n",
              "      <td>0.000000</td>\n",
              "      <td>2.000000</td>\n",
              "      <td>2.000000</td>\n",
              "      <td>3.000000</td>\n",
              "    </tr>\n",
              "    <tr>\n",
              "      <th>50%</th>\n",
              "      <td>1.000000</td>\n",
              "      <td>3.000000</td>\n",
              "      <td>3.000000</td>\n",
              "      <td>4.000000</td>\n",
              "    </tr>\n",
              "    <tr>\n",
              "      <th>75%</th>\n",
              "      <td>1.000000</td>\n",
              "      <td>4.000000</td>\n",
              "      <td>4.000000</td>\n",
              "      <td>4.000000</td>\n",
              "    </tr>\n",
              "    <tr>\n",
              "      <th>max</th>\n",
              "      <td>1.000000</td>\n",
              "      <td>5.000000</td>\n",
              "      <td>5.000000</td>\n",
              "      <td>5.000000</td>\n",
              "    </tr>\n",
              "  </tbody>\n",
              "</table>\n",
              "</div>"
            ],
            "text/plain": [
              "       Você se vê e/ou pretende trabalhar remotamente no futuro?  ...  Como foi sua experiência em trabalhar de casa?\n",
              "count                                         153.000000          ...                                      153.000000\n",
              "mean                                            0.718954          ...                                        3.660131\n",
              "std                                             0.450986          ...                                        1.077054\n",
              "min                                             0.000000          ...                                        1.000000\n",
              "25%                                             0.000000          ...                                        3.000000\n",
              "50%                                             1.000000          ...                                        4.000000\n",
              "75%                                             1.000000          ...                                        4.000000\n",
              "max                                             1.000000          ...                                        5.000000\n",
              "\n",
              "[8 rows x 4 columns]"
            ]
          },
          "metadata": {
            "tags": []
          }
        }
      ]
    },
    {
      "cell_type": "markdown",
      "metadata": {
        "id": "s1zxsHfbBUus"
      },
      "source": [
        "Por termos o resultado de 75% do entrevistados pretenderem trabalhar remotamente no futuro declararam que em grande maioria seu nível de fadiga foi muito bom , ou seja, baixa ou aceitável e seu nível de estresse também, o que podemos constatar avaliando que os entrevistados declararam que a sua experiência trabalhando em Home Office foi marjoritariamente muito boa."
      ]
    },
    {
      "cell_type": "code",
      "metadata": {
        "colab": {
          "base_uri": "https://localhost:8080/"
        },
        "id": "Orew2xwN16L8",
        "outputId": "809a523c-0199-4d53-b732-9228104293f8"
      },
      "source": [
        "futuro.value_counts()"
      ],
      "execution_count": null,
      "outputs": [
        {
          "output_type": "execute_result",
          "data": {
            "text/plain": [
              "Sim    110\n",
              "Não     43\n",
              "Name: Você se vê e/ou pretende trabalhar remotamente no futuro?, dtype: int64"
            ]
          },
          "metadata": {
            "tags": []
          },
          "execution_count": 34
        }
      ]
    },
    {
      "cell_type": "code",
      "metadata": {
        "colab": {
          "base_uri": "https://localhost:8080/",
          "height": 332
        },
        "id": "fS99Xmr-YEmS",
        "outputId": "c831db55-1cc0-489e-9767-7a93b0bb714c"
      },
      "source": [
        "futuro.value_counts().plot.pie(autopct='%1.1f%%');"
      ],
      "execution_count": 154,
      "outputs": [
        {
          "output_type": "display_data",
          "data": {
            "image/png": "[encoded data removed]",
            "text/plain": [
              "<Figure size 720x360 with 1 Axes>"
            ]
          },
          "metadata": {
            "tags": []
          }
        }
      ]
    },
    {
      "cell_type": "code",
      "metadata": {
        "colab": {
          "base_uri": "https://localhost:8080/",
          "height": 1000
        },
        "id": "qJuISzT2QOWV",
        "outputId": "b57e13a3-319f-47ed-c5ca-9cd7fa3406c3"
      },
      "source": [
        "dados.groupby(fadiga).count().plot(legend=False, grid=True, color='green',title='Nível de fadiga' );\n",
        "\n",
        "dados.groupby(estresse).count().plot(legend=False, grid=True, color='red', title='Nível de estresse');\n",
        "\n",
        "dados.groupby(experiencia).count().plot(legend=False, grid=True, color='purple', title='Avaliação da experiência');\n",
        "\n",
        "compara = dados.groupby(idade).mean().plot();\n",
        "\n",
        "compara.legend([\"No futuro pretende HO\", \"Fadiga\", \"Estresse\", \"Experiência\"]);"
      ],
      "execution_count": 178,
      "outputs": [
        {
          "output_type": "display_data",
          "data": {
            "image/png": "[encoded data removed]",
            "text/plain": [
              "<Figure size 720x360 with 1 Axes>"
            ]
          },
          "metadata": {
            "tags": [],
            "needs_background": "light"
          }
        },
        {
          "output_type": "display_data",
          "data": {
            "image/png": "[encoded data removed]",
            "text/plain": [
              "<Figure size 720x360 with 1 Axes>"
            ]
          },
          "metadata": {
            "tags": [],
            "needs_background": "light"
          }
        },
        {
          "output_type": "display_data",
          "data": {
            "image/png": "[encoded data removed]",
            "text/plain": [
              "<Figure size 720x360 with 1 Axes>"
            ]
          },
          "metadata": {
            "tags": [],
            "needs_background": "light"
          }
        },
        {
          "output_type": "display_data",
          "data": {
            "image/png": "[encoded data removed]",
            "text/plain": [
              "<Figure size 720x360 with 1 Axes>"
            ]
          },
          "metadata": {
            "tags": [],
            "needs_background": "light"
          }
        }
      ]
    },
    {
      "cell_type": "code",
      "metadata": {
        "colab": {
          "base_uri": "https://localhost:8080/",
          "height": 514
        },
        "id": "OQJ8hzBCEle-",
        "outputId": "d3522a59-8279-4913-c63d-df576bdceb44"
      },
      "source": [
        "#@title Percentagem de Nível de Fadiga\n",
        "explode = (0.1, 0, 0, 0, 0) \n",
        "fadiga.value_counts().plot.pie(autopct='%1.1f%%', explode=explode );"
      ],
      "execution_count": 192,
      "outputs": [
        {
          "output_type": "display_data",
          "data": {
            "image/png": "[encoded data removed]",
            "text/plain": [
              "<Figure size 720x360 with 1 Axes>"
            ]
          },
          "metadata": {
            "tags": []
          }
        }
      ]
    },
    {
      "cell_type": "code",
      "metadata": {
        "colab": {
          "base_uri": "https://localhost:8080/",
          "height": 419
        },
        "id": "NV6gfVouGoRl",
        "outputId": "9a953ec1-a686-4201-a9f1-77f2af802a27"
      },
      "source": [
        "#@title Percentagem de Nível de Estresse\n",
        "explode = (0.1, 0, 0, 0, 0) \n",
        "estresse.value_counts().plot.pie(autopct='%1.1f%%', explode=explode);"
      ],
      "execution_count": 193,
      "outputs": [
        {
          "output_type": "display_data",
          "data": {
            "image/png": "[encoded data removed]",
            "text/plain": [
              "<Figure size 720x360 with 1 Axes>"
            ]
          },
          "metadata": {
            "tags": []
          }
        }
      ]
    },
    {
      "cell_type": "code",
      "metadata": {
        "colab": {
          "base_uri": "https://localhost:8080/",
          "height": 303
        },
        "id": "FJWl2AaSG-Ay",
        "outputId": "9144bce0-c6a6-4100-a9c0-b19ee15a4056"
      },
      "source": [
        "#@title Percentagem de Avaliação de Experiência\n",
        "explode = (0.1, 0, 0, 0, 0) \n",
        "experiencia.value_counts().plot.pie(autopct='%1.1f%%', explode=explode);"
      ],
      "execution_count": 194,
      "outputs": [
        {
          "output_type": "display_data",
          "data": {
            "image/png": "[encoded data removed]",
            "text/plain": [
              "<Figure size 720x360 with 1 Axes>"
            ]
          },
          "metadata": {
            "tags": []
          }
        }
      ]
    },
    {
      "cell_type": "markdown",
      "metadata": {
        "id": "Q2TDMpk8xiQ8"
      },
      "source": [
        "## **Relação do trabalhador com a empresa**\n",
        "\n",
        "Nesta seção voltamos nossas atenções para o auxilio que as empresas deram nessa migração do ambiente presencial para o ambiente de home office. Diante disso, questões como suporte e convivência são analisadas abaixo, tendo como principais pergutas:\n",
        "\n",
        "*   Como você avalia o suporte/auxílio que a sua empresa prestou durante o trabalho de Home Office?\t\n",
        "*   Como você avalia o entrosamento com seus colegas de trabalho durante Home Office?\t\n",
        "*   Você se vê e/ou pretende trabalhar remotamente no futuro?\t\n",
        "\n"
      ]
    },
    {
      "cell_type": "code",
      "metadata": {
        "id": "sWIts3gqxtZe",
        "colab": {
          "base_uri": "https://localhost:8080/",
          "height": 340
        },
        "outputId": "7b2d4f0d-b000-4779-a48f-224130349fc9"
      },
      "source": [
        "import pandas as pd\n",
        "import matplotlib.pyplot as plt\n",
        "\n",
        "respostasgu = pd.read_csv('https://raw.githubusercontent.com/vittoria-thomasini/comportment-analytics-covid19/main/Planilhas/Empresa.csv', delimiter = ';')\n",
        "respostasgu.head()"
      ],
      "execution_count": 195,
      "outputs": [
        {
          "output_type": "execute_result",
          "data": {
            "text/html": [
              "<div>\n",
              "<style scoped>\n",
              "    .dataframe tbody tr th:only-of-type {\n",
              "        vertical-align: middle;\n",
              "    }\n",
              "\n",
              "    .dataframe tbody tr th {\n",
              "        vertical-align: top;\n",
              "    }\n",
              "\n",
              "    .dataframe thead th {\n",
              "        text-align: right;\n",
              "    }\n",
              "</style>\n",
              "<table border=\"1\" class=\"dataframe\">\n",
              "  <thead>\n",
              "    <tr style=\"text-align: right;\">\n",
              "      <th></th>\n",
              "      <th>Qual sua Idade?</th>\n",
              "      <th>Você trabalhou de casa durante a pandemia?</th>\n",
              "      <th>Você já exercia esse modelo de trabalho?</th>\n",
              "      <th>Você sente que sua carga de trabalho aumentou durante o trabalho de casa?</th>\n",
              "      <th>Por conta do home office você trabalhou mais do que a sua carga horária contratual?</th>\n",
              "      <th>Você se vê e/ou pretende trabalhar remotamente no futuro?</th>\n",
              "      <th>Como você avalia o suporte/auxílio que a sua empresa prestou durante o trabalho de Home Office?</th>\n",
              "      <th>Como você avalia o entrosamento com seus colegas de trabalho durante Home Office?</th>\n",
              "      <th>Como foi sua experiência em trabalhar de casa?</th>\n",
              "    </tr>\n",
              "  </thead>\n",
              "  <tbody>\n",
              "    <tr>\n",
              "      <th>0</th>\n",
              "      <td>Entre 18 e 25 anos</td>\n",
              "      <td>Sim</td>\n",
              "      <td>Não</td>\n",
              "      <td>Não</td>\n",
              "      <td>Não</td>\n",
              "      <td>Sim</td>\n",
              "      <td>3</td>\n",
              "      <td>4</td>\n",
              "      <td>5</td>\n",
              "    </tr>\n",
              "    <tr>\n",
              "      <th>1</th>\n",
              "      <td>Entre 18 e 25 anos</td>\n",
              "      <td>Sim</td>\n",
              "      <td>Não</td>\n",
              "      <td>Não</td>\n",
              "      <td>Não</td>\n",
              "      <td>Não</td>\n",
              "      <td>3</td>\n",
              "      <td>3</td>\n",
              "      <td>3</td>\n",
              "    </tr>\n",
              "    <tr>\n",
              "      <th>2</th>\n",
              "      <td>Entre 18 e 25 anos</td>\n",
              "      <td>Sim</td>\n",
              "      <td>Não</td>\n",
              "      <td>Sim</td>\n",
              "      <td>Sim</td>\n",
              "      <td>Não</td>\n",
              "      <td>5</td>\n",
              "      <td>5</td>\n",
              "      <td>4</td>\n",
              "    </tr>\n",
              "    <tr>\n",
              "      <th>3</th>\n",
              "      <td>Entre 18 e 25 anos</td>\n",
              "      <td>Sim</td>\n",
              "      <td>Não</td>\n",
              "      <td>Não</td>\n",
              "      <td>Não</td>\n",
              "      <td>Sim</td>\n",
              "      <td>3</td>\n",
              "      <td>2</td>\n",
              "      <td>3</td>\n",
              "    </tr>\n",
              "    <tr>\n",
              "      <th>4</th>\n",
              "      <td>Entre 18 e 25 anos</td>\n",
              "      <td>Sim</td>\n",
              "      <td>Não</td>\n",
              "      <td>Sim</td>\n",
              "      <td>Sim</td>\n",
              "      <td>Sim</td>\n",
              "      <td>5</td>\n",
              "      <td>4</td>\n",
              "      <td>2</td>\n",
              "    </tr>\n",
              "  </tbody>\n",
              "</table>\n",
              "</div>"
            ],
            "text/plain": [
              "      Qual sua Idade?  ... Como foi sua experiência em trabalhar de casa?\n",
              "0  Entre 18 e 25 anos  ...                                              5\n",
              "1  Entre 18 e 25 anos  ...                                              3\n",
              "2  Entre 18 e 25 anos  ...                                              4\n",
              "3  Entre 18 e 25 anos  ...                                              3\n",
              "4  Entre 18 e 25 anos  ...                                              2\n",
              "\n",
              "[5 rows x 9 columns]"
            ]
          },
          "metadata": {
            "tags": []
          },
          "execution_count": 195
        }
      ]
    },
    {
      "cell_type": "markdown",
      "metadata": {
        "id": "fUiOryXodnh0"
      },
      "source": [
        "- Abaixo subistutimos todas as respostas de \"Sim\" e \"Não\" por 0 e 1, considerando que respostas \"Sim\" correspondem a 1 e respostas \"Não\" correspodem a 0. Fizemos isso pois fica mais fácil de tratar os dados com números apenas."
      ]
    },
    {
      "cell_type": "code",
      "metadata": {
        "colab": {
          "base_uri": "https://localhost:8080/",
          "height": 340
        },
        "id": "-LH7GB5kEIMN",
        "outputId": "45f2d776-eede-4fc2-f4b3-4e8b0137c3bf"
      },
      "source": [
        "respostasgu = respostasgu.replace('Sim', 1)\n",
        "respostasgu = respostasgu.replace('Não', 0)\n",
        "respostasgu.head()  "
      ],
      "execution_count": 196,
      "outputs": [
        {
          "output_type": "execute_result",
          "data": {
            "text/html": [
              "<div>\n",
              "<style scoped>\n",
              "    .dataframe tbody tr th:only-of-type {\n",
              "        vertical-align: middle;\n",
              "    }\n",
              "\n",
              "    .dataframe tbody tr th {\n",
              "        vertical-align: top;\n",
              "    }\n",
              "\n",
              "    .dataframe thead th {\n",
              "        text-align: right;\n",
              "    }\n",
              "</style>\n",
              "<table border=\"1\" class=\"dataframe\">\n",
              "  <thead>\n",
              "    <tr style=\"text-align: right;\">\n",
              "      <th></th>\n",
              "      <th>Qual sua Idade?</th>\n",
              "      <th>Você trabalhou de casa durante a pandemia?</th>\n",
              "      <th>Você já exercia esse modelo de trabalho?</th>\n",
              "      <th>Você sente que sua carga de trabalho aumentou durante o trabalho de casa?</th>\n",
              "      <th>Por conta do home office você trabalhou mais do que a sua carga horária contratual?</th>\n",
              "      <th>Você se vê e/ou pretende trabalhar remotamente no futuro?</th>\n",
              "      <th>Como você avalia o suporte/auxílio que a sua empresa prestou durante o trabalho de Home Office?</th>\n",
              "      <th>Como você avalia o entrosamento com seus colegas de trabalho durante Home Office?</th>\n",
              "      <th>Como foi sua experiência em trabalhar de casa?</th>\n",
              "    </tr>\n",
              "  </thead>\n",
              "  <tbody>\n",
              "    <tr>\n",
              "      <th>0</th>\n",
              "      <td>Entre 18 e 25 anos</td>\n",
              "      <td>1</td>\n",
              "      <td>0</td>\n",
              "      <td>0</td>\n",
              "      <td>0</td>\n",
              "      <td>1</td>\n",
              "      <td>3</td>\n",
              "      <td>4</td>\n",
              "      <td>5</td>\n",
              "    </tr>\n",
              "    <tr>\n",
              "      <th>1</th>\n",
              "      <td>Entre 18 e 25 anos</td>\n",
              "      <td>1</td>\n",
              "      <td>0</td>\n",
              "      <td>0</td>\n",
              "      <td>0</td>\n",
              "      <td>0</td>\n",
              "      <td>3</td>\n",
              "      <td>3</td>\n",
              "      <td>3</td>\n",
              "    </tr>\n",
              "    <tr>\n",
              "      <th>2</th>\n",
              "      <td>Entre 18 e 25 anos</td>\n",
              "      <td>1</td>\n",
              "      <td>0</td>\n",
              "      <td>1</td>\n",
              "      <td>1</td>\n",
              "      <td>0</td>\n",
              "      <td>5</td>\n",
              "      <td>5</td>\n",
              "      <td>4</td>\n",
              "    </tr>\n",
              "    <tr>\n",
              "      <th>3</th>\n",
              "      <td>Entre 18 e 25 anos</td>\n",
              "      <td>1</td>\n",
              "      <td>0</td>\n",
              "      <td>0</td>\n",
              "      <td>0</td>\n",
              "      <td>1</td>\n",
              "      <td>3</td>\n",
              "      <td>2</td>\n",
              "      <td>3</td>\n",
              "    </tr>\n",
              "    <tr>\n",
              "      <th>4</th>\n",
              "      <td>Entre 18 e 25 anos</td>\n",
              "      <td>1</td>\n",
              "      <td>0</td>\n",
              "      <td>1</td>\n",
              "      <td>1</td>\n",
              "      <td>1</td>\n",
              "      <td>5</td>\n",
              "      <td>4</td>\n",
              "      <td>2</td>\n",
              "    </tr>\n",
              "  </tbody>\n",
              "</table>\n",
              "</div>"
            ],
            "text/plain": [
              "      Qual sua Idade?  ...  Como foi sua experiência em trabalhar de casa?\n",
              "0  Entre 18 e 25 anos  ...                                               5\n",
              "1  Entre 18 e 25 anos  ...                                               3\n",
              "2  Entre 18 e 25 anos  ...                                               4\n",
              "3  Entre 18 e 25 anos  ...                                               3\n",
              "4  Entre 18 e 25 anos  ...                                               2\n",
              "\n",
              "[5 rows x 9 columns]"
            ]
          },
          "metadata": {
            "tags": []
          },
          "execution_count": 196
        }
      ]
    },
    {
      "cell_type": "markdown",
      "metadata": {
        "id": "emV4KmFTednL"
      },
      "source": [
        "Gerando histogramas para cada uma das respostas relevantes do formulário."
      ]
    },
    {
      "cell_type": "code",
      "metadata": {
        "id": "uLiTnt6ffWze",
        "colab": {
          "base_uri": "https://localhost:8080/",
          "height": 1000
        },
        "outputId": "3d935282-f804-46f9-94e2-58916db905d7"
      },
      "source": [
        "respostasgu.hist(['Você já exercia esse modelo de trabalho?'])\n",
        "respostasgu.hist(['Você sente que sua carga de trabalho aumentou durante o trabalho de casa?'])\n",
        "respostasgu.hist(['Por conta do home office você trabalhou mais do que a sua carga horária contratual?'])\n",
        "respostasgu.hist(['Você se vê e/ou pretende trabalhar remotamente no futuro?'])"
      ],
      "execution_count": null,
      "outputs": [
        {
          "output_type": "execute_result",
          "data": {
            "text/plain": [
              "array([[<matplotlib.axes._subplots.AxesSubplot object at 0x7faddc1e5790>]],\n",
              "      dtype=object)"
            ]
          },
          "metadata": {
            "tags": []
          },
          "execution_count": 55
        },
        {
          "output_type": "display_data",
          "data": {
            "image/png": "[encoded data removed]",
            "text/plain": [
              "<Figure size 720x360 with 1 Axes>"
            ]
          },
          "metadata": {
            "tags": [],
            "needs_background": "light"
          }
        },
        {
          "output_type": "display_data",
          "data": {
            "image/png": "[encoded data removed]",
            "text/plain": [
              "<Figure size 720x360 with 1 Axes>"
            ]
          },
          "metadata": {
            "tags": [],
            "needs_background": "light"
          }
        },
        {
          "output_type": "display_data",
          "data": {
            "image/png": "[encoded data removed]",
            "text/plain": [
              "<Figure size 720x360 with 1 Axes>"
            ]
          },
          "metadata": {
            "tags": [],
            "needs_background": "light"
          }
        },
        {
          "output_type": "display_data",
          "data": {
            "image/png": "[encoded data removed]",
            "text/plain": [
              "<Figure size 720x360 with 1 Axes>"
            ]
          },
          "metadata": {
            "tags": [],
            "needs_background": "light"
          }
        }
      ]
    },
    {
      "cell_type": "markdown",
      "metadata": {
        "id": "RaYydMLlex1Q"
      },
      "source": [
        "Após ter uma base das respostas de \"Sim\" ou \"Não\", foram criados filtros em cima das respostas de 1 a 5, considerando respostas 1 e 2 como ruim, 3 como neutro e 4 e 5 como bom. Chegando assim num valor total de pessoas e suas respectivas notas para o entrosamento entre os colegas trabalhando de casa"
      ]
    },
    {
      "cell_type": "code",
      "metadata": {
        "colab": {
          "base_uri": "https://localhost:8080/"
        },
        "id": "p8ORC6L1kNfn",
        "outputId": "25234552-4516-40c6-cb44-15461a917b97"
      },
      "source": [
        "filtroneutro = respostasgu.loc[respostasgu['Como você avalia o entrosamento com seus colegas de trabalho durante Home Office?'] == 3]\n",
        "filtrobom = respostasgu.loc[respostasgu['Como você avalia o entrosamento com seus colegas de trabalho durante Home Office?'] > 3]\n",
        "filtroruim = respostasgu.loc[respostasgu['Como você avalia o entrosamento com seus colegas de trabalho durante Home Office?'] < 3]\n",
        "neutras = filtroneutro['Como você avalia o entrosamento com seus colegas de trabalho durante Home Office?'].count()\n",
        "bom = filtrobom['Como você avalia o entrosamento com seus colegas de trabalho durante Home Office?'].count()\n",
        "ruim = filtroruim['Como você avalia o entrosamento com seus colegas de trabalho durante Home Office?'].count()\n",
        "resposta = neutras, bom, ruim\n",
        "resposta"
      ],
      "execution_count": 197,
      "outputs": [
        {
          "output_type": "execute_result",
          "data": {
            "text/plain": [
              "(36, 81, 36)"
            ]
          },
          "metadata": {
            "tags": []
          },
          "execution_count": 197
        }
      ]
    },
    {
      "cell_type": "code",
      "metadata": {
        "colab": {
          "base_uri": "https://localhost:8080/",
          "height": 320
        },
        "id": "QoarsGc5cZNS",
        "outputId": "9205b998-e45e-497e-8a09-c6a250259548"
      },
      "source": [
        "grupos = ['Neutro', 'Bom', 'Ruim']\n",
        "plt.bar(grupos, resposta)\n",
        "plt.show()"
      ],
      "execution_count": 200,
      "outputs": [
        {
          "output_type": "display_data",
          "data": {
            "image/png": "[encoded data removed]",
            "text/plain": [
              "<Figure size 720x360 with 1 Axes>"
            ]
          },
          "metadata": {
            "tags": [],
            "needs_background": "light"
          }
        }
      ]
    },
    {
      "cell_type": "markdown",
      "metadata": {
        "id": "_dQOE2qVicRR"
      },
      "source": [
        "Da mesma forma que no entrosamento, usamos o mesmo código e conceitos para avaliar o auxilio/suporte da empresa."
      ]
    },
    {
      "cell_type": "code",
      "metadata": {
        "colab": {
          "base_uri": "https://localhost:8080/"
        },
        "id": "Ig_qXpBM5rNF",
        "outputId": "8e1ae98a-02bd-47f3-9f23-871834bd2255"
      },
      "source": [
        "filtroneutro = respostasgu.loc[respostasgu['Como você avalia o suporte/auxílio que a sua empresa prestou durante o trabalho de Home Office? '] == 3]\n",
        "filtrobom = respostasgu.loc[respostasgu['Como você avalia o suporte/auxílio que a sua empresa prestou durante o trabalho de Home Office? '] > 3]\n",
        "filtroruim = respostasgu.loc[respostasgu['Como você avalia o suporte/auxílio que a sua empresa prestou durante o trabalho de Home Office? '] < 3]\n",
        "neutras = filtroneutro['Como você avalia o suporte/auxílio que a sua empresa prestou durante o trabalho de Home Office? '].count()\n",
        "bom = filtrobom['Como você avalia o suporte/auxílio que a sua empresa prestou durante o trabalho de Home Office? '].count()\n",
        "ruim = filtroruim['Como você avalia o suporte/auxílio que a sua empresa prestou durante o trabalho de Home Office? '].count()\n",
        "resposta = neutras, bom, ruim\n",
        "resposta"
      ],
      "execution_count": null,
      "outputs": [
        {
          "output_type": "execute_result",
          "data": {
            "text/plain": [
              "(37, 83, 33)"
            ]
          },
          "metadata": {
            "tags": []
          },
          "execution_count": 6
        }
      ]
    },
    {
      "cell_type": "code",
      "metadata": {
        "colab": {
          "base_uri": "https://localhost:8080/",
          "height": 320
        },
        "id": "u_yvH9eKcs1n",
        "outputId": "0d0bcf40-fb08-4a13-88dc-ed7033d6f0ae"
      },
      "source": [
        "grupos = ['Neutro', 'Bom', 'Ruim']\n",
        "plt.bar(grupos, resposta)\n",
        "plt.show()"
      ],
      "execution_count": 201,
      "outputs": [
        {
          "output_type": "display_data",
          "data": {
            "image/png": "[encoded data removed]",
            "text/plain": [
              "<Figure size 720x360 with 1 Axes>"
            ]
          },
          "metadata": {
            "tags": [],
            "needs_background": "light"
          }
        }
      ]
    },
    {
      "cell_type": "markdown",
      "metadata": {
        "id": "AN_RXVFGVAeZ"
      },
      "source": [
        "## **Relação entre Idades e Respostas**\n",
        "\n",
        "Por fim, antes de analisarmos os dados gerais, concluimos que seria bom filtrar alguns dados com relação a idade do pessoal que trabalhou de casa. dessa forma o código e as correlações abaixo foram pensadas e geradas para corrobourar questões de idades. "
      ]
    },
    {
      "cell_type": "code",
      "metadata": {
        "id": "L-rBcgXqVUo7",
        "colab": {
          "base_uri": "https://localhost:8080/",
          "height": 510
        },
        "outputId": "2b91e4b1-1094-45a6-8341-fcdb3ff6c398"
      },
      "source": [
        "import pandas as pd\n",
        "\n",
        "respostas = pd.read_csv('https://github.com/vittoria-thomasini/comportment-analytics-covid19/blob/main/Planilhas/Idades.csv?raw=true', delimiter = ';')\n",
        "respostas.head()"
      ],
      "execution_count": 202,
      "outputs": [
        {
          "output_type": "execute_result",
          "data": {
            "text/html": [
              "<div>\n",
              "<style scoped>\n",
              "    .dataframe tbody tr th:only-of-type {\n",
              "        vertical-align: middle;\n",
              "    }\n",
              "\n",
              "    .dataframe tbody tr th {\n",
              "        vertical-align: top;\n",
              "    }\n",
              "\n",
              "    .dataframe thead th {\n",
              "        text-align: right;\n",
              "    }\n",
              "</style>\n",
              "<table border=\"1\" class=\"dataframe\">\n",
              "  <thead>\n",
              "    <tr style=\"text-align: right;\">\n",
              "      <th></th>\n",
              "      <th>Qual sua Idade?</th>\n",
              "      <th>Você trabalhou de casa durante a pandemia?</th>\n",
              "      <th>Seu trabalho permite o modelo Home Office?</th>\n",
              "      <th>Você se vê e/ou gostaria de trabalhar remotamente no futuro?</th>\n",
              "      <th>Você já exercia esse modelo de trabalho?</th>\n",
              "      <th>Você sente que sua carga de trabalho aumentou durante o trabalho de casa?</th>\n",
              "      <th>Por conta do home office você trabalhou mais do que a sua carga horária contratual?</th>\n",
              "      <th>Você se vê e/ou pretende trabalhar remotamente no futuro?</th>\n",
              "      <th>Como você avalia sua adaptação ao Home Office?</th>\n",
              "      <th>Como você avalia a sua produtividade durante a pandemia?</th>\n",
              "      <th>Como você avalia o seu foco durante o trabalho de Home Office?</th>\n",
              "      <th>Como você avalia o seu nível de fadiga (Cansaço excessivo) durante o trabalho de Home Office?</th>\n",
              "      <th>Como você avalia o seu nível de estresse durante o trabalho de Home Office?</th>\n",
              "      <th>Como você avalia o suporte/auxílio que a sua empresa prestou durante o trabalho de Home Office?</th>\n",
              "      <th>Como você avalia o entrosamento com seus colegas de trabalho durante Home Office?</th>\n",
              "      <th>Como foi sua experiência em trabalhar de casa?</th>\n",
              "    </tr>\n",
              "  </thead>\n",
              "  <tbody>\n",
              "    <tr>\n",
              "      <th>0</th>\n",
              "      <td>Entre 18 e 25 anos</td>\n",
              "      <td>Não</td>\n",
              "      <td>Sim</td>\n",
              "      <td>Sim</td>\n",
              "      <td>NaN</td>\n",
              "      <td>NaN</td>\n",
              "      <td>NaN</td>\n",
              "      <td>NaN</td>\n",
              "      <td>NaN</td>\n",
              "      <td>NaN</td>\n",
              "      <td>NaN</td>\n",
              "      <td>NaN</td>\n",
              "      <td>NaN</td>\n",
              "      <td>NaN</td>\n",
              "      <td>NaN</td>\n",
              "      <td>NaN</td>\n",
              "    </tr>\n",
              "    <tr>\n",
              "      <th>1</th>\n",
              "      <td>Entre 18 e 25 anos</td>\n",
              "      <td>Sim</td>\n",
              "      <td>NaN</td>\n",
              "      <td>NaN</td>\n",
              "      <td>Não</td>\n",
              "      <td>Não</td>\n",
              "      <td>Não</td>\n",
              "      <td>Sim</td>\n",
              "      <td>5.0</td>\n",
              "      <td>4.0</td>\n",
              "      <td>4.0</td>\n",
              "      <td>3.0</td>\n",
              "      <td>3.0</td>\n",
              "      <td>3.0</td>\n",
              "      <td>4.0</td>\n",
              "      <td>5.0</td>\n",
              "    </tr>\n",
              "    <tr>\n",
              "      <th>2</th>\n",
              "      <td>Entre 18 e 25 anos</td>\n",
              "      <td>Sim</td>\n",
              "      <td>NaN</td>\n",
              "      <td>NaN</td>\n",
              "      <td>Não</td>\n",
              "      <td>Não</td>\n",
              "      <td>Não</td>\n",
              "      <td>Não</td>\n",
              "      <td>3.0</td>\n",
              "      <td>3.0</td>\n",
              "      <td>3.0</td>\n",
              "      <td>3.0</td>\n",
              "      <td>3.0</td>\n",
              "      <td>3.0</td>\n",
              "      <td>3.0</td>\n",
              "      <td>3.0</td>\n",
              "    </tr>\n",
              "    <tr>\n",
              "      <th>3</th>\n",
              "      <td>Entre 18 e 25 anos</td>\n",
              "      <td>Sim</td>\n",
              "      <td>NaN</td>\n",
              "      <td>NaN</td>\n",
              "      <td>Não</td>\n",
              "      <td>Sim</td>\n",
              "      <td>Sim</td>\n",
              "      <td>Não</td>\n",
              "      <td>4.0</td>\n",
              "      <td>3.0</td>\n",
              "      <td>4.0</td>\n",
              "      <td>5.0</td>\n",
              "      <td>4.0</td>\n",
              "      <td>5.0</td>\n",
              "      <td>5.0</td>\n",
              "      <td>4.0</td>\n",
              "    </tr>\n",
              "    <tr>\n",
              "      <th>4</th>\n",
              "      <td>Entre 18 e 25 anos</td>\n",
              "      <td>Sim</td>\n",
              "      <td>NaN</td>\n",
              "      <td>NaN</td>\n",
              "      <td>Não</td>\n",
              "      <td>Não</td>\n",
              "      <td>Não</td>\n",
              "      <td>Sim</td>\n",
              "      <td>4.0</td>\n",
              "      <td>3.0</td>\n",
              "      <td>2.0</td>\n",
              "      <td>5.0</td>\n",
              "      <td>3.0</td>\n",
              "      <td>3.0</td>\n",
              "      <td>2.0</td>\n",
              "      <td>3.0</td>\n",
              "    </tr>\n",
              "  </tbody>\n",
              "</table>\n",
              "</div>"
            ],
            "text/plain": [
              "      Qual sua Idade?  ... Como foi sua experiência em trabalhar de casa?\n",
              "0  Entre 18 e 25 anos  ...                                            NaN\n",
              "1  Entre 18 e 25 anos  ...                                            5.0\n",
              "2  Entre 18 e 25 anos  ...                                            3.0\n",
              "3  Entre 18 e 25 anos  ...                                            4.0\n",
              "4  Entre 18 e 25 anos  ...                                            3.0\n",
              "\n",
              "[5 rows x 16 columns]"
            ]
          },
          "metadata": {
            "tags": []
          },
          "execution_count": 202
        }
      ]
    },
    {
      "cell_type": "code",
      "metadata": {
        "id": "6CFjnABQVeZi"
      },
      "source": [
        "respostas = respostas.replace('Menos de 18 anos', '-18')\n",
        "respostas = respostas.replace('Entre 18 e 25 anos', '18-25')\n",
        "respostas = respostas.replace('Entre 26 e 35 anos', '26-35')\n",
        "respostas = respostas.replace('Entre 36 e 45 anos', '36-45')\n",
        "respostas = respostas.replace('Entre 46 e 60 anos', '46-59')\n",
        "respostas = respostas.replace('mais de 60 anos', '60+')\n",
        "respostas = respostas.replace('Sim', 1)\n",
        "respostas = respostas.replace('Não', 0)"
      ],
      "execution_count": null,
      "outputs": []
    },
    {
      "cell_type": "code",
      "metadata": {
        "id": "0XnZYh2eVfui",
        "colab": {
          "base_uri": "https://localhost:8080/",
          "height": 336
        },
        "outputId": "4d0ee6a4-d614-4ed4-9ccc-4bf3736cf4bb"
      },
      "source": [
        "import matplotlib.pyplot as plt\n",
        "\n",
        "plt.hist(respostas[\"Qual sua Idade?\"])\n",
        "plt.title(\"Gráficos idades\")\n",
        "plt.show()"
      ],
      "execution_count": 204,
      "outputs": [
        {
          "output_type": "display_data",
          "data": {
            "image/png": "[encoded data removed]",
            "text/plain": [
              "<Figure size 720x360 with 1 Axes>"
            ]
          },
          "metadata": {
            "tags": [],
            "needs_background": "light"
          }
        }
      ]
    },
    {
      "cell_type": "code",
      "metadata": {
        "id": "sFZuARduVzdj",
        "colab": {
          "base_uri": "https://localhost:8080/"
        },
        "outputId": "73728061-b277-4581-eadd-24b6035bb161"
      },
      "source": [
        "print('Total de Pessoas que trabalharam remotamente durante a pandemia')\n",
        "filtro1_1 = respostas.loc[respostas['Você trabalhou de casa durante a pandemia?'] == 1]\n",
        "filtro1_1['Você trabalhou de casa durante a pandemia?'].count()"
      ],
      "execution_count": null,
      "outputs": [
        {
          "output_type": "stream",
          "text": [
            "Total de Pessoas que trabalharam remotamente durante a pandemia\n"
          ],
          "name": "stdout"
        },
        {
          "output_type": "execute_result",
          "data": {
            "text/plain": [
              "153"
            ]
          },
          "metadata": {
            "tags": []
          },
          "execution_count": 21
        }
      ]
    },
    {
      "cell_type": "code",
      "metadata": {
        "id": "ldFSA7bnV5Y9",
        "colab": {
          "base_uri": "https://localhost:8080/"
        },
        "outputId": "6508c164-c7b5-4442-d479-cf76a2b9b382"
      },
      "source": [
        "print('Total de Pessoas que NÃO trabalharam remotamente durante a pandemia')\n",
        "filtro1_2 = respostas.loc[respostas['Você trabalhou de casa durante a pandemia?'] == 0]\n",
        "filtro1_2['Você trabalhou de casa durante a pandemia?'].count()"
      ],
      "execution_count": null,
      "outputs": [
        {
          "output_type": "stream",
          "text": [
            "Total de Pessoas que NÃO trabalharam remotamente durante a pandemia\n"
          ],
          "name": "stdout"
        },
        {
          "output_type": "execute_result",
          "data": {
            "text/plain": [
              "75"
            ]
          },
          "metadata": {
            "tags": []
          },
          "execution_count": 22
        }
      ]
    },
    {
      "cell_type": "code",
      "metadata": {
        "id": "E4PftwN5V6y1",
        "colab": {
          "base_uri": "https://localhost:8080/",
          "height": 407
        },
        "outputId": "cfcc3534-6ce5-4550-80fe-44ff648f99f6"
      },
      "source": [
        "## Pessoas que NÃO trabalharam remotamente durante a pandemia\n",
        "\n",
        "respostas2 = pd.read_csv('https://github.com/vittoria-thomasini/comportment-analytics-covid19/blob/main/Planilhas/Idades.csv?raw=true', delimiter = ';', usecols = [\"Qual sua Idade?\", \"Você se vê e/ou gostaria de trabalhar remotamente no futuro?\"])\n",
        "respostas2 = respostas2.replace('Menos de 18 anos', '-18')\n",
        "respostas2 = respostas2.replace('Entre 18 e 25 anos', '18-25')\n",
        "respostas2 = respostas2.replace('Entre 26 e 35 anos', '26-35')\n",
        "respostas2 = respostas2.replace('Entre 36 e 45 anos', '36-45')\n",
        "respostas2 = respostas2.replace('Entre 46 e 60 anos', '46-59')\n",
        "respostas2 = respostas2.replace('mais de 60 anos', '60+')\n",
        "respostas2 = respostas2.replace('Sim', 1)\n",
        "respostas2 = respostas2.replace('Não', 0)\n",
        "\n",
        "respostas2"
      ],
      "execution_count": null,
      "outputs": [
        {
          "output_type": "execute_result",
          "data": {
            "text/html": [
              "<div>\n",
              "<style scoped>\n",
              "    .dataframe tbody tr th:only-of-type {\n",
              "        vertical-align: middle;\n",
              "    }\n",
              "\n",
              "    .dataframe tbody tr th {\n",
              "        vertical-align: top;\n",
              "    }\n",
              "\n",
              "    .dataframe thead th {\n",
              "        text-align: right;\n",
              "    }\n",
              "</style>\n",
              "<table border=\"1\" class=\"dataframe\">\n",
              "  <thead>\n",
              "    <tr style=\"text-align: right;\">\n",
              "      <th></th>\n",
              "      <th>Qual sua Idade?</th>\n",
              "      <th>Você se vê e/ou gostaria de trabalhar remotamente no futuro?</th>\n",
              "    </tr>\n",
              "  </thead>\n",
              "  <tbody>\n",
              "    <tr>\n",
              "      <th>0</th>\n",
              "      <td>18-25</td>\n",
              "      <td>1.0</td>\n",
              "    </tr>\n",
              "    <tr>\n",
              "      <th>1</th>\n",
              "      <td>18-25</td>\n",
              "      <td>NaN</td>\n",
              "    </tr>\n",
              "    <tr>\n",
              "      <th>2</th>\n",
              "      <td>18-25</td>\n",
              "      <td>NaN</td>\n",
              "    </tr>\n",
              "    <tr>\n",
              "      <th>3</th>\n",
              "      <td>18-25</td>\n",
              "      <td>NaN</td>\n",
              "    </tr>\n",
              "    <tr>\n",
              "      <th>4</th>\n",
              "      <td>18-25</td>\n",
              "      <td>NaN</td>\n",
              "    </tr>\n",
              "    <tr>\n",
              "      <th>...</th>\n",
              "      <td>...</td>\n",
              "      <td>...</td>\n",
              "    </tr>\n",
              "    <tr>\n",
              "      <th>223</th>\n",
              "      <td>60+</td>\n",
              "      <td>NaN</td>\n",
              "    </tr>\n",
              "    <tr>\n",
              "      <th>224</th>\n",
              "      <td>36-45</td>\n",
              "      <td>NaN</td>\n",
              "    </tr>\n",
              "    <tr>\n",
              "      <th>225</th>\n",
              "      <td>18-25</td>\n",
              "      <td>1.0</td>\n",
              "    </tr>\n",
              "    <tr>\n",
              "      <th>226</th>\n",
              "      <td>26-35</td>\n",
              "      <td>NaN</td>\n",
              "    </tr>\n",
              "    <tr>\n",
              "      <th>227</th>\n",
              "      <td>26-35</td>\n",
              "      <td>NaN</td>\n",
              "    </tr>\n",
              "  </tbody>\n",
              "</table>\n",
              "<p>228 rows × 2 columns</p>\n",
              "</div>"
            ],
            "text/plain": [
              "    Qual sua Idade?  Você se vê e/ou gostaria de trabalhar remotamente no futuro?\n",
              "0             18-25                                                1.0           \n",
              "1             18-25                                                NaN           \n",
              "2             18-25                                                NaN           \n",
              "3             18-25                                                NaN           \n",
              "4             18-25                                                NaN           \n",
              "..              ...                                                ...           \n",
              "223             60+                                                NaN           \n",
              "224           36-45                                                NaN           \n",
              "225           18-25                                                1.0           \n",
              "226           26-35                                                NaN           \n",
              "227           26-35                                                NaN           \n",
              "\n",
              "[228 rows x 2 columns]"
            ]
          },
          "metadata": {
            "tags": []
          },
          "execution_count": 23
        }
      ]
    },
    {
      "cell_type": "code",
      "metadata": {
        "id": "03S0jaqNV9Zp"
      },
      "source": [
        "## Sim = 1 / Não = 0\n",
        "\n",
        "filtro2_1 = respostas2.loc[respostas2['Você se vê e/ou gostaria de trabalhar remotamente no futuro?'] == 1]\n",
        "filtro2_2 = respostas2.loc[respostas2['Você se vê e/ou gostaria de trabalhar remotamente no futuro?'] == 0]"
      ],
      "execution_count": null,
      "outputs": []
    },
    {
      "cell_type": "code",
      "metadata": {
        "id": "3WhTICx5WCCG",
        "colab": {
          "base_uri": "https://localhost:8080/"
        },
        "outputId": "ecc7975a-5f26-4ba0-c571-921a22b1f9ab"
      },
      "source": [
        "print('Total de Sim')\n",
        "filtro2_1['Você se vê e/ou gostaria de trabalhar remotamente no futuro?'].count()"
      ],
      "execution_count": null,
      "outputs": [
        {
          "output_type": "stream",
          "text": [
            "Total de Sim\n"
          ],
          "name": "stdout"
        },
        {
          "output_type": "execute_result",
          "data": {
            "text/plain": [
              "25"
            ]
          },
          "metadata": {
            "tags": []
          },
          "execution_count": 25
        }
      ]
    },
    {
      "cell_type": "code",
      "metadata": {
        "id": "m4HrwHoYWEOb",
        "colab": {
          "base_uri": "https://localhost:8080/"
        },
        "outputId": "e5b27e17-ac11-41cb-b6cc-94dd5f7a1ea7"
      },
      "source": [
        "print('Total de Não')\n",
        "filtro2_2['Você se vê e/ou gostaria de trabalhar remotamente no futuro?'].count()"
      ],
      "execution_count": null,
      "outputs": [
        {
          "output_type": "stream",
          "text": [
            "Total de Não\n"
          ],
          "name": "stdout"
        },
        {
          "output_type": "execute_result",
          "data": {
            "text/plain": [
              "50"
            ]
          },
          "metadata": {
            "tags": []
          },
          "execution_count": 26
        }
      ]
    },
    {
      "cell_type": "code",
      "metadata": {
        "id": "yza2rdQXWGMP",
        "colab": {
          "base_uri": "https://localhost:8080/",
          "height": 283
        },
        "outputId": "a2097741-9df6-49e6-88a8-905513242bf2"
      },
      "source": [
        "print('Idade pessoas que NÃO gostariam de trabalhar remotamente no futuro')\n",
        "plt.hist(filtro2_2[\"Qual sua Idade?\"])\n",
        "plt.show()"
      ],
      "execution_count": null,
      "outputs": [
        {
          "output_type": "stream",
          "text": [
            "Idade pessoas que NÃO gostariam de trabalhar remotamente no futuro\n"
          ],
          "name": "stdout"
        },
        {
          "output_type": "display_data",
          "data": {
            "image/png": "[encoded data removed]",
            "text/plain": [
              "<Figure size 432x288 with 1 Axes>"
            ]
          },
          "metadata": {
            "tags": [],
            "needs_background": "light"
          }
        }
      ]
    },
    {
      "cell_type": "code",
      "metadata": {
        "id": "XdaWbfjJWHeD",
        "colab": {
          "base_uri": "https://localhost:8080/",
          "height": 419
        },
        "outputId": "9469b3d7-5476-40e4-d153-7f9e73756df6"
      },
      "source": [
        "## Pessoas que trabalharam remotamente durante a pandemia\n",
        "\n",
        "respostas3 = pd.read_csv('https://github.com/vittoria-thomasini/comportment-analytics-covid19/blob/main/Planilhas/Idades.csv?raw=true', delimiter = ';', usecols = [\"Qual sua Idade?\", \"Você se vê e/ou pretende trabalhar remotamente no futuro?\"])\n",
        "respostas3 = respostas3.replace('Menos de 18 anos', '-18')\n",
        "respostas3 = respostas3.replace('Entre 18 e 25 anos', '18-25')\n",
        "respostas3 = respostas3.replace('Entre 26 e 35 anos', '26-35')\n",
        "respostas3 = respostas3.replace('Entre 36 e 45 anos', '36-45')\n",
        "respostas3 = respostas3.replace('Entre 46 e 60 anos', '46-59')\n",
        "respostas3 = respostas3.replace('mais de 60 anos', '60+')\n",
        "respostas3 = respostas3.replace('Sim', 1)\n",
        "respostas3 = respostas3.replace('Não', 0)\n",
        "\n",
        "respostas3"
      ],
      "execution_count": null,
      "outputs": [
        {
          "output_type": "execute_result",
          "data": {
            "text/html": [
              "<div>\n",
              "<style scoped>\n",
              "    .dataframe tbody tr th:only-of-type {\n",
              "        vertical-align: middle;\n",
              "    }\n",
              "\n",
              "    .dataframe tbody tr th {\n",
              "        vertical-align: top;\n",
              "    }\n",
              "\n",
              "    .dataframe thead th {\n",
              "        text-align: right;\n",
              "    }\n",
              "</style>\n",
              "<table border=\"1\" class=\"dataframe\">\n",
              "  <thead>\n",
              "    <tr style=\"text-align: right;\">\n",
              "      <th></th>\n",
              "      <th>Qual sua Idade?</th>\n",
              "      <th>Você se vê e/ou pretende trabalhar remotamente no futuro?</th>\n",
              "    </tr>\n",
              "  </thead>\n",
              "  <tbody>\n",
              "    <tr>\n",
              "      <th>0</th>\n",
              "      <td>18-25</td>\n",
              "      <td>NaN</td>\n",
              "    </tr>\n",
              "    <tr>\n",
              "      <th>1</th>\n",
              "      <td>18-25</td>\n",
              "      <td>1.0</td>\n",
              "    </tr>\n",
              "    <tr>\n",
              "      <th>2</th>\n",
              "      <td>18-25</td>\n",
              "      <td>0.0</td>\n",
              "    </tr>\n",
              "    <tr>\n",
              "      <th>3</th>\n",
              "      <td>18-25</td>\n",
              "      <td>0.0</td>\n",
              "    </tr>\n",
              "    <tr>\n",
              "      <th>4</th>\n",
              "      <td>18-25</td>\n",
              "      <td>1.0</td>\n",
              "    </tr>\n",
              "    <tr>\n",
              "      <th>...</th>\n",
              "      <td>...</td>\n",
              "      <td>...</td>\n",
              "    </tr>\n",
              "    <tr>\n",
              "      <th>223</th>\n",
              "      <td>60+</td>\n",
              "      <td>0.0</td>\n",
              "    </tr>\n",
              "    <tr>\n",
              "      <th>224</th>\n",
              "      <td>36-45</td>\n",
              "      <td>0.0</td>\n",
              "    </tr>\n",
              "    <tr>\n",
              "      <th>225</th>\n",
              "      <td>18-25</td>\n",
              "      <td>NaN</td>\n",
              "    </tr>\n",
              "    <tr>\n",
              "      <th>226</th>\n",
              "      <td>26-35</td>\n",
              "      <td>1.0</td>\n",
              "    </tr>\n",
              "    <tr>\n",
              "      <th>227</th>\n",
              "      <td>26-35</td>\n",
              "      <td>1.0</td>\n",
              "    </tr>\n",
              "  </tbody>\n",
              "</table>\n",
              "<p>228 rows × 2 columns</p>\n",
              "</div>"
            ],
            "text/plain": [
              "    Qual sua Idade?  Você se vê e/ou pretende trabalhar remotamente no futuro?\n",
              "0             18-25                                                NaN        \n",
              "1             18-25                                                1.0        \n",
              "2             18-25                                                0.0        \n",
              "3             18-25                                                0.0        \n",
              "4             18-25                                                1.0        \n",
              "..              ...                                                ...        \n",
              "223             60+                                                0.0        \n",
              "224           36-45                                                0.0        \n",
              "225           18-25                                                NaN        \n",
              "226           26-35                                                1.0        \n",
              "227           26-35                                                1.0        \n",
              "\n",
              "[228 rows x 2 columns]"
            ]
          },
          "metadata": {
            "tags": []
          },
          "execution_count": 128
        }
      ]
    },
    {
      "cell_type": "code",
      "metadata": {
        "id": "LLTeFSHnWJlM"
      },
      "source": [
        "## Sim = 1 / Não = 0\n",
        "\n",
        "filtro3_1 = respostas3.loc[respostas3['Você se vê e/ou pretende trabalhar remotamente no futuro?'] == 1]\n",
        "filtro3_2 = respostas3.loc[respostas3['Você se vê e/ou pretende trabalhar remotamente no futuro?'] == 0]"
      ],
      "execution_count": null,
      "outputs": []
    },
    {
      "cell_type": "code",
      "metadata": {
        "id": "tq3Ih2BUWL9e",
        "colab": {
          "base_uri": "https://localhost:8080/"
        },
        "outputId": "74083717-cc02-4a26-ebd1-147fb12da9b0"
      },
      "source": [
        "print('Total de Sim')\n",
        "filtro3_1['Você se vê e/ou pretende trabalhar remotamente no futuro?'].count()"
      ],
      "execution_count": null,
      "outputs": [
        {
          "output_type": "stream",
          "text": [
            "Total de Sim\n"
          ],
          "name": "stdout"
        },
        {
          "output_type": "execute_result",
          "data": {
            "text/plain": [
              "110"
            ]
          },
          "metadata": {
            "tags": []
          },
          "execution_count": 30
        }
      ]
    },
    {
      "cell_type": "code",
      "metadata": {
        "id": "vGfifyRjWNdv",
        "colab": {
          "base_uri": "https://localhost:8080/"
        },
        "outputId": "37522001-b773-45f0-80e4-bb49b2e0d4d9"
      },
      "source": [
        "print('Total de Não')\n",
        "filtro3_2['Você se vê e/ou pretende trabalhar remotamente no futuro?'].count()"
      ],
      "execution_count": null,
      "outputs": [
        {
          "output_type": "stream",
          "text": [
            "Total de Não\n"
          ],
          "name": "stdout"
        },
        {
          "output_type": "execute_result",
          "data": {
            "text/plain": [
              "43"
            ]
          },
          "metadata": {
            "tags": []
          },
          "execution_count": 31
        }
      ]
    },
    {
      "cell_type": "code",
      "metadata": {
        "id": "Q6jFjENdWOXx",
        "colab": {
          "base_uri": "https://localhost:8080/",
          "height": 337
        },
        "outputId": "088857a6-65ca-4b5d-9e10-7ca6294e475c"
      },
      "source": [
        "print('Idade pessoas que gostariam de trabalhar remotamente no futuro')\n",
        "plt.hist(filtro3_1[\"Qual sua Idade?\"])\n",
        "plt.show()"
      ],
      "execution_count": null,
      "outputs": [
        {
          "output_type": "stream",
          "text": [
            "Idade pessoas que gostariam de trabalhar remotamente no futuro\n"
          ],
          "name": "stdout"
        },
        {
          "output_type": "display_data",
          "data": {
            "image/png": "[encoded data removed]",
            "text/plain": [
              "<Figure size 720x360 with 1 Axes>"
            ]
          },
          "metadata": {
            "tags": [],
            "needs_background": "light"
          }
        }
      ]
    },
    {
      "cell_type": "code",
      "metadata": {
        "id": "SeJMmKmIWQYu",
        "colab": {
          "base_uri": "https://localhost:8080/",
          "height": 407
        },
        "outputId": "596c6334-bbbb-4262-e56d-41114cb90661"
      },
      "source": [
        "## Adaptação ao Home Office\n",
        "\n",
        "respostas4 = pd.read_csv('https://github.com/vittoria-thomasini/comportment-analytics-covid19/blob/main/Planilhas/Idades.csv?raw=true', delimiter = ';', usecols = [\"Qual sua Idade?\", \"Como você avalia sua adaptação ao Home Office?\"])\n",
        "respostas4 = respostas4.replace('Menos de 18 anos', '-18')\n",
        "respostas4 = respostas4.replace('Entre 18 e 25 anos', '18-25')\n",
        "respostas4 = respostas4.replace('Entre 26 e 35 anos', '26-35')\n",
        "respostas4 = respostas4.replace('Entre 36 e 45 anos', '36-45')\n",
        "respostas4 = respostas4.replace('Entre 46 e 60 anos', '46-59')\n",
        "respostas4 = respostas4.replace('mais de 60 anos', '60+')\n",
        "\n",
        "respostas4"
      ],
      "execution_count": null,
      "outputs": [
        {
          "output_type": "execute_result",
          "data": {
            "text/html": [
              "<div>\n",
              "<style scoped>\n",
              "    .dataframe tbody tr th:only-of-type {\n",
              "        vertical-align: middle;\n",
              "    }\n",
              "\n",
              "    .dataframe tbody tr th {\n",
              "        vertical-align: top;\n",
              "    }\n",
              "\n",
              "    .dataframe thead th {\n",
              "        text-align: right;\n",
              "    }\n",
              "</style>\n",
              "<table border=\"1\" class=\"dataframe\">\n",
              "  <thead>\n",
              "    <tr style=\"text-align: right;\">\n",
              "      <th></th>\n",
              "      <th>Qual sua Idade?</th>\n",
              "      <th>Como você avalia sua adaptação ao Home Office?</th>\n",
              "    </tr>\n",
              "  </thead>\n",
              "  <tbody>\n",
              "    <tr>\n",
              "      <th>0</th>\n",
              "      <td>18-25</td>\n",
              "      <td>NaN</td>\n",
              "    </tr>\n",
              "    <tr>\n",
              "      <th>1</th>\n",
              "      <td>18-25</td>\n",
              "      <td>5.0</td>\n",
              "    </tr>\n",
              "    <tr>\n",
              "      <th>2</th>\n",
              "      <td>18-25</td>\n",
              "      <td>3.0</td>\n",
              "    </tr>\n",
              "    <tr>\n",
              "      <th>3</th>\n",
              "      <td>18-25</td>\n",
              "      <td>4.0</td>\n",
              "    </tr>\n",
              "    <tr>\n",
              "      <th>4</th>\n",
              "      <td>18-25</td>\n",
              "      <td>4.0</td>\n",
              "    </tr>\n",
              "    <tr>\n",
              "      <th>...</th>\n",
              "      <td>...</td>\n",
              "      <td>...</td>\n",
              "    </tr>\n",
              "    <tr>\n",
              "      <th>223</th>\n",
              "      <td>60+</td>\n",
              "      <td>3.0</td>\n",
              "    </tr>\n",
              "    <tr>\n",
              "      <th>224</th>\n",
              "      <td>36-45</td>\n",
              "      <td>2.0</td>\n",
              "    </tr>\n",
              "    <tr>\n",
              "      <th>225</th>\n",
              "      <td>18-25</td>\n",
              "      <td>NaN</td>\n",
              "    </tr>\n",
              "    <tr>\n",
              "      <th>226</th>\n",
              "      <td>26-35</td>\n",
              "      <td>4.0</td>\n",
              "    </tr>\n",
              "    <tr>\n",
              "      <th>227</th>\n",
              "      <td>26-35</td>\n",
              "      <td>5.0</td>\n",
              "    </tr>\n",
              "  </tbody>\n",
              "</table>\n",
              "<p>228 rows × 2 columns</p>\n",
              "</div>"
            ],
            "text/plain": [
              "    Qual sua Idade?  Como você avalia sua adaptação ao Home Office?\n",
              "0             18-25                                             NaN\n",
              "1             18-25                                             5.0\n",
              "2             18-25                                             3.0\n",
              "3             18-25                                             4.0\n",
              "4             18-25                                             4.0\n",
              "..              ...                                             ...\n",
              "223             60+                                             3.0\n",
              "224           36-45                                             2.0\n",
              "225           18-25                                             NaN\n",
              "226           26-35                                             4.0\n",
              "227           26-35                                             5.0\n",
              "\n",
              "[228 rows x 2 columns]"
            ]
          },
          "metadata": {
            "tags": []
          },
          "execution_count": 33
        }
      ]
    },
    {
      "cell_type": "code",
      "metadata": {
        "id": "nnChmZxTWSSE"
      },
      "source": [
        "## >3 = bom / <3 = ruim / 3 = neutro\n",
        "\n",
        "filtro4_1 = respostas4.loc[respostas4['Como você avalia sua adaptação ao Home Office?'] > 3]\n",
        "filtro4_2 = respostas4.loc[respostas4['Como você avalia sua adaptação ao Home Office?'] < 3]\n",
        "filtro4_3 = respostas4.loc[respostas4['Como você avalia sua adaptação ao Home Office?'] == 3]"
      ],
      "execution_count": null,
      "outputs": []
    },
    {
      "cell_type": "code",
      "metadata": {
        "id": "418a9XKRWUWB",
        "colab": {
          "base_uri": "https://localhost:8080/"
        },
        "outputId": "94c3a2fd-aa62-45d9-f066-26aeb17273f7"
      },
      "source": [
        "print('Total de Bom')\n",
        "filtro4_1['Como você avalia sua adaptação ao Home Office?'].count()"
      ],
      "execution_count": null,
      "outputs": [
        {
          "output_type": "stream",
          "text": [
            "Total de Bom\n"
          ],
          "name": "stdout"
        },
        {
          "output_type": "execute_result",
          "data": {
            "text/plain": [
              "105"
            ]
          },
          "metadata": {
            "tags": []
          },
          "execution_count": 35
        }
      ]
    },
    {
      "cell_type": "code",
      "metadata": {
        "id": "HA0HOogOWWiW",
        "colab": {
          "base_uri": "https://localhost:8080/"
        },
        "outputId": "811dfc24-61ae-4379-e4b8-8132692f4690"
      },
      "source": [
        "print('Total de Neutros')\n",
        "filtro4_3['Como você avalia sua adaptação ao Home Office?'].count()"
      ],
      "execution_count": null,
      "outputs": [
        {
          "output_type": "stream",
          "text": [
            "Total de Neutros\n"
          ],
          "name": "stdout"
        },
        {
          "output_type": "execute_result",
          "data": {
            "text/plain": [
              "34"
            ]
          },
          "metadata": {
            "tags": []
          },
          "execution_count": 36
        }
      ]
    },
    {
      "cell_type": "code",
      "metadata": {
        "id": "2b6HZcoxWYQ5",
        "colab": {
          "base_uri": "https://localhost:8080/"
        },
        "outputId": "4a4e9457-cbf4-4969-c7e0-fa504518f0f4"
      },
      "source": [
        "print('Total de Ruim')\n",
        "filtro4_2['Como você avalia sua adaptação ao Home Office?'].count()"
      ],
      "execution_count": null,
      "outputs": [
        {
          "output_type": "stream",
          "text": [
            "Total de Ruim\n"
          ],
          "name": "stdout"
        },
        {
          "output_type": "execute_result",
          "data": {
            "text/plain": [
              "14"
            ]
          },
          "metadata": {
            "tags": []
          },
          "execution_count": 37
        }
      ]
    },
    {
      "cell_type": "code",
      "metadata": {
        "id": "bVPKGMphWaIl",
        "colab": {
          "base_uri": "https://localhost:8080/",
          "height": 283
        },
        "outputId": "9b3ee18c-f908-471a-f477-8d5ee279325e"
      },
      "source": [
        "print('Idade pessoas que se adaptaram bem ao Home Office')\n",
        "plt.hist(filtro4_1[\"Qual sua Idade?\"])\n",
        "plt.show()"
      ],
      "execution_count": null,
      "outputs": [
        {
          "output_type": "stream",
          "text": [
            "Idade pessoas que se adaptaram bem ao Home Office\n"
          ],
          "name": "stdout"
        },
        {
          "output_type": "display_data",
          "data": {
            "image/png": "[encoded data removed]",
            "text/plain": [
              "<Figure size 432x288 with 1 Axes>"
            ]
          },
          "metadata": {
            "tags": [],
            "needs_background": "light"
          }
        }
      ]
    },
    {
      "cell_type": "code",
      "metadata": {
        "id": "7sQOKmLKWb8L"
      },
      "source": [
        "## Nível de Fadíga\n",
        "\n",
        "respostas5 = pd.read_csv('https://github.com/vittoria-thomasini/comportment-analytics-covid19/blob/main/Planilhas/Idades.csv?raw=true', delimiter = ';', usecols = [\"Qual sua Idade?\", \"Como você avalia o seu nível de fadiga (Cansaço excessivo) durante o trabalho de Home Office?\"])\n",
        "respostas5 = respostas5.replace('Menos de 18 anos', '-18')\n",
        "respostas5 = respostas5.replace('Entre 18 e 25 anos', '18-25')\n",
        "respostas5 = respostas5.replace('Entre 26 e 35 anos', '26-35')\n",
        "respostas5 = respostas5.replace('Entre 36 e 45 anos', '36-45')\n",
        "respostas5 = respostas5.replace('Entre 46 e 60 anos', '46-59')\n",
        "respostas5 = respostas5.replace('mais de 60 anos', '60+')\n",
        "respostas5 = respostas5.replace('Sim', 1)\n",
        "respostas5 = respostas5.replace('Não', 0)\n",
        "\n",
        "respostas5"
      ],
      "execution_count": null,
      "outputs": []
    },
    {
      "cell_type": "code",
      "metadata": {
        "id": "bi8uqQJOWeXh"
      },
      "source": [
        "## >3 = bom / <3 = ruim / 3 = neutro\n",
        "\n",
        "filtro5_1 = respostas5.loc[respostas5['Como você avalia o seu nível de fadiga (Cansaço excessivo) durante o trabalho de Home Office?'] > 3]\n",
        "filtro5_2 = respostas5.loc[respostas5['Como você avalia o seu nível de fadiga (Cansaço excessivo) durante o trabalho de Home Office?'] < 3]\n",
        "filtro5_3 = respostas5.loc[respostas5['Como você avalia o seu nível de fadiga (Cansaço excessivo) durante o trabalho de Home Office?'] == 3]"
      ],
      "execution_count": null,
      "outputs": []
    },
    {
      "cell_type": "code",
      "metadata": {
        "id": "Mzc3NKJeWgh4"
      },
      "source": [
        "print('Total de Bom')\n",
        "filtro5_1['Como você avalia o seu nível de fadiga (Cansaço excessivo) durante o trabalho de Home Office?'].count()"
      ],
      "execution_count": null,
      "outputs": []
    },
    {
      "cell_type": "code",
      "metadata": {
        "id": "PCD-vd97WiNX"
      },
      "source": [
        "print('Total de Neutro')\n",
        "filtro5_2['Como você avalia o seu nível de fadiga (Cansaço excessivo) durante o trabalho de Home Office?'].count()"
      ],
      "execution_count": null,
      "outputs": []
    },
    {
      "cell_type": "code",
      "metadata": {
        "id": "vaIOU5ABWjjc"
      },
      "source": [
        "print('Total de Ruim')\n",
        "filtro5_3['Como você avalia o seu nível de fadiga (Cansaço excessivo) durante o trabalho de Home Office?'].count()"
      ],
      "execution_count": null,
      "outputs": []
    },
    {
      "cell_type": "code",
      "metadata": {
        "id": "YhNmO-lLWlZn"
      },
      "source": [
        "print('Idade das pessoas que tiveram seu nível de fadíga aumentado')\n",
        "plt.hist(filtro5_3[\"Qual sua Idade?\"])\n",
        "plt.show()"
      ],
      "execution_count": null,
      "outputs": []
    },
    {
      "cell_type": "markdown",
      "metadata": {
        "id": "0KPE1JNrVEdA"
      },
      "source": [
        "<h2>Seção final</h2>"
      ]
    },
    {
      "cell_type": "markdown",
      "metadata": {
        "id": "FmvMmRMuVNmg"
      },
      "source": [
        "Perfís definidos:\n",
        "\n",
        "Esta seção é inteiramente para analise e desenvolvimento dos perfís dos usuários respondentes do formulário. Nela, chegamos a uma base de resultados que, conforme as repostas pudemos definir padrões de usuários e elenca-los conforme a sua média de pontos. Diante disso, nos detemos a 3 perfis de usuários padrões, que reconhecemos ao longo da pesquisa. Decidimos não elencar perfils além desses, por, esses já serem os mais conhecidos no mercado de trabalho. Porém, logo após essa pesquisa, definimos um perfil que seria o do profissional do futuro. Abaixo, temos a pontuação a ser atingida pelos respondetes que os enquadra em algum dos perfis listados.\n",
        "\n",
        "---\n",
        "\n",
        "1 Presencial - Perfís com média Menor ou igual a 20\n",
        "\n",
        "---\n",
        "\n",
        "2 Hibrido - Perfís com média Maior que 20 e menor ou igual a 30\n",
        "\n",
        "---\n",
        "\n",
        "3 Home Office - Perfis com média maior que 30\n",
        "\n",
        "---\n",
        "\n",
        "Tendo essa pontuação, tratamos os dados da planilha para enquadrar os usuários em determinados perfis, conforme o códifo abaixo:"
      ]
    },
    {
      "cell_type": "code",
      "metadata": {
        "colab": {
          "base_uri": "https://localhost:8080/"
        },
        "id": "m8yKkNaKfLun",
        "outputId": "99461db4-22f8-4046-81d6-5a9ff5f2d1fc"
      },
      "source": [
        "import pandas as pd\n",
        "import matplotlib.pyplot as plt\n",
        "\n",
        "df = pd.read_csv('https://raw.githubusercontent.com/vittoria-thomasini/comportment-analytics-covid19/main/Planilhas/Trabalho%20de%20Casa.csv', delimiter = ';')\n",
        "\n",
        "df['total'] = df['Como você avalia sua adaptação ao Home Office?'] + df['Como você avalia a sua produtividade durante a pandemia?'] + df['Como você avalia o seu foco durante o trabalho de Home Office?'] + df['Como você avalia o seu nível de fadiga (Cansaço excessivo) durante o trabalho de Home Office?'] + df['Como você avalia o seu nível de estresse durante o trabalho de Home Office?'] + df['Como você avalia o suporte/auxílio que a sua empresa prestou durante o trabalho de Home Office? '] + df['Como você avalia o entrosamento com seus colegas de trabalho durante Home Office?'] + df['Como foi sua experiência em trabalhar de casa?']\n",
        "\n",
        "total = df['total']\n",
        "\n",
        "presencial = 0\n",
        "hibrido = 0\n",
        "homeoffice = 0\n",
        "\n",
        "for i in total:\n",
        "  if i <= 20:\n",
        "    presencial = presencial + 1\n",
        "\n",
        "for i in total:\n",
        "  if i > 20 and i <= 30:\n",
        "    hibrido = hibrido + 1\n",
        "\n",
        "for i in total:\n",
        "  if i > 30:\n",
        "    homeoffice = homeoffice + 1\n",
        "\n",
        "perfis = homeoffice, hibrido, presencial\n",
        "perfis\n"
      ],
      "execution_count": 184,
      "outputs": [
        {
          "output_type": "execute_result",
          "data": {
            "text/plain": [
              "(57, 79, 17)"
            ]
          },
          "metadata": {
            "tags": []
          },
          "execution_count": 184
        }
      ]
    },
    {
      "cell_type": "code",
      "metadata": {
        "colab": {
          "base_uri": "https://localhost:8080/",
          "height": 320
        },
        "id": "ystxcWXcc8u8",
        "outputId": "cfbb29ba-c083-4537-b15c-355488805efd"
      },
      "source": [
        "grupos = ['Homeoffice', 'Híbrido', 'Presencial']\n",
        "plt.bar(grupos, perfis)\n",
        "plt.show()"
      ],
      "execution_count": 185,
      "outputs": [
        {
          "output_type": "display_data",
          "data": {
            "image/png": "[encoded data removed]",
            "text/plain": [
              "<Figure size 720x360 with 1 Axes>"
            ]
          },
          "metadata": {
            "tags": [],
            "needs_background": "light"
          }
        }
      ]
    },
    {
      "cell_type": "code",
      "metadata": {
        "colab": {
          "base_uri": "https://localhost:8080/",
          "height": 303
        },
        "id": "LnvLn6W6dejV",
        "outputId": "c0300438-86ed-4bc2-bb86-09c91f85046d"
      },
      "source": [
        "labels = ['Homeoffice', 'Híbrido','Presencial']\n",
        "explode = (0, 0.1, 0) \n",
        "plt.pie(perfis, labels=labels, autopct='%1.1f%%', explode=explode)\n",
        "plt.show()"
      ],
      "execution_count": 187,
      "outputs": [
        {
          "output_type": "display_data",
          "data": {
            "image/png": "[encoded data removed]",
            "text/plain": [
              "<Figure size 720x360 with 1 Axes>"
            ]
          },
          "metadata": {
            "tags": []
          }
        }
      ]
    },
    {
      "cell_type": "markdown",
      "metadata": {
        "id": "tQfhjSMpfEFe"
      },
      "source": [
        "\n",
        "Profissional Anywhere\n",
        "---\n",
        "\n",
        "O profissional AnyWhere, se trata do profissional do futuro, que, tem flexibilidade de horários e de locais. Podendo trabalhar dos horarios que ele julga ser mais produtivos e de locais que ele se sente mais confortável. Diante disso, criamos um código específico para listar todos da ferramenta que se enquadram nesse perfil. obviamente este perfil tem algumas \"skills\" diferenciadas e que se destacam quando o assunto é Home Office.\n",
        "\n"
      ]
    },
    {
      "cell_type": "code",
      "metadata": {
        "colab": {
          "base_uri": "https://localhost:8080/",
          "height": 886
        },
        "id": "djAQ5n17VH10",
        "outputId": "11ad6834-2f5a-4106-ca4e-5b9daae27f6e"
      },
      "source": [
        "import pandas as pd\n",
        "import matplotlib.pyplot as plt\n",
        "\n",
        "respostasgeral = pd.read_csv('https://raw.githubusercontent.com/vittoria-thomasini/comportment-analytics-covid19/main/Planilhas/Trabalho%20de%20Casa.csv', delimiter = ';')\n",
        "\n",
        "Anywhere = respostasgeral.loc[respostasgeral['Como você avalia sua adaptação ao Home Office?'] > 3]\n",
        "Anywhere = Anywhere.loc[Anywhere['Como você avalia a sua produtividade durante a pandemia?'] > 3]\n",
        "Anywhere = Anywhere.loc[Anywhere['Como você avalia o seu foco durante o trabalho de Home Office?'] > 3]\n",
        "Anywhere = Anywhere.loc[Anywhere['Como você avalia o seu nível de fadiga (Cansaço excessivo) durante o trabalho de Home Office?'] > 3]\n",
        "Anywhere = Anywhere.loc[Anywhere['Como você avalia o seu nível de estresse durante o trabalho de Home Office?'] > 3]\n",
        "Anywhere = Anywhere.loc[Anywhere['Como você avalia o suporte/auxílio que a sua empresa prestou durante o trabalho de Home Office? '] > 3]\n",
        "Anywhere = Anywhere.loc[Anywhere['Como você avalia o entrosamento com seus colegas de trabalho durante Home Office?'] > 3]\n",
        "Anywhere = Anywhere.loc[Anywhere['Como foi sua experiência em trabalhar de casa?'] > 3]\n",
        "Anywhere"
      ],
      "execution_count": null,
      "outputs": [
        {
          "output_type": "execute_result",
          "data": {
            "text/html": [
              "<div>\n",
              "<style scoped>\n",
              "    .dataframe tbody tr th:only-of-type {\n",
              "        vertical-align: middle;\n",
              "    }\n",
              "\n",
              "    .dataframe tbody tr th {\n",
              "        vertical-align: top;\n",
              "    }\n",
              "\n",
              "    .dataframe thead th {\n",
              "        text-align: right;\n",
              "    }\n",
              "</style>\n",
              "<table border=\"1\" class=\"dataframe\">\n",
              "  <thead>\n",
              "    <tr style=\"text-align: right;\">\n",
              "      <th></th>\n",
              "      <th>Qual sua Idade?</th>\n",
              "      <th>Você trabalhou de casa durante a pandemia?</th>\n",
              "      <th>Você já exercia esse modelo de trabalho?</th>\n",
              "      <th>Você sente que sua carga de trabalho aumentou durante o trabalho de casa?</th>\n",
              "      <th>Por conta do home office você trabalhou mais do que a sua carga horária contratual?</th>\n",
              "      <th>Você se vê e/ou pretende trabalhar remotamente no futuro?</th>\n",
              "      <th>Como você avalia sua adaptação ao Home Office?</th>\n",
              "      <th>Como você avalia a sua produtividade durante a pandemia?</th>\n",
              "      <th>Como você avalia o seu foco durante o trabalho de Home Office?</th>\n",
              "      <th>Como você avalia o seu nível de fadiga (Cansaço excessivo) durante o trabalho de Home Office?</th>\n",
              "      <th>Como você avalia o seu nível de estresse durante o trabalho de Home Office?</th>\n",
              "      <th>Como você avalia o suporte/auxílio que a sua empresa prestou durante o trabalho de Home Office?</th>\n",
              "      <th>Como você avalia o entrosamento com seus colegas de trabalho durante Home Office?</th>\n",
              "      <th>Como foi sua experiência em trabalhar de casa?</th>\n",
              "    </tr>\n",
              "  </thead>\n",
              "  <tbody>\n",
              "    <tr>\n",
              "      <th>18</th>\n",
              "      <td>Entre 46 e 60 anos</td>\n",
              "      <td>Sim</td>\n",
              "      <td>Não</td>\n",
              "      <td>Sim</td>\n",
              "      <td>Sim</td>\n",
              "      <td>Sim</td>\n",
              "      <td>4</td>\n",
              "      <td>5</td>\n",
              "      <td>4</td>\n",
              "      <td>4</td>\n",
              "      <td>4</td>\n",
              "      <td>5</td>\n",
              "      <td>4</td>\n",
              "      <td>5</td>\n",
              "    </tr>\n",
              "    <tr>\n",
              "      <th>21</th>\n",
              "      <td>Entre 18 e 25 anos</td>\n",
              "      <td>Sim</td>\n",
              "      <td>Não</td>\n",
              "      <td>Não</td>\n",
              "      <td>Não</td>\n",
              "      <td>Sim</td>\n",
              "      <td>5</td>\n",
              "      <td>4</td>\n",
              "      <td>4</td>\n",
              "      <td>4</td>\n",
              "      <td>4</td>\n",
              "      <td>4</td>\n",
              "      <td>5</td>\n",
              "      <td>5</td>\n",
              "    </tr>\n",
              "    <tr>\n",
              "      <th>24</th>\n",
              "      <td>Entre 18 e 25 anos</td>\n",
              "      <td>Sim</td>\n",
              "      <td>Não</td>\n",
              "      <td>Não</td>\n",
              "      <td>Não</td>\n",
              "      <td>Sim</td>\n",
              "      <td>5</td>\n",
              "      <td>4</td>\n",
              "      <td>4</td>\n",
              "      <td>4</td>\n",
              "      <td>4</td>\n",
              "      <td>5</td>\n",
              "      <td>5</td>\n",
              "      <td>5</td>\n",
              "    </tr>\n",
              "    <tr>\n",
              "      <th>47</th>\n",
              "      <td>Entre 26 e 35 anos</td>\n",
              "      <td>Sim</td>\n",
              "      <td>Não</td>\n",
              "      <td>Não</td>\n",
              "      <td>Não</td>\n",
              "      <td>Sim</td>\n",
              "      <td>5</td>\n",
              "      <td>5</td>\n",
              "      <td>5</td>\n",
              "      <td>5</td>\n",
              "      <td>4</td>\n",
              "      <td>4</td>\n",
              "      <td>4</td>\n",
              "      <td>5</td>\n",
              "    </tr>\n",
              "    <tr>\n",
              "      <th>66</th>\n",
              "      <td>mais de 60 anos</td>\n",
              "      <td>Sim</td>\n",
              "      <td>Não</td>\n",
              "      <td>Não</td>\n",
              "      <td>Não</td>\n",
              "      <td>Sim</td>\n",
              "      <td>5</td>\n",
              "      <td>5</td>\n",
              "      <td>5</td>\n",
              "      <td>5</td>\n",
              "      <td>5</td>\n",
              "      <td>5</td>\n",
              "      <td>5</td>\n",
              "      <td>5</td>\n",
              "    </tr>\n",
              "    <tr>\n",
              "      <th>77</th>\n",
              "      <td>Entre 46 e 60 anos</td>\n",
              "      <td>Sim</td>\n",
              "      <td>Não</td>\n",
              "      <td>Não</td>\n",
              "      <td>Sim</td>\n",
              "      <td>Sim</td>\n",
              "      <td>4</td>\n",
              "      <td>5</td>\n",
              "      <td>4</td>\n",
              "      <td>5</td>\n",
              "      <td>5</td>\n",
              "      <td>5</td>\n",
              "      <td>4</td>\n",
              "      <td>4</td>\n",
              "    </tr>\n",
              "    <tr>\n",
              "      <th>81</th>\n",
              "      <td>Entre 46 e 60 anos</td>\n",
              "      <td>Sim</td>\n",
              "      <td>Não</td>\n",
              "      <td>Sim</td>\n",
              "      <td>Sim</td>\n",
              "      <td>Sim</td>\n",
              "      <td>5</td>\n",
              "      <td>5</td>\n",
              "      <td>4</td>\n",
              "      <td>5</td>\n",
              "      <td>4</td>\n",
              "      <td>5</td>\n",
              "      <td>5</td>\n",
              "      <td>5</td>\n",
              "    </tr>\n",
              "    <tr>\n",
              "      <th>133</th>\n",
              "      <td>Entre 18 e 25 anos</td>\n",
              "      <td>Sim</td>\n",
              "      <td>Não</td>\n",
              "      <td>Não</td>\n",
              "      <td>Não</td>\n",
              "      <td>Sim</td>\n",
              "      <td>4</td>\n",
              "      <td>4</td>\n",
              "      <td>4</td>\n",
              "      <td>4</td>\n",
              "      <td>4</td>\n",
              "      <td>4</td>\n",
              "      <td>4</td>\n",
              "      <td>4</td>\n",
              "    </tr>\n",
              "    <tr>\n",
              "      <th>148</th>\n",
              "      <td>Entre 46 e 60 anos</td>\n",
              "      <td>Sim</td>\n",
              "      <td>Não</td>\n",
              "      <td>Sim</td>\n",
              "      <td>Sim</td>\n",
              "      <td>Não</td>\n",
              "      <td>4</td>\n",
              "      <td>4</td>\n",
              "      <td>5</td>\n",
              "      <td>5</td>\n",
              "      <td>5</td>\n",
              "      <td>4</td>\n",
              "      <td>4</td>\n",
              "      <td>4</td>\n",
              "    </tr>\n",
              "    <tr>\n",
              "      <th>151</th>\n",
              "      <td>Entre 26 e 35 anos</td>\n",
              "      <td>Sim</td>\n",
              "      <td>Não</td>\n",
              "      <td>Não</td>\n",
              "      <td>Não</td>\n",
              "      <td>Sim</td>\n",
              "      <td>4</td>\n",
              "      <td>5</td>\n",
              "      <td>4</td>\n",
              "      <td>5</td>\n",
              "      <td>5</td>\n",
              "      <td>5</td>\n",
              "      <td>4</td>\n",
              "      <td>5</td>\n",
              "    </tr>\n",
              "  </tbody>\n",
              "</table>\n",
              "</div>"
            ],
            "text/plain": [
              "        Qual sua Idade?  ... Como foi sua experiência em trabalhar de casa?\n",
              "18   Entre 46 e 60 anos  ...                                              5\n",
              "21   Entre 18 e 25 anos  ...                                              5\n",
              "24   Entre 18 e 25 anos  ...                                              5\n",
              "47   Entre 26 e 35 anos  ...                                              5\n",
              "66      mais de 60 anos  ...                                              5\n",
              "77   Entre 46 e 60 anos  ...                                              4\n",
              "81   Entre 46 e 60 anos  ...                                              5\n",
              "133  Entre 18 e 25 anos  ...                                              4\n",
              "148  Entre 46 e 60 anos  ...                                              4\n",
              "151  Entre 26 e 35 anos  ...                                              5\n",
              "\n",
              "[10 rows x 14 columns]"
            ]
          },
          "metadata": {
            "tags": []
          },
          "execution_count": 55
        }
      ]
    },
    {
      "cell_type": "markdown",
      "metadata": {
        "id": "XQjZxz_0w3z9"
      },
      "source": [
        "\n",
        "\n",
        "---\n",
        "\n",
        "\n",
        "# **Após testes e validações dos resultados, concluimos os códigos de análise e desenvolvimento do comportamento das pessoas perante ao HomeOffice em pandemia.**\n",
        "\n",
        "---\n",
        "\n"
      ]
    }
  ]
}