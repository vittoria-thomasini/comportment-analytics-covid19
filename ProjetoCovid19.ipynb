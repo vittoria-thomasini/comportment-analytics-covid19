{
  "nbformat": 4,
  "nbformat_minor": 0,
  "metadata": {
    "colab": {
      "name": "ProjetoCovid19.ipynb",
      "provenance": [],
      "collapsed_sections": [],
      "toc_visible": true,
      "include_colab_link": true
    },
    "kernelspec": {
      "name": "python3",
      "display_name": "Python 3"
    },
    "language_info": {
      "name": "python"
    }
  },
  "cells": [
    {
      "cell_type": "markdown",
      "metadata": {
        "id": "view-in-github",
        "colab_type": "text"
      },
      "source": [
        "<a href=\"https://colab.research.google.com/github/vittoria-thomasini/comportment-analytics-covid19/blob/main/ProjetoCovid19.ipynb\" target=\"_parent\"><img src=\"https://colab.research.google.com/assets/colab-badge.svg\" alt=\"Open In Colab\"/></a>"
      ]
    },
    {
      "cell_type": "markdown",
      "metadata": {
        "id": "BgECvhTUcAgY"
      },
      "source": [
        "# Foco\n"
      ]
    },
    {
      "cell_type": "code",
      "metadata": {
        "colab": {
          "base_uri": "https://localhost:8080/",
          "height": 606
        },
        "id": "-vfPv8zocFEk",
        "outputId": "c9d428a3-a056-436f-a0f4-cca2f7edf5fb"
      },
      "source": [
        "import matplotlib.pyplot as plt\n",
        "import pandas as pd\n",
        "respostas_teste_1 = 'https://github.com/vittoria-thomasini/comportment-analytics-covid19/blob/main/Planilhas/Foco.csv?raw=true'\n",
        "foco_df = pd.read_csv(respostas_teste_1, delimiter=';')\n",
        "foco_df = foco_df.replace('Sim', 1)\n",
        "foco_df = foco_df.replace('Não', 0)\n",
        "display(foco_df)\n"
      ],
      "execution_count": null,
      "outputs": [
        {
          "output_type": "display_data",
          "data": {
            "text/html": [
              "<div>\n",
              "<style scoped>\n",
              "    .dataframe tbody tr th:only-of-type {\n",
              "        vertical-align: middle;\n",
              "    }\n",
              "\n",
              "    .dataframe tbody tr th {\n",
              "        vertical-align: top;\n",
              "    }\n",
              "\n",
              "    .dataframe thead th {\n",
              "        text-align: right;\n",
              "    }\n",
              "</style>\n",
              "<table border=\"1\" class=\"dataframe\">\n",
              "  <thead>\n",
              "    <tr style=\"text-align: right;\">\n",
              "      <th></th>\n",
              "      <th>Qual sua Idade?</th>\n",
              "      <th>Você trabalhou de casa durante a pandemia?</th>\n",
              "      <th>Você já exercia esse modelo de trabalho?</th>\n",
              "      <th>Você se vê e/ou pretende trabalhar remotamente no futuro?</th>\n",
              "      <th>Como você avalia sua adaptação ao Home Office?</th>\n",
              "      <th>Como você avalia a sua produtividade durante a pandemia?</th>\n",
              "      <th>Como você avalia o seu foco durante o trabalho de Home Office?</th>\n",
              "      <th>Como foi sua experiência em trabalhar de casa?</th>\n",
              "    </tr>\n",
              "  </thead>\n",
              "  <tbody>\n",
              "    <tr>\n",
              "      <th>0</th>\n",
              "      <td>Entre 18 e 25 anos</td>\n",
              "      <td>1</td>\n",
              "      <td>0</td>\n",
              "      <td>1</td>\n",
              "      <td>5</td>\n",
              "      <td>4</td>\n",
              "      <td>4</td>\n",
              "      <td>5</td>\n",
              "    </tr>\n",
              "    <tr>\n",
              "      <th>1</th>\n",
              "      <td>Entre 18 e 25 anos</td>\n",
              "      <td>1</td>\n",
              "      <td>0</td>\n",
              "      <td>0</td>\n",
              "      <td>3</td>\n",
              "      <td>3</td>\n",
              "      <td>3</td>\n",
              "      <td>3</td>\n",
              "    </tr>\n",
              "    <tr>\n",
              "      <th>2</th>\n",
              "      <td>Entre 18 e 25 anos</td>\n",
              "      <td>1</td>\n",
              "      <td>0</td>\n",
              "      <td>0</td>\n",
              "      <td>4</td>\n",
              "      <td>3</td>\n",
              "      <td>4</td>\n",
              "      <td>4</td>\n",
              "    </tr>\n",
              "    <tr>\n",
              "      <th>3</th>\n",
              "      <td>Entre 18 e 25 anos</td>\n",
              "      <td>1</td>\n",
              "      <td>0</td>\n",
              "      <td>1</td>\n",
              "      <td>4</td>\n",
              "      <td>3</td>\n",
              "      <td>2</td>\n",
              "      <td>3</td>\n",
              "    </tr>\n",
              "    <tr>\n",
              "      <th>4</th>\n",
              "      <td>Entre 18 e 25 anos</td>\n",
              "      <td>1</td>\n",
              "      <td>0</td>\n",
              "      <td>1</td>\n",
              "      <td>3</td>\n",
              "      <td>3</td>\n",
              "      <td>2</td>\n",
              "      <td>2</td>\n",
              "    </tr>\n",
              "    <tr>\n",
              "      <th>...</th>\n",
              "      <td>...</td>\n",
              "      <td>...</td>\n",
              "      <td>...</td>\n",
              "      <td>...</td>\n",
              "      <td>...</td>\n",
              "      <td>...</td>\n",
              "      <td>...</td>\n",
              "      <td>...</td>\n",
              "    </tr>\n",
              "    <tr>\n",
              "      <th>148</th>\n",
              "      <td>Entre 46 e 60 anos</td>\n",
              "      <td>1</td>\n",
              "      <td>0</td>\n",
              "      <td>0</td>\n",
              "      <td>4</td>\n",
              "      <td>4</td>\n",
              "      <td>5</td>\n",
              "      <td>4</td>\n",
              "    </tr>\n",
              "    <tr>\n",
              "      <th>149</th>\n",
              "      <td>mais de 60 anos</td>\n",
              "      <td>1</td>\n",
              "      <td>0</td>\n",
              "      <td>0</td>\n",
              "      <td>3</td>\n",
              "      <td>2</td>\n",
              "      <td>3</td>\n",
              "      <td>3</td>\n",
              "    </tr>\n",
              "    <tr>\n",
              "      <th>150</th>\n",
              "      <td>Entre 36 e 45 anos</td>\n",
              "      <td>1</td>\n",
              "      <td>0</td>\n",
              "      <td>0</td>\n",
              "      <td>2</td>\n",
              "      <td>2</td>\n",
              "      <td>4</td>\n",
              "      <td>2</td>\n",
              "    </tr>\n",
              "    <tr>\n",
              "      <th>151</th>\n",
              "      <td>Entre 26 e 35 anos</td>\n",
              "      <td>1</td>\n",
              "      <td>0</td>\n",
              "      <td>1</td>\n",
              "      <td>4</td>\n",
              "      <td>5</td>\n",
              "      <td>4</td>\n",
              "      <td>5</td>\n",
              "    </tr>\n",
              "    <tr>\n",
              "      <th>152</th>\n",
              "      <td>Entre 26 e 35 anos</td>\n",
              "      <td>1</td>\n",
              "      <td>1</td>\n",
              "      <td>1</td>\n",
              "      <td>5</td>\n",
              "      <td>4</td>\n",
              "      <td>3</td>\n",
              "      <td>4</td>\n",
              "    </tr>\n",
              "  </tbody>\n",
              "</table>\n",
              "<p>153 rows × 8 columns</p>\n",
              "</div>"
            ],
            "text/plain": [
              "        Qual sua Idade?  ...  Como foi sua experiência em trabalhar de casa?\n",
              "0    Entre 18 e 25 anos  ...                                               5\n",
              "1    Entre 18 e 25 anos  ...                                               3\n",
              "2    Entre 18 e 25 anos  ...                                               4\n",
              "3    Entre 18 e 25 anos  ...                                               3\n",
              "4    Entre 18 e 25 anos  ...                                               2\n",
              "..                  ...  ...                                             ...\n",
              "148  Entre 46 e 60 anos  ...                                               4\n",
              "149     mais de 60 anos  ...                                               3\n",
              "150  Entre 36 e 45 anos  ...                                               2\n",
              "151  Entre 26 e 35 anos  ...                                               5\n",
              "152  Entre 26 e 35 anos  ...                                               4\n",
              "\n",
              "[153 rows x 8 columns]"
            ]
          },
          "metadata": {
            "tags": []
          }
        }
      ]
    },
    {
      "cell_type": "code",
      "metadata": {
        "colab": {
          "base_uri": "https://localhost:8080/",
          "height": 321
        },
        "id": "lY2E-imicNWt",
        "outputId": "179dcabe-5dfe-46e9-df49-f53bcb67afbd"
      },
      "source": [
        "display(foco_df.describe())"
      ],
      "execution_count": null,
      "outputs": [
        {
          "output_type": "display_data",
          "data": {
            "text/html": [
              "<div>\n",
              "<style scoped>\n",
              "    .dataframe tbody tr th:only-of-type {\n",
              "        vertical-align: middle;\n",
              "    }\n",
              "\n",
              "    .dataframe tbody tr th {\n",
              "        vertical-align: top;\n",
              "    }\n",
              "\n",
              "    .dataframe thead th {\n",
              "        text-align: right;\n",
              "    }\n",
              "</style>\n",
              "<table border=\"1\" class=\"dataframe\">\n",
              "  <thead>\n",
              "    <tr style=\"text-align: right;\">\n",
              "      <th></th>\n",
              "      <th>Você trabalhou de casa durante a pandemia?</th>\n",
              "      <th>Você já exercia esse modelo de trabalho?</th>\n",
              "      <th>Você se vê e/ou pretende trabalhar remotamente no futuro?</th>\n",
              "      <th>Como você avalia sua adaptação ao Home Office?</th>\n",
              "      <th>Como você avalia a sua produtividade durante a pandemia?</th>\n",
              "      <th>Como você avalia o seu foco durante o trabalho de Home Office?</th>\n",
              "      <th>Como foi sua experiência em trabalhar de casa?</th>\n",
              "    </tr>\n",
              "  </thead>\n",
              "  <tbody>\n",
              "    <tr>\n",
              "      <th>count</th>\n",
              "      <td>153.0</td>\n",
              "      <td>153.000000</td>\n",
              "      <td>153.000000</td>\n",
              "      <td>153.000000</td>\n",
              "      <td>153.000000</td>\n",
              "      <td>153.000000</td>\n",
              "      <td>153.000000</td>\n",
              "    </tr>\n",
              "    <tr>\n",
              "      <th>mean</th>\n",
              "      <td>1.0</td>\n",
              "      <td>0.215686</td>\n",
              "      <td>0.718954</td>\n",
              "      <td>3.843137</td>\n",
              "      <td>3.614379</td>\n",
              "      <td>3.372549</td>\n",
              "      <td>3.660131</td>\n",
              "    </tr>\n",
              "    <tr>\n",
              "      <th>std</th>\n",
              "      <td>0.0</td>\n",
              "      <td>0.412648</td>\n",
              "      <td>0.450986</td>\n",
              "      <td>1.007326</td>\n",
              "      <td>1.088965</td>\n",
              "      <td>1.105503</td>\n",
              "      <td>1.077054</td>\n",
              "    </tr>\n",
              "    <tr>\n",
              "      <th>min</th>\n",
              "      <td>1.0</td>\n",
              "      <td>0.000000</td>\n",
              "      <td>0.000000</td>\n",
              "      <td>1.000000</td>\n",
              "      <td>1.000000</td>\n",
              "      <td>1.000000</td>\n",
              "      <td>1.000000</td>\n",
              "    </tr>\n",
              "    <tr>\n",
              "      <th>25%</th>\n",
              "      <td>1.0</td>\n",
              "      <td>0.000000</td>\n",
              "      <td>0.000000</td>\n",
              "      <td>3.000000</td>\n",
              "      <td>3.000000</td>\n",
              "      <td>3.000000</td>\n",
              "      <td>3.000000</td>\n",
              "    </tr>\n",
              "    <tr>\n",
              "      <th>50%</th>\n",
              "      <td>1.0</td>\n",
              "      <td>0.000000</td>\n",
              "      <td>1.000000</td>\n",
              "      <td>4.000000</td>\n",
              "      <td>4.000000</td>\n",
              "      <td>4.000000</td>\n",
              "      <td>4.000000</td>\n",
              "    </tr>\n",
              "    <tr>\n",
              "      <th>75%</th>\n",
              "      <td>1.0</td>\n",
              "      <td>0.000000</td>\n",
              "      <td>1.000000</td>\n",
              "      <td>5.000000</td>\n",
              "      <td>4.000000</td>\n",
              "      <td>4.000000</td>\n",
              "      <td>4.000000</td>\n",
              "    </tr>\n",
              "    <tr>\n",
              "      <th>max</th>\n",
              "      <td>1.0</td>\n",
              "      <td>1.000000</td>\n",
              "      <td>1.000000</td>\n",
              "      <td>5.000000</td>\n",
              "      <td>5.000000</td>\n",
              "      <td>5.000000</td>\n",
              "      <td>5.000000</td>\n",
              "    </tr>\n",
              "  </tbody>\n",
              "</table>\n",
              "</div>"
            ],
            "text/plain": [
              "       Você trabalhou de casa durante a pandemia?  ...  Como foi sua experiência em trabalhar de casa?\n",
              "count                                       153.0  ...                                      153.000000\n",
              "mean                                          1.0  ...                                        3.660131\n",
              "std                                           0.0  ...                                        1.077054\n",
              "min                                           1.0  ...                                        1.000000\n",
              "25%                                           1.0  ...                                        3.000000\n",
              "50%                                           1.0  ...                                        4.000000\n",
              "75%                                           1.0  ...                                        4.000000\n",
              "max                                           1.0  ...                                        5.000000\n",
              "\n",
              "[8 rows x 7 columns]"
            ]
          },
          "metadata": {
            "tags": []
          }
        }
      ]
    },
    {
      "cell_type": "code",
      "metadata": {
        "colab": {
          "base_uri": "https://localhost:8080/",
          "height": 606
        },
        "id": "ZfYh2UKPcNgy",
        "outputId": "6466951d-577a-453b-ed20-25d28c694c96"
      },
      "source": [
        "foco_positivo_df=foco_df.loc[foco_df['Como você avalia o seu foco durante o trabalho de Home Office?'] > 3]\n",
        "produtividade_positivo_df=foco_df.loc[foco_df['Como você avalia a sua produtividade durante a pandemia?'] > 3]\n",
        "display(foco_positivo_df)"
      ],
      "execution_count": null,
      "outputs": [
        {
          "output_type": "display_data",
          "data": {
            "text/html": [
              "<div>\n",
              "<style scoped>\n",
              "    .dataframe tbody tr th:only-of-type {\n",
              "        vertical-align: middle;\n",
              "    }\n",
              "\n",
              "    .dataframe tbody tr th {\n",
              "        vertical-align: top;\n",
              "    }\n",
              "\n",
              "    .dataframe thead th {\n",
              "        text-align: right;\n",
              "    }\n",
              "</style>\n",
              "<table border=\"1\" class=\"dataframe\">\n",
              "  <thead>\n",
              "    <tr style=\"text-align: right;\">\n",
              "      <th></th>\n",
              "      <th>Qual sua Idade?</th>\n",
              "      <th>Você trabalhou de casa durante a pandemia?</th>\n",
              "      <th>Você já exercia esse modelo de trabalho?</th>\n",
              "      <th>Você se vê e/ou pretende trabalhar remotamente no futuro?</th>\n",
              "      <th>Como você avalia sua adaptação ao Home Office?</th>\n",
              "      <th>Como você avalia a sua produtividade durante a pandemia?</th>\n",
              "      <th>Como você avalia o seu foco durante o trabalho de Home Office?</th>\n",
              "      <th>Como foi sua experiência em trabalhar de casa?</th>\n",
              "    </tr>\n",
              "  </thead>\n",
              "  <tbody>\n",
              "    <tr>\n",
              "      <th>0</th>\n",
              "      <td>Entre 18 e 25 anos</td>\n",
              "      <td>1</td>\n",
              "      <td>0</td>\n",
              "      <td>1</td>\n",
              "      <td>5</td>\n",
              "      <td>4</td>\n",
              "      <td>4</td>\n",
              "      <td>5</td>\n",
              "    </tr>\n",
              "    <tr>\n",
              "      <th>2</th>\n",
              "      <td>Entre 18 e 25 anos</td>\n",
              "      <td>1</td>\n",
              "      <td>0</td>\n",
              "      <td>0</td>\n",
              "      <td>4</td>\n",
              "      <td>3</td>\n",
              "      <td>4</td>\n",
              "      <td>4</td>\n",
              "    </tr>\n",
              "    <tr>\n",
              "      <th>5</th>\n",
              "      <td>Entre 18 e 25 anos</td>\n",
              "      <td>1</td>\n",
              "      <td>0</td>\n",
              "      <td>1</td>\n",
              "      <td>4</td>\n",
              "      <td>4</td>\n",
              "      <td>4</td>\n",
              "      <td>4</td>\n",
              "    </tr>\n",
              "    <tr>\n",
              "      <th>12</th>\n",
              "      <td>Entre 18 e 25 anos</td>\n",
              "      <td>1</td>\n",
              "      <td>0</td>\n",
              "      <td>0</td>\n",
              "      <td>5</td>\n",
              "      <td>5</td>\n",
              "      <td>4</td>\n",
              "      <td>4</td>\n",
              "    </tr>\n",
              "    <tr>\n",
              "      <th>15</th>\n",
              "      <td>Entre 18 e 25 anos</td>\n",
              "      <td>1</td>\n",
              "      <td>0</td>\n",
              "      <td>1</td>\n",
              "      <td>5</td>\n",
              "      <td>5</td>\n",
              "      <td>5</td>\n",
              "      <td>5</td>\n",
              "    </tr>\n",
              "    <tr>\n",
              "      <th>...</th>\n",
              "      <td>...</td>\n",
              "      <td>...</td>\n",
              "      <td>...</td>\n",
              "      <td>...</td>\n",
              "      <td>...</td>\n",
              "      <td>...</td>\n",
              "      <td>...</td>\n",
              "      <td>...</td>\n",
              "    </tr>\n",
              "    <tr>\n",
              "      <th>145</th>\n",
              "      <td>Entre 36 e 45 anos</td>\n",
              "      <td>1</td>\n",
              "      <td>0</td>\n",
              "      <td>1</td>\n",
              "      <td>4</td>\n",
              "      <td>4</td>\n",
              "      <td>4</td>\n",
              "      <td>3</td>\n",
              "    </tr>\n",
              "    <tr>\n",
              "      <th>147</th>\n",
              "      <td>Entre 26 e 35 anos</td>\n",
              "      <td>1</td>\n",
              "      <td>0</td>\n",
              "      <td>1</td>\n",
              "      <td>4</td>\n",
              "      <td>3</td>\n",
              "      <td>4</td>\n",
              "      <td>4</td>\n",
              "    </tr>\n",
              "    <tr>\n",
              "      <th>148</th>\n",
              "      <td>Entre 46 e 60 anos</td>\n",
              "      <td>1</td>\n",
              "      <td>0</td>\n",
              "      <td>0</td>\n",
              "      <td>4</td>\n",
              "      <td>4</td>\n",
              "      <td>5</td>\n",
              "      <td>4</td>\n",
              "    </tr>\n",
              "    <tr>\n",
              "      <th>150</th>\n",
              "      <td>Entre 36 e 45 anos</td>\n",
              "      <td>1</td>\n",
              "      <td>0</td>\n",
              "      <td>0</td>\n",
              "      <td>2</td>\n",
              "      <td>2</td>\n",
              "      <td>4</td>\n",
              "      <td>2</td>\n",
              "    </tr>\n",
              "    <tr>\n",
              "      <th>151</th>\n",
              "      <td>Entre 26 e 35 anos</td>\n",
              "      <td>1</td>\n",
              "      <td>0</td>\n",
              "      <td>1</td>\n",
              "      <td>4</td>\n",
              "      <td>5</td>\n",
              "      <td>4</td>\n",
              "      <td>5</td>\n",
              "    </tr>\n",
              "  </tbody>\n",
              "</table>\n",
              "<p>78 rows × 8 columns</p>\n",
              "</div>"
            ],
            "text/plain": [
              "        Qual sua Idade?  ...  Como foi sua experiência em trabalhar de casa?\n",
              "0    Entre 18 e 25 anos  ...                                               5\n",
              "2    Entre 18 e 25 anos  ...                                               4\n",
              "5    Entre 18 e 25 anos  ...                                               4\n",
              "12   Entre 18 e 25 anos  ...                                               4\n",
              "15   Entre 18 e 25 anos  ...                                               5\n",
              "..                  ...  ...                                             ...\n",
              "145  Entre 36 e 45 anos  ...                                               3\n",
              "147  Entre 26 e 35 anos  ...                                               4\n",
              "148  Entre 46 e 60 anos  ...                                               4\n",
              "150  Entre 36 e 45 anos  ...                                               2\n",
              "151  Entre 26 e 35 anos  ...                                               5\n",
              "\n",
              "[78 rows x 8 columns]"
            ]
          },
          "metadata": {
            "tags": []
          }
        }
      ]
    },
    {
      "cell_type": "code",
      "metadata": {
        "colab": {
          "base_uri": "https://localhost:8080/",
          "height": 321
        },
        "id": "4L7ekeg3cNnP",
        "outputId": "0a898e0e-2912-446c-b9d9-972bc489a9d2"
      },
      "source": [
        "display(foco_positivo_df.describe())"
      ],
      "execution_count": null,
      "outputs": [
        {
          "output_type": "display_data",
          "data": {
            "text/html": [
              "<div>\n",
              "<style scoped>\n",
              "    .dataframe tbody tr th:only-of-type {\n",
              "        vertical-align: middle;\n",
              "    }\n",
              "\n",
              "    .dataframe tbody tr th {\n",
              "        vertical-align: top;\n",
              "    }\n",
              "\n",
              "    .dataframe thead th {\n",
              "        text-align: right;\n",
              "    }\n",
              "</style>\n",
              "<table border=\"1\" class=\"dataframe\">\n",
              "  <thead>\n",
              "    <tr style=\"text-align: right;\">\n",
              "      <th></th>\n",
              "      <th>Você trabalhou de casa durante a pandemia?</th>\n",
              "      <th>Você já exercia esse modelo de trabalho?</th>\n",
              "      <th>Você se vê e/ou pretende trabalhar remotamente no futuro?</th>\n",
              "      <th>Como você avalia sua adaptação ao Home Office?</th>\n",
              "      <th>Como você avalia a sua produtividade durante a pandemia?</th>\n",
              "      <th>Como você avalia o seu foco durante o trabalho de Home Office?</th>\n",
              "      <th>Como foi sua experiência em trabalhar de casa?</th>\n",
              "    </tr>\n",
              "  </thead>\n",
              "  <tbody>\n",
              "    <tr>\n",
              "      <th>count</th>\n",
              "      <td>78.0</td>\n",
              "      <td>78.000000</td>\n",
              "      <td>78.000000</td>\n",
              "      <td>78.000000</td>\n",
              "      <td>78.000000</td>\n",
              "      <td>78.000000</td>\n",
              "      <td>78.000000</td>\n",
              "    </tr>\n",
              "    <tr>\n",
              "      <th>mean</th>\n",
              "      <td>1.0</td>\n",
              "      <td>0.230769</td>\n",
              "      <td>0.807692</td>\n",
              "      <td>4.217949</td>\n",
              "      <td>4.153846</td>\n",
              "      <td>4.294872</td>\n",
              "      <td>4.102564</td>\n",
              "    </tr>\n",
              "    <tr>\n",
              "      <th>std</th>\n",
              "      <td>0.0</td>\n",
              "      <td>0.424052</td>\n",
              "      <td>0.396664</td>\n",
              "      <td>0.892209</td>\n",
              "      <td>0.912780</td>\n",
              "      <td>0.458936</td>\n",
              "      <td>0.961462</td>\n",
              "    </tr>\n",
              "    <tr>\n",
              "      <th>min</th>\n",
              "      <td>1.0</td>\n",
              "      <td>0.000000</td>\n",
              "      <td>0.000000</td>\n",
              "      <td>1.000000</td>\n",
              "      <td>1.000000</td>\n",
              "      <td>4.000000</td>\n",
              "      <td>1.000000</td>\n",
              "    </tr>\n",
              "    <tr>\n",
              "      <th>25%</th>\n",
              "      <td>1.0</td>\n",
              "      <td>0.000000</td>\n",
              "      <td>1.000000</td>\n",
              "      <td>4.000000</td>\n",
              "      <td>4.000000</td>\n",
              "      <td>4.000000</td>\n",
              "      <td>4.000000</td>\n",
              "    </tr>\n",
              "    <tr>\n",
              "      <th>50%</th>\n",
              "      <td>1.0</td>\n",
              "      <td>0.000000</td>\n",
              "      <td>1.000000</td>\n",
              "      <td>4.000000</td>\n",
              "      <td>4.000000</td>\n",
              "      <td>4.000000</td>\n",
              "      <td>4.000000</td>\n",
              "    </tr>\n",
              "    <tr>\n",
              "      <th>75%</th>\n",
              "      <td>1.0</td>\n",
              "      <td>0.000000</td>\n",
              "      <td>1.000000</td>\n",
              "      <td>5.000000</td>\n",
              "      <td>5.000000</td>\n",
              "      <td>5.000000</td>\n",
              "      <td>5.000000</td>\n",
              "    </tr>\n",
              "    <tr>\n",
              "      <th>max</th>\n",
              "      <td>1.0</td>\n",
              "      <td>1.000000</td>\n",
              "      <td>1.000000</td>\n",
              "      <td>5.000000</td>\n",
              "      <td>5.000000</td>\n",
              "      <td>5.000000</td>\n",
              "      <td>5.000000</td>\n",
              "    </tr>\n",
              "  </tbody>\n",
              "</table>\n",
              "</div>"
            ],
            "text/plain": [
              "       Você trabalhou de casa durante a pandemia?  ...  Como foi sua experiência em trabalhar de casa?\n",
              "count                                        78.0  ...                                       78.000000\n",
              "mean                                          1.0  ...                                        4.102564\n",
              "std                                           0.0  ...                                        0.961462\n",
              "min                                           1.0  ...                                        1.000000\n",
              "25%                                           1.0  ...                                        4.000000\n",
              "50%                                           1.0  ...                                        4.000000\n",
              "75%                                           1.0  ...                                        5.000000\n",
              "max                                           1.0  ...                                        5.000000\n",
              "\n",
              "[8 rows x 7 columns]"
            ]
          },
          "metadata": {
            "tags": []
          }
        }
      ]
    },
    {
      "cell_type": "code",
      "metadata": {
        "colab": {
          "base_uri": "https://localhost:8080/",
          "height": 282
        },
        "id": "YrhY1crscNtk",
        "outputId": "80feb3f0-9e59-481f-9769-77d699fcfb82"
      },
      "source": [
        "plt.plot(foco_positivo_df[[\"Como você avalia o seu foco durante o trabalho de Home Office?\",\"Como você avalia a sua produtividade durante a pandemia?\"]])\n",
        "plt.show"
      ],
      "execution_count": null,
      "outputs": [
        {
          "output_type": "execute_result",
          "data": {
            "text/plain": [
              "<function matplotlib.pyplot.show>"
            ]
          },
          "metadata": {
            "tags": []
          },
          "execution_count": 8
        },
        {
          "output_type": "display_data",
          "data": {
            "image/png": "[encoded data removed]",
            "text/plain": [
              "<Figure size 432x288 with 1 Axes>"
            ]
          },
          "metadata": {
            "tags": [],
            "needs_background": "light"
          }
        }
      ]
    },
    {
      "cell_type": "code",
      "metadata": {
        "colab": {
          "base_uri": "https://localhost:8080/",
          "height": 282
        },
        "id": "hb4dbOhFcN-2",
        "outputId": "74ec9c01-0c06-4892-9cda-7c3ef6bb8e59"
      },
      "source": [
        "plt.plot(produtividade_positivo_df[[\"Como você avalia o seu foco durante o trabalho de Home Office?\",\"Como você avalia a sua produtividade durante a pandemia?\"]])\n",
        "plt.show"
      ],
      "execution_count": null,
      "outputs": [
        {
          "output_type": "execute_result",
          "data": {
            "text/plain": [
              "<function matplotlib.pyplot.show>"
            ]
          },
          "metadata": {
            "tags": []
          },
          "execution_count": 9
        },
        {
          "output_type": "display_data",
          "data": {
            "image/png": "[encoded data removed]",
            "text/plain": [
              "<Figure size 432x288 with 1 Axes>"
            ]
          },
          "metadata": {
            "tags": [],
            "needs_background": "light"
          }
        }
      ]
    },
    {
      "cell_type": "markdown",
      "metadata": {
        "id": "PychjGF2KAV9"
      },
      "source": [
        "\n",
        "\n",
        "# Saúde Mental\n",
        "\n",
        "```\n",
        "# Vittoria\n",
        "```"
      ]
    },
    {
      "cell_type": "code",
      "metadata": {
        "id": "Ko_zNrvRKA-B",
        "colab": {
          "base_uri": "https://localhost:8080/",
          "height": 623
        },
        "outputId": "6331b1a1-0092-4f34-b070-6e34aee78e23"
      },
      "source": [
        "import pandas as pd\n",
        "\n",
        "respostas = 'https://github.com/vittoria-thomasini/comportment-analytics-covid19/blob/main/Planilhas/Saude%20mental.csv?raw=true'\n",
        "\n",
        "dados = pd.read_csv(respostas,  delimiter=';' )\n",
        "dados"
      ],
      "execution_count": null,
      "outputs": [
        {
          "output_type": "execute_result",
          "data": {
            "text/html": [
              "<div>\n",
              "<style scoped>\n",
              "    .dataframe tbody tr th:only-of-type {\n",
              "        vertical-align: middle;\n",
              "    }\n",
              "\n",
              "    .dataframe tbody tr th {\n",
              "        vertical-align: top;\n",
              "    }\n",
              "\n",
              "    .dataframe thead th {\n",
              "        text-align: right;\n",
              "    }\n",
              "</style>\n",
              "<table border=\"1\" class=\"dataframe\">\n",
              "  <thead>\n",
              "    <tr style=\"text-align: right;\">\n",
              "      <th></th>\n",
              "      <th>Qual sua Idade?</th>\n",
              "      <th>Você trabalhou de casa durante a pandemia?</th>\n",
              "      <th>Você se vê e/ou pretende trabalhar remotamente no futuro?</th>\n",
              "      <th>Como você avalia o seu nível de fadiga (Cansaço excessivo) durante o trabalho de Home Office?</th>\n",
              "      <th>Como você avalia o seu nível de estresse durante o trabalho de Home Office?</th>\n",
              "      <th>Como foi sua experiência em trabalhar de casa?</th>\n",
              "    </tr>\n",
              "  </thead>\n",
              "  <tbody>\n",
              "    <tr>\n",
              "      <th>0</th>\n",
              "      <td>Entre 18 e 25 anos</td>\n",
              "      <td>Sim</td>\n",
              "      <td>Sim</td>\n",
              "      <td>3</td>\n",
              "      <td>3</td>\n",
              "      <td>5</td>\n",
              "    </tr>\n",
              "    <tr>\n",
              "      <th>1</th>\n",
              "      <td>Entre 18 e 25 anos</td>\n",
              "      <td>Sim</td>\n",
              "      <td>Não</td>\n",
              "      <td>3</td>\n",
              "      <td>3</td>\n",
              "      <td>3</td>\n",
              "    </tr>\n",
              "    <tr>\n",
              "      <th>2</th>\n",
              "      <td>Entre 18 e 25 anos</td>\n",
              "      <td>Sim</td>\n",
              "      <td>Não</td>\n",
              "      <td>5</td>\n",
              "      <td>4</td>\n",
              "      <td>4</td>\n",
              "    </tr>\n",
              "    <tr>\n",
              "      <th>3</th>\n",
              "      <td>Entre 18 e 25 anos</td>\n",
              "      <td>Sim</td>\n",
              "      <td>Sim</td>\n",
              "      <td>5</td>\n",
              "      <td>3</td>\n",
              "      <td>3</td>\n",
              "    </tr>\n",
              "    <tr>\n",
              "      <th>4</th>\n",
              "      <td>Entre 18 e 25 anos</td>\n",
              "      <td>Sim</td>\n",
              "      <td>Sim</td>\n",
              "      <td>3</td>\n",
              "      <td>4</td>\n",
              "      <td>2</td>\n",
              "    </tr>\n",
              "    <tr>\n",
              "      <th>...</th>\n",
              "      <td>...</td>\n",
              "      <td>...</td>\n",
              "      <td>...</td>\n",
              "      <td>...</td>\n",
              "      <td>...</td>\n",
              "      <td>...</td>\n",
              "    </tr>\n",
              "    <tr>\n",
              "      <th>148</th>\n",
              "      <td>Entre 46 e 60 anos</td>\n",
              "      <td>Sim</td>\n",
              "      <td>Não</td>\n",
              "      <td>5</td>\n",
              "      <td>5</td>\n",
              "      <td>4</td>\n",
              "    </tr>\n",
              "    <tr>\n",
              "      <th>149</th>\n",
              "      <td>mais de 60 anos</td>\n",
              "      <td>Sim</td>\n",
              "      <td>Não</td>\n",
              "      <td>3</td>\n",
              "      <td>3</td>\n",
              "      <td>3</td>\n",
              "    </tr>\n",
              "    <tr>\n",
              "      <th>150</th>\n",
              "      <td>Entre 36 e 45 anos</td>\n",
              "      <td>Sim</td>\n",
              "      <td>Não</td>\n",
              "      <td>2</td>\n",
              "      <td>2</td>\n",
              "      <td>2</td>\n",
              "    </tr>\n",
              "    <tr>\n",
              "      <th>151</th>\n",
              "      <td>Entre 26 e 35 anos</td>\n",
              "      <td>Sim</td>\n",
              "      <td>Sim</td>\n",
              "      <td>5</td>\n",
              "      <td>5</td>\n",
              "      <td>5</td>\n",
              "    </tr>\n",
              "    <tr>\n",
              "      <th>152</th>\n",
              "      <td>Entre 26 e 35 anos</td>\n",
              "      <td>Sim</td>\n",
              "      <td>Sim</td>\n",
              "      <td>3</td>\n",
              "      <td>2</td>\n",
              "      <td>4</td>\n",
              "    </tr>\n",
              "  </tbody>\n",
              "</table>\n",
              "<p>153 rows × 6 columns</p>\n",
              "</div>"
            ],
            "text/plain": [
              "        Qual sua Idade?  ... Como foi sua experiência em trabalhar de casa?\n",
              "0    Entre 18 e 25 anos  ...                                              5\n",
              "1    Entre 18 e 25 anos  ...                                              3\n",
              "2    Entre 18 e 25 anos  ...                                              4\n",
              "3    Entre 18 e 25 anos  ...                                              3\n",
              "4    Entre 18 e 25 anos  ...                                              2\n",
              "..                  ...  ...                                            ...\n",
              "148  Entre 46 e 60 anos  ...                                              4\n",
              "149     mais de 60 anos  ...                                              3\n",
              "150  Entre 36 e 45 anos  ...                                              2\n",
              "151  Entre 26 e 35 anos  ...                                              5\n",
              "152  Entre 26 e 35 anos  ...                                              4\n",
              "\n",
              "[153 rows x 6 columns]"
            ]
          },
          "metadata": {
            "tags": []
          },
          "execution_count": 9
        }
      ]
    },
    {
      "cell_type": "markdown",
      "metadata": {
        "id": "Q2TDMpk8xiQ8"
      },
      "source": [
        "# Seção - Gustavo"
      ]
    },
    {
      "cell_type": "code",
      "metadata": {
        "id": "sWIts3gqxtZe"
      },
      "source": [
        "import pandas as pd\n",
        "import matplotlib.pyplot as plt\n",
        "\n",
        "\n",
        "respostas = pd.read_csv('/content/Relacaoempresas.csv')\n",
        "respostas"
      ],
      "execution_count": null,
      "outputs": []
    },
    {
      "cell_type": "code",
      "metadata": {
        "colab": {
          "base_uri": "https://localhost:8080/",
          "height": 827
        },
        "id": "-LH7GB5kEIMN",
        "outputId": "75abdbc1-0e70-45c5-c2a9-d550764c9a3f"
      },
      "source": [
        "respostas = respostas.replace('Sim', 1)\n",
        "respostas = respostas.replace('Não', 0)\n",
        "respostas\n",
        "  "
      ],
      "execution_count": null,
      "outputs": [
        {
          "output_type": "execute_result",
          "data": {
            "text/html": [
              "<div>\n",
              "<style scoped>\n",
              "    .dataframe tbody tr th:only-of-type {\n",
              "        vertical-align: middle;\n",
              "    }\n",
              "\n",
              "    .dataframe tbody tr th {\n",
              "        vertical-align: top;\n",
              "    }\n",
              "\n",
              "    .dataframe thead th {\n",
              "        text-align: right;\n",
              "    }\n",
              "</style>\n",
              "<table border=\"1\" class=\"dataframe\">\n",
              "  <thead>\n",
              "    <tr style=\"text-align: right;\">\n",
              "      <th></th>\n",
              "      <th>Qual sua Idade?</th>\n",
              "      <th>Você trabalhou de casa durante a pandemia?</th>\n",
              "      <th>Você já exercia esse modelo de trabalho?</th>\n",
              "      <th>Você sente que sua carga de trabalho aumentou durante o trabalho de casa?</th>\n",
              "      <th>Por conta do home office você trabalhou mais do que a sua carga horária contratual?</th>\n",
              "      <th>Você se vê e/ou pretende trabalhar remotamente no futuro?</th>\n",
              "      <th>Como você avalia o suporte/auxílio que a sua empresa prestou durante o trabalho de Home Office?</th>\n",
              "      <th>Como você avalia o entrosamento com seus colegas de trabalho durante Home Office?</th>\n",
              "      <th>Como foi sua experiência em trabalhar de casa?</th>\n",
              "    </tr>\n",
              "  </thead>\n",
              "  <tbody>\n",
              "    <tr>\n",
              "      <th>0</th>\n",
              "      <td>Entre 18 e 25 anos</td>\n",
              "      <td>1</td>\n",
              "      <td>0</td>\n",
              "      <td>0</td>\n",
              "      <td>0</td>\n",
              "      <td>1</td>\n",
              "      <td>3</td>\n",
              "      <td>4</td>\n",
              "      <td>5</td>\n",
              "    </tr>\n",
              "    <tr>\n",
              "      <th>1</th>\n",
              "      <td>Entre 18 e 25 anos</td>\n",
              "      <td>1</td>\n",
              "      <td>0</td>\n",
              "      <td>0</td>\n",
              "      <td>0</td>\n",
              "      <td>0</td>\n",
              "      <td>3</td>\n",
              "      <td>3</td>\n",
              "      <td>3</td>\n",
              "    </tr>\n",
              "    <tr>\n",
              "      <th>2</th>\n",
              "      <td>Entre 18 e 25 anos</td>\n",
              "      <td>1</td>\n",
              "      <td>0</td>\n",
              "      <td>1</td>\n",
              "      <td>1</td>\n",
              "      <td>0</td>\n",
              "      <td>5</td>\n",
              "      <td>5</td>\n",
              "      <td>4</td>\n",
              "    </tr>\n",
              "    <tr>\n",
              "      <th>3</th>\n",
              "      <td>Entre 18 e 25 anos</td>\n",
              "      <td>1</td>\n",
              "      <td>0</td>\n",
              "      <td>0</td>\n",
              "      <td>0</td>\n",
              "      <td>1</td>\n",
              "      <td>3</td>\n",
              "      <td>2</td>\n",
              "      <td>3</td>\n",
              "    </tr>\n",
              "    <tr>\n",
              "      <th>4</th>\n",
              "      <td>Entre 18 e 25 anos</td>\n",
              "      <td>1</td>\n",
              "      <td>0</td>\n",
              "      <td>1</td>\n",
              "      <td>1</td>\n",
              "      <td>1</td>\n",
              "      <td>5</td>\n",
              "      <td>4</td>\n",
              "      <td>2</td>\n",
              "    </tr>\n",
              "    <tr>\n",
              "      <th>...</th>\n",
              "      <td>...</td>\n",
              "      <td>...</td>\n",
              "      <td>...</td>\n",
              "      <td>...</td>\n",
              "      <td>...</td>\n",
              "      <td>...</td>\n",
              "      <td>...</td>\n",
              "      <td>...</td>\n",
              "      <td>...</td>\n",
              "    </tr>\n",
              "    <tr>\n",
              "      <th>148</th>\n",
              "      <td>Entre 46 e 60 anos</td>\n",
              "      <td>1</td>\n",
              "      <td>0</td>\n",
              "      <td>1</td>\n",
              "      <td>1</td>\n",
              "      <td>0</td>\n",
              "      <td>4</td>\n",
              "      <td>4</td>\n",
              "      <td>4</td>\n",
              "    </tr>\n",
              "    <tr>\n",
              "      <th>149</th>\n",
              "      <td>mais de 60 anos</td>\n",
              "      <td>1</td>\n",
              "      <td>0</td>\n",
              "      <td>0</td>\n",
              "      <td>0</td>\n",
              "      <td>0</td>\n",
              "      <td>2</td>\n",
              "      <td>4</td>\n",
              "      <td>3</td>\n",
              "    </tr>\n",
              "    <tr>\n",
              "      <th>150</th>\n",
              "      <td>Entre 36 e 45 anos</td>\n",
              "      <td>1</td>\n",
              "      <td>0</td>\n",
              "      <td>1</td>\n",
              "      <td>0</td>\n",
              "      <td>0</td>\n",
              "      <td>4</td>\n",
              "      <td>3</td>\n",
              "      <td>2</td>\n",
              "    </tr>\n",
              "    <tr>\n",
              "      <th>151</th>\n",
              "      <td>Entre 26 e 35 anos</td>\n",
              "      <td>1</td>\n",
              "      <td>0</td>\n",
              "      <td>0</td>\n",
              "      <td>0</td>\n",
              "      <td>1</td>\n",
              "      <td>5</td>\n",
              "      <td>4</td>\n",
              "      <td>5</td>\n",
              "    </tr>\n",
              "    <tr>\n",
              "      <th>152</th>\n",
              "      <td>Entre 26 e 35 anos</td>\n",
              "      <td>1</td>\n",
              "      <td>1</td>\n",
              "      <td>1</td>\n",
              "      <td>1</td>\n",
              "      <td>1</td>\n",
              "      <td>3</td>\n",
              "      <td>5</td>\n",
              "      <td>4</td>\n",
              "    </tr>\n",
              "  </tbody>\n",
              "</table>\n",
              "<p>153 rows × 9 columns</p>\n",
              "</div>"
            ],
            "text/plain": [
              "        Qual sua Idade?  ...  Como foi sua experiência em trabalhar de casa?\n",
              "0    Entre 18 e 25 anos  ...                                               5\n",
              "1    Entre 18 e 25 anos  ...                                               3\n",
              "2    Entre 18 e 25 anos  ...                                               4\n",
              "3    Entre 18 e 25 anos  ...                                               3\n",
              "4    Entre 18 e 25 anos  ...                                               2\n",
              "..                  ...  ...                                             ...\n",
              "148  Entre 46 e 60 anos  ...                                               4\n",
              "149     mais de 60 anos  ...                                               3\n",
              "150  Entre 36 e 45 anos  ...                                               2\n",
              "151  Entre 26 e 35 anos  ...                                               5\n",
              "152  Entre 26 e 35 anos  ...                                               4\n",
              "\n",
              "[153 rows x 9 columns]"
            ]
          },
          "metadata": {
            "tags": []
          },
          "execution_count": 5
        }
      ]
    },
    {
      "cell_type": "code",
      "metadata": {
        "id": "uLiTnt6ffWze",
        "colab": {
          "base_uri": "https://localhost:8080/",
          "height": 197
        },
        "outputId": "6f8705f8-2f9b-4603-a39a-5adc8e430886"
      },
      "source": [
        "#coluna3 = respostas['Você já exercia esse modelo de trabalho?']\n",
        "#coluna4 = respostas['Você sente que sua carga de trabalho aumentou durante o trabalho de casa?']\n",
        "#coluna5 = respostas['Por conta do home office você trabalhou mais do que a sua carga horária contratual?']\n",
        "#coluna6 = respostas['Você se vê e/ou pretende trabalhar remotamente no futuro?']\n",
        "respostas.hist['Você já exercia esse modelo de trabalho?']\n"
      ],
      "execution_count": null,
      "outputs": [
        {
          "output_type": "error",
          "ename": "TypeError",
          "evalue": "ignored",
          "traceback": [
            "\u001b[0;31m---------------------------------------------------------------------------\u001b[0m",
            "\u001b[0;31mTypeError\u001b[0m                                 Traceback (most recent call last)",
            "\u001b[0;32m<ipython-input-7-c9070af5fb91>\u001b[0m in \u001b[0;36m<module>\u001b[0;34m()\u001b[0m\n\u001b[1;32m      3\u001b[0m \u001b[0;31m#coluna5 = respostas['Por conta do home office você trabalhou mais do que a sua carga horária contratual?']\u001b[0m\u001b[0;34m\u001b[0m\u001b[0;34m\u001b[0m\u001b[0;34m\u001b[0m\u001b[0m\n\u001b[1;32m      4\u001b[0m \u001b[0;31m#coluna6 = respostas['Você se vê e/ou pretende trabalhar remotamente no futuro?']\u001b[0m\u001b[0;34m\u001b[0m\u001b[0;34m\u001b[0m\u001b[0;34m\u001b[0m\u001b[0m\n\u001b[0;32m----> 5\u001b[0;31m \u001b[0mrespostas\u001b[0m\u001b[0;34m.\u001b[0m\u001b[0mhist\u001b[0m\u001b[0;34m[\u001b[0m\u001b[0;34m'Você já exercia esse modelo de trabalho?'\u001b[0m\u001b[0;34m]\u001b[0m\u001b[0;34m\u001b[0m\u001b[0;34m\u001b[0m\u001b[0m\n\u001b[0m",
            "\u001b[0;31mTypeError\u001b[0m: 'method' object is not subscriptable"
          ]
        }
      ]
    },
    {
      "cell_type": "markdown",
      "metadata": {
        "id": "AN_RXVFGVAeZ"
      },
      "source": [
        "# Idades - Gabriel"
      ]
    },
    {
      "cell_type": "code",
      "metadata": {
        "id": "L-rBcgXqVUo7"
      },
      "source": [
        "import pandas as pd\n",
        "\n",
        "respostas = pd.read_csv('https://github.com/vittoria-thomasini/comportment-analytics-covid19/blob/main/Planilhas/Idades.csv?raw=true', delimiter = ';')\n",
        "respostas"
      ],
      "execution_count": null,
      "outputs": []
    },
    {
      "cell_type": "code",
      "metadata": {
        "id": "6CFjnABQVeZi"
      },
      "source": [
        "respostas = respostas.replace('Menos de 18 anos', '-18')\n",
        "respostas = respostas.replace('Entre 18 e 25 anos', '18-25')\n",
        "respostas = respostas.replace('Entre 26 e 35 anos', '26-35')\n",
        "respostas = respostas.replace('Entre 36 e 45 anos', '36-45')\n",
        "respostas = respostas.replace('Entre 46 e 60 anos', '46-59')\n",
        "respostas = respostas.replace('mais de 60 anos', '60+')\n",
        "respostas = respostas.replace('Sim', 1)\n",
        "respostas = respostas.replace('Não', 0)"
      ],
      "execution_count": null,
      "outputs": []
    },
    {
      "cell_type": "code",
      "metadata": {
        "id": "0XnZYh2eVfui"
      },
      "source": [
        "import matplotlib.pyplot as plt\n",
        "\n",
        "plt.hist(respostas[\"Qual sua Idade?\"])\n",
        "print(\"Gráfico idades\")\n",
        "plt.show()"
      ],
      "execution_count": null,
      "outputs": []
    },
    {
      "cell_type": "code",
      "metadata": {
        "id": "sFZuARduVzdj"
      },
      "source": [
        "print('Total de Pessoas que trabalharam remotamente durante a pandemia')\n",
        "filtro1_1 = respostas.loc[respostas['Você trabalhou de casa durante a pandemia?'] == 1]\n",
        "filtro1_1['Você trabalhou de casa durante a pandemia?'].count()"
      ],
      "execution_count": null,
      "outputs": []
    },
    {
      "cell_type": "code",
      "metadata": {
        "id": "ldFSA7bnV5Y9"
      },
      "source": [
        "print('Total de Pessoas que NÃO trabalharam remotamente durante a pandemia')\n",
        "filtro1_2 = respostas.loc[respostas['Você trabalhou de casa durante a pandemia?'] == 0]\n",
        "filtro1_2['Você trabalhou de casa durante a pandemia?'].count()"
      ],
      "execution_count": null,
      "outputs": []
    },
    {
      "cell_type": "code",
      "metadata": {
        "id": "E4PftwN5V6y1"
      },
      "source": [
        "## Pessoas que NÃO trabalharam remotamente durante a pandemia\n",
        "\n",
        "respostas2 = pd.read_csv('https://github.com/vittoria-thomasini/comportment-analytics-covid19/blob/main/Planilhas/Idades.csv?raw=true', delimiter = ';', usecols = [\"Qual sua Idade?\", \"Você se vê e/ou gostaria de trabalhar remotamente no futuro?\"])\n",
        "respostas2 = respostas2.replace('Menos de 18 anos', '-18')\n",
        "respostas2 = respostas2.replace('Entre 18 e 25 anos', '18-25')\n",
        "respostas2 = respostas2.replace('Entre 26 e 35 anos', '26-35')\n",
        "respostas2 = respostas2.replace('Entre 36 e 45 anos', '36-45')\n",
        "respostas2 = respostas2.replace('Entre 46 e 60 anos', '46-59')\n",
        "respostas2 = respostas2.replace('mais de 60 anos', '60+')\n",
        "respostas2 = respostas2.replace('Sim', 1)\n",
        "respostas2 = respostas2.replace('Não', 0)\n",
        "\n",
        "respostas2"
      ],
      "execution_count": null,
      "outputs": []
    },
    {
      "cell_type": "code",
      "metadata": {
        "id": "03S0jaqNV9Zp"
      },
      "source": [
        "## Sim = 1 / Não = 0\n",
        "\n",
        "filtro2_1 = respostas2.loc[respostas2['Você se vê e/ou gostaria de trabalhar remotamente no futuro?'] == 1]\n",
        "filtro2_2 = respostas2.loc[respostas2['Você se vê e/ou gostaria de trabalhar remotamente no futuro?'] == 0]"
      ],
      "execution_count": null,
      "outputs": []
    },
    {
      "cell_type": "code",
      "metadata": {
        "id": "3WhTICx5WCCG"
      },
      "source": [
        "print('Total de Sim')\n",
        "filtro2_1['Você se vê e/ou gostaria de trabalhar remotamente no futuro?'].count()"
      ],
      "execution_count": null,
      "outputs": []
    },
    {
      "cell_type": "code",
      "metadata": {
        "id": "m4HrwHoYWEOb"
      },
      "source": [
        "print('Total de Não')\n",
        "filtro2_2['Você se vê e/ou gostaria de trabalhar remotamente no futuro?'].count()"
      ],
      "execution_count": null,
      "outputs": []
    },
    {
      "cell_type": "code",
      "metadata": {
        "id": "yza2rdQXWGMP"
      },
      "source": [
        "print('Idade pessoas que NÃO gostariam de trabalhar remotamente no futuro')\n",
        "plt.hist(filtro2_2[\"Qual sua Idade?\"])\n",
        "plt.show()"
      ],
      "execution_count": null,
      "outputs": []
    },
    {
      "cell_type": "code",
      "metadata": {
        "id": "XdaWbfjJWHeD"
      },
      "source": [
        "## Pessoas que trabalharam remotamente durante a pandemia\n",
        "\n",
        "respostas3 = pd.read_csv('https://github.com/vittoria-thomasini/comportment-analytics-covid19/blob/main/Planilhas/Idades.csv?raw=true', delimiter = ';', usecols = [\"Qual sua Idade?\", \"Você se vê e/ou pretende trabalhar remotamente no futuro?\"])\n",
        "respostas3 = respostas3.replace('Menos de 18 anos', '-18')\n",
        "respostas3 = respostas3.replace('Entre 18 e 25 anos', '18-25')\n",
        "respostas3 = respostas3.replace('Entre 26 e 35 anos', '26-35')\n",
        "respostas3 = respostas3.replace('Entre 36 e 45 anos', '36-45')\n",
        "respostas3 = respostas3.replace('Entre 46 e 60 anos', '46-59')\n",
        "respostas3 = respostas3.replace('mais de 60 anos', '60+')\n",
        "respostas3 = respostas3.replace('Sim', 1)\n",
        "respostas3 = respostas3.replace('Não', 0)\n",
        "\n",
        "respostas3"
      ],
      "execution_count": null,
      "outputs": []
    },
    {
      "cell_type": "code",
      "metadata": {
        "id": "LLTeFSHnWJlM"
      },
      "source": [
        "## Sim = 1 / Não = 0\n",
        "\n",
        "filtro3_1 = respostas3.loc[respostas3['Você se vê e/ou pretende trabalhar remotamente no futuro?'] == 1]\n",
        "filtro3_2 = respostas3.loc[respostas3['Você se vê e/ou pretende trabalhar remotamente no futuro?'] == 0]"
      ],
      "execution_count": null,
      "outputs": []
    },
    {
      "cell_type": "code",
      "metadata": {
        "id": "tq3Ih2BUWL9e"
      },
      "source": [
        "print('Total de Sim')\n",
        "filtro3_1['Você se vê e/ou pretende trabalhar remotamente no futuro?'].count()"
      ],
      "execution_count": null,
      "outputs": []
    },
    {
      "cell_type": "code",
      "metadata": {
        "id": "vGfifyRjWNdv"
      },
      "source": [
        "print('Total de Não')\n",
        "filtro3_2['Você se vê e/ou pretende trabalhar remotamente no futuro?'].count()"
      ],
      "execution_count": null,
      "outputs": []
    },
    {
      "cell_type": "code",
      "metadata": {
        "id": "Q6jFjENdWOXx"
      },
      "source": [
        "print('Idade pessoas que gostariam de trabalhar remotamente no futuro')\n",
        "plt.hist(filtro3_1[\"Qual sua Idade?\"])\n",
        "plt.show()"
      ],
      "execution_count": null,
      "outputs": []
    },
    {
      "cell_type": "code",
      "metadata": {
        "id": "SeJMmKmIWQYu"
      },
      "source": [
        "## Adaptação ao Home Office\n",
        "\n",
        "respostas4 = pd.read_csv('https://github.com/vittoria-thomasini/comportment-analytics-covid19/blob/main/Planilhas/Idades.csv?raw=true', delimiter = ';', usecols = [\"Qual sua Idade?\", \"Como você avalia sua adaptação ao Home Office?\"])\n",
        "respostas4 = respostas4.replace('Menos de 18 anos', '-18')\n",
        "respostas4 = respostas4.replace('Entre 18 e 25 anos', '18-25')\n",
        "respostas4 = respostas4.replace('Entre 26 e 35 anos', '26-35')\n",
        "respostas4 = respostas4.replace('Entre 36 e 45 anos', '36-45')\n",
        "respostas4 = respostas4.replace('Entre 46 e 60 anos', '46-59')\n",
        "respostas4 = respostas4.replace('mais de 60 anos', '60+')\n",
        "\n",
        "respostas4"
      ],
      "execution_count": null,
      "outputs": []
    },
    {
      "cell_type": "code",
      "metadata": {
        "id": "nnChmZxTWSSE"
      },
      "source": [
        "## >3 = bom / <3 = ruim / 3 = neutro\n",
        "\n",
        "filtro4_1 = respostas4.loc[respostas4['Como você avalia sua adaptação ao Home Office?'] > 3]\n",
        "filtro4_2 = respostas4.loc[respostas4['Como você avalia sua adaptação ao Home Office?'] < 3]\n",
        "filtro4_3 = respostas4.loc[respostas4['Como você avalia sua adaptação ao Home Office?'] == 3]"
      ],
      "execution_count": null,
      "outputs": []
    },
    {
      "cell_type": "code",
      "metadata": {
        "id": "418a9XKRWUWB"
      },
      "source": [
        "print('Total de Bom')\n",
        "filtro4_1['Como você avalia sua adaptação ao Home Office?'].count()"
      ],
      "execution_count": null,
      "outputs": []
    },
    {
      "cell_type": "code",
      "metadata": {
        "id": "HA0HOogOWWiW"
      },
      "source": [
        "print('Total de Neutros')\n",
        "filtro4_3['Como você avalia sua adaptação ao Home Office?'].count()"
      ],
      "execution_count": null,
      "outputs": []
    },
    {
      "cell_type": "code",
      "metadata": {
        "id": "2b6HZcoxWYQ5"
      },
      "source": [
        "print('Total de Ruim')\n",
        "filtro4_2['Como você avalia sua adaptação ao Home Office?'].count()"
      ],
      "execution_count": null,
      "outputs": []
    },
    {
      "cell_type": "code",
      "metadata": {
        "id": "bVPKGMphWaIl"
      },
      "source": [
        "print('Idade pessoas que se adaptaram bem ao Home Office')\n",
        "plt.hist(filtro4_1[\"Qual sua Idade?\"])\n",
        "plt.show()"
      ],
      "execution_count": null,
      "outputs": []
    },
    {
      "cell_type": "code",
      "metadata": {
        "id": "7sQOKmLKWb8L"
      },
      "source": [
        "## Nível de Fadíga\n",
        "\n",
        "respostas5 = pd.read_csv('https://github.com/vittoria-thomasini/comportment-analytics-covid19/blob/main/Planilhas/Idades.csv?raw=true', delimiter = ';', usecols = [\"Qual sua Idade?\", \"Como você avalia o seu nível de fadiga (Cansaço excessivo) durante o trabalho de Home Office?\"])\n",
        "respostas5 = respostas5.replace('Menos de 18 anos', '-18')\n",
        "respostas5 = respostas5.replace('Entre 18 e 25 anos', '18-25')\n",
        "respostas5 = respostas5.replace('Entre 26 e 35 anos', '26-35')\n",
        "respostas5 = respostas5.replace('Entre 36 e 45 anos', '36-45')\n",
        "respostas5 = respostas5.replace('Entre 46 e 60 anos', '46-59')\n",
        "respostas5 = respostas5.replace('mais de 60 anos', '60+')\n",
        "respostas5 = respostas5.replace('Sim', 1)\n",
        "respostas5 = respostas5.replace('Não', 0)\n",
        "\n",
        "respostas5"
      ],
      "execution_count": null,
      "outputs": []
    },
    {
      "cell_type": "code",
      "metadata": {
        "id": "bi8uqQJOWeXh"
      },
      "source": [
        "## >3 = bom / <3 = ruim / 3 = neutro\n",
        "\n",
        "filtro5_1 = respostas5.loc[respostas5['Como você avalia o seu nível de fadiga (Cansaço excessivo) durante o trabalho de Home Office?'] > 3]\n",
        "filtro5_2 = respostas5.loc[respostas5['Como você avalia o seu nível de fadiga (Cansaço excessivo) durante o trabalho de Home Office?'] < 3]\n",
        "filtro5_3 = respostas5.loc[respostas5['Como você avalia o seu nível de fadiga (Cansaço excessivo) durante o trabalho de Home Office?'] == 3]"
      ],
      "execution_count": null,
      "outputs": []
    },
    {
      "cell_type": "code",
      "metadata": {
        "id": "Mzc3NKJeWgh4"
      },
      "source": [
        "print('Total de Bom')\n",
        "filtro5_1['Como você avalia o seu nível de fadiga (Cansaço excessivo) durante o trabalho de Home Office?'].count()"
      ],
      "execution_count": null,
      "outputs": []
    },
    {
      "cell_type": "code",
      "metadata": {
        "id": "PCD-vd97WiNX"
      },
      "source": [
        "print('Total de Neutro')\n",
        "filtro5_2['Como você avalia o seu nível de fadiga (Cansaço excessivo) durante o trabalho de Home Office?'].count()"
      ],
      "execution_count": null,
      "outputs": []
    },
    {
      "cell_type": "code",
      "metadata": {
        "id": "vaIOU5ABWjjc"
      },
      "source": [
        "print('Total de Ruim')\n",
        "filtro5_3['Como você avalia o seu nível de fadiga (Cansaço excessivo) durante o trabalho de Home Office?'].count()"
      ],
      "execution_count": null,
      "outputs": []
    },
    {
      "cell_type": "code",
      "metadata": {
        "id": "YhNmO-lLWlZn"
      },
      "source": [
        "print('Idade das pessoas que tiveram seu nível de fadíga aumentado')\n",
        "plt.hist(filtro5_3[\"Qual sua Idade?\"])\n",
        "plt.show()"
      ],
      "execution_count": null,
      "outputs": []
    }
  ]
}