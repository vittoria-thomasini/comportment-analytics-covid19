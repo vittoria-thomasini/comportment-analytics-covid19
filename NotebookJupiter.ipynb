{
 "cells": [
  {
   "cell_type": "markdown",
   "metadata": {
    "id": "BgECvhTUcAgY"
   },
   "source": [
    "# Foco\n"
   ]
  },
  {
   "cell_type": "code",
   "execution_count": null,
   "metadata": {
    "colab": {
     "base_uri": "https://localhost:8080/",
     "height": 606
    },
    "id": "-vfPv8zocFEk",
    "outputId": "41de364b-f5cc-44cc-d90a-69035514d215"
   },
   "outputs": [
    {
     "data": {
      "text/html": [
       "<div>\n",
       "<style scoped>\n",
       "    .dataframe tbody tr th:only-of-type {\n",
       "        vertical-align: middle;\n",
       "    }\n",
       "\n",
       "    .dataframe tbody tr th {\n",
       "        vertical-align: top;\n",
       "    }\n",
       "\n",
       "    .dataframe thead th {\n",
       "        text-align: right;\n",
       "    }\n",
       "</style>\n",
       "<table border=\"1\" class=\"dataframe\">\n",
       "  <thead>\n",
       "    <tr style=\"text-align: right;\">\n",
       "      <th></th>\n",
       "      <th>Qual sua Idade?</th>\n",
       "      <th>Você trabalhou de casa durante a pandemia?</th>\n",
       "      <th>Você já exercia esse modelo de trabalho?</th>\n",
       "      <th>Você se vê e/ou pretende trabalhar remotamente no futuro?</th>\n",
       "      <th>Como você avalia sua adaptação ao Home Office?</th>\n",
       "      <th>Como você avalia a sua produtividade durante a pandemia?</th>\n",
       "      <th>Como você avalia o seu foco durante o trabalho de Home Office?</th>\n",
       "      <th>Como foi sua experiência em trabalhar de casa?</th>\n",
       "    </tr>\n",
       "  </thead>\n",
       "  <tbody>\n",
       "    <tr>\n",
       "      <th>0</th>\n",
       "      <td>Entre 18 e 25 anos</td>\n",
       "      <td>1</td>\n",
       "      <td>0</td>\n",
       "      <td>1</td>\n",
       "      <td>5</td>\n",
       "      <td>4</td>\n",
       "      <td>4</td>\n",
       "      <td>5</td>\n",
       "    </tr>\n",
       "    <tr>\n",
       "      <th>1</th>\n",
       "      <td>Entre 18 e 25 anos</td>\n",
       "      <td>1</td>\n",
       "      <td>0</td>\n",
       "      <td>0</td>\n",
       "      <td>3</td>\n",
       "      <td>3</td>\n",
       "      <td>3</td>\n",
       "      <td>3</td>\n",
       "    </tr>\n",
       "    <tr>\n",
       "      <th>2</th>\n",
       "      <td>Entre 18 e 25 anos</td>\n",
       "      <td>1</td>\n",
       "      <td>0</td>\n",
       "      <td>0</td>\n",
       "      <td>4</td>\n",
       "      <td>3</td>\n",
       "      <td>4</td>\n",
       "      <td>4</td>\n",
       "    </tr>\n",
       "    <tr>\n",
       "      <th>3</th>\n",
       "      <td>Entre 18 e 25 anos</td>\n",
       "      <td>1</td>\n",
       "      <td>0</td>\n",
       "      <td>1</td>\n",
       "      <td>4</td>\n",
       "      <td>3</td>\n",
       "      <td>2</td>\n",
       "      <td>3</td>\n",
       "    </tr>\n",
       "    <tr>\n",
       "      <th>4</th>\n",
       "      <td>Entre 18 e 25 anos</td>\n",
       "      <td>1</td>\n",
       "      <td>0</td>\n",
       "      <td>1</td>\n",
       "      <td>3</td>\n",
       "      <td>3</td>\n",
       "      <td>2</td>\n",
       "      <td>2</td>\n",
       "    </tr>\n",
       "    <tr>\n",
       "      <th>...</th>\n",
       "      <td>...</td>\n",
       "      <td>...</td>\n",
       "      <td>...</td>\n",
       "      <td>...</td>\n",
       "      <td>...</td>\n",
       "      <td>...</td>\n",
       "      <td>...</td>\n",
       "      <td>...</td>\n",
       "    </tr>\n",
       "    <tr>\n",
       "      <th>148</th>\n",
       "      <td>Entre 46 e 60 anos</td>\n",
       "      <td>1</td>\n",
       "      <td>0</td>\n",
       "      <td>0</td>\n",
       "      <td>4</td>\n",
       "      <td>4</td>\n",
       "      <td>5</td>\n",
       "      <td>4</td>\n",
       "    </tr>\n",
       "    <tr>\n",
       "      <th>149</th>\n",
       "      <td>mais de 60 anos</td>\n",
       "      <td>1</td>\n",
       "      <td>0</td>\n",
       "      <td>0</td>\n",
       "      <td>3</td>\n",
       "      <td>2</td>\n",
       "      <td>3</td>\n",
       "      <td>3</td>\n",
       "    </tr>\n",
       "    <tr>\n",
       "      <th>150</th>\n",
       "      <td>Entre 36 e 45 anos</td>\n",
       "      <td>1</td>\n",
       "      <td>0</td>\n",
       "      <td>0</td>\n",
       "      <td>2</td>\n",
       "      <td>2</td>\n",
       "      <td>4</td>\n",
       "      <td>2</td>\n",
       "    </tr>\n",
       "    <tr>\n",
       "      <th>151</th>\n",
       "      <td>Entre 26 e 35 anos</td>\n",
       "      <td>1</td>\n",
       "      <td>0</td>\n",
       "      <td>1</td>\n",
       "      <td>4</td>\n",
       "      <td>5</td>\n",
       "      <td>4</td>\n",
       "      <td>5</td>\n",
       "    </tr>\n",
       "    <tr>\n",
       "      <th>152</th>\n",
       "      <td>Entre 26 e 35 anos</td>\n",
       "      <td>1</td>\n",
       "      <td>1</td>\n",
       "      <td>1</td>\n",
       "      <td>5</td>\n",
       "      <td>4</td>\n",
       "      <td>3</td>\n",
       "      <td>4</td>\n",
       "    </tr>\n",
       "  </tbody>\n",
       "</table>\n",
       "<p>153 rows × 8 columns</p>\n",
       "</div>"
      ],
      "text/plain": [
       "        Qual sua Idade?  ...  Como foi sua experiência em trabalhar de casa?\n",
       "0    Entre 18 e 25 anos  ...                                               5\n",
       "1    Entre 18 e 25 anos  ...                                               3\n",
       "2    Entre 18 e 25 anos  ...                                               4\n",
       "3    Entre 18 e 25 anos  ...                                               3\n",
       "4    Entre 18 e 25 anos  ...                                               2\n",
       "..                  ...  ...                                             ...\n",
       "148  Entre 46 e 60 anos  ...                                               4\n",
       "149     mais de 60 anos  ...                                               3\n",
       "150  Entre 36 e 45 anos  ...                                               2\n",
       "151  Entre 26 e 35 anos  ...                                               5\n",
       "152  Entre 26 e 35 anos  ...                                               4\n",
       "\n",
       "[153 rows x 8 columns]"
      ]
     },
     "metadata": {
      "tags": []
     },
     "output_type": "display_data"
    }
   ],
   "source": [
    "import matplotlib.pyplot as plt\n",
    "import pandas as pd\n",
    "respostas_teste_1 = 'https://github.com/vittoria-thomasini/comportment-analytics-covid19/blob/main/Planilhas/Foco.csv?raw=true'\n",
    "foco_df = pd.read_csv(respostas_teste_1, delimiter=';')\n",
    "foco_df = foco_df.replace('Sim', 1)\n",
    "foco_df = foco_df.replace('Não', 0)\n",
    "display(foco_df)\n"
   ]
  },
  {
   "cell_type": "code",
   "execution_count": null,
   "metadata": {
    "colab": {
     "base_uri": "https://localhost:8080/",
     "height": 321
    },
    "id": "lY2E-imicNWt",
    "outputId": "4f59b88d-add6-44e5-e022-7a12de61f867"
   },
   "outputs": [
    {
     "data": {
      "text/html": [
       "<div>\n",
       "<style scoped>\n",
       "    .dataframe tbody tr th:only-of-type {\n",
       "        vertical-align: middle;\n",
       "    }\n",
       "\n",
       "    .dataframe tbody tr th {\n",
       "        vertical-align: top;\n",
       "    }\n",
       "\n",
       "    .dataframe thead th {\n",
       "        text-align: right;\n",
       "    }\n",
       "</style>\n",
       "<table border=\"1\" class=\"dataframe\">\n",
       "  <thead>\n",
       "    <tr style=\"text-align: right;\">\n",
       "      <th></th>\n",
       "      <th>Você trabalhou de casa durante a pandemia?</th>\n",
       "      <th>Você já exercia esse modelo de trabalho?</th>\n",
       "      <th>Você se vê e/ou pretende trabalhar remotamente no futuro?</th>\n",
       "      <th>Como você avalia sua adaptação ao Home Office?</th>\n",
       "      <th>Como você avalia a sua produtividade durante a pandemia?</th>\n",
       "      <th>Como você avalia o seu foco durante o trabalho de Home Office?</th>\n",
       "      <th>Como foi sua experiência em trabalhar de casa?</th>\n",
       "    </tr>\n",
       "  </thead>\n",
       "  <tbody>\n",
       "    <tr>\n",
       "      <th>count</th>\n",
       "      <td>153.0</td>\n",
       "      <td>153.000000</td>\n",
       "      <td>153.000000</td>\n",
       "      <td>153.000000</td>\n",
       "      <td>153.000000</td>\n",
       "      <td>153.000000</td>\n",
       "      <td>153.000000</td>\n",
       "    </tr>\n",
       "    <tr>\n",
       "      <th>mean</th>\n",
       "      <td>1.0</td>\n",
       "      <td>0.215686</td>\n",
       "      <td>0.718954</td>\n",
       "      <td>3.843137</td>\n",
       "      <td>3.614379</td>\n",
       "      <td>3.372549</td>\n",
       "      <td>3.660131</td>\n",
       "    </tr>\n",
       "    <tr>\n",
       "      <th>std</th>\n",
       "      <td>0.0</td>\n",
       "      <td>0.412648</td>\n",
       "      <td>0.450986</td>\n",
       "      <td>1.007326</td>\n",
       "      <td>1.088965</td>\n",
       "      <td>1.105503</td>\n",
       "      <td>1.077054</td>\n",
       "    </tr>\n",
       "    <tr>\n",
       "      <th>min</th>\n",
       "      <td>1.0</td>\n",
       "      <td>0.000000</td>\n",
       "      <td>0.000000</td>\n",
       "      <td>1.000000</td>\n",
       "      <td>1.000000</td>\n",
       "      <td>1.000000</td>\n",
       "      <td>1.000000</td>\n",
       "    </tr>\n",
       "    <tr>\n",
       "      <th>25%</th>\n",
       "      <td>1.0</td>\n",
       "      <td>0.000000</td>\n",
       "      <td>0.000000</td>\n",
       "      <td>3.000000</td>\n",
       "      <td>3.000000</td>\n",
       "      <td>3.000000</td>\n",
       "      <td>3.000000</td>\n",
       "    </tr>\n",
       "    <tr>\n",
       "      <th>50%</th>\n",
       "      <td>1.0</td>\n",
       "      <td>0.000000</td>\n",
       "      <td>1.000000</td>\n",
       "      <td>4.000000</td>\n",
       "      <td>4.000000</td>\n",
       "      <td>4.000000</td>\n",
       "      <td>4.000000</td>\n",
       "    </tr>\n",
       "    <tr>\n",
       "      <th>75%</th>\n",
       "      <td>1.0</td>\n",
       "      <td>0.000000</td>\n",
       "      <td>1.000000</td>\n",
       "      <td>5.000000</td>\n",
       "      <td>4.000000</td>\n",
       "      <td>4.000000</td>\n",
       "      <td>4.000000</td>\n",
       "    </tr>\n",
       "    <tr>\n",
       "      <th>max</th>\n",
       "      <td>1.0</td>\n",
       "      <td>1.000000</td>\n",
       "      <td>1.000000</td>\n",
       "      <td>5.000000</td>\n",
       "      <td>5.000000</td>\n",
       "      <td>5.000000</td>\n",
       "      <td>5.000000</td>\n",
       "    </tr>\n",
       "  </tbody>\n",
       "</table>\n",
       "</div>"
      ],
      "text/plain": [
       "       Você trabalhou de casa durante a pandemia?  ...  Como foi sua experiência em trabalhar de casa?\n",
       "count                                       153.0  ...                                      153.000000\n",
       "mean                                          1.0  ...                                        3.660131\n",
       "std                                           0.0  ...                                        1.077054\n",
       "min                                           1.0  ...                                        1.000000\n",
       "25%                                           1.0  ...                                        3.000000\n",
       "50%                                           1.0  ...                                        4.000000\n",
       "75%                                           1.0  ...                                        4.000000\n",
       "max                                           1.0  ...                                        5.000000\n",
       "\n",
       "[8 rows x 7 columns]"
      ]
     },
     "metadata": {
      "tags": []
     },
     "output_type": "display_data"
    }
   ],
   "source": [
    "display(foco_df.describe())"
   ]
  },
  {
   "cell_type": "code",
   "execution_count": null,
   "metadata": {
    "colab": {
     "base_uri": "https://localhost:8080/",
     "height": 606
    },
    "id": "ZfYh2UKPcNgy",
    "outputId": "5eedf0b3-31f4-4bf3-b237-988a9be4d527"
   },
   "outputs": [
    {
     "data": {
      "text/html": [
       "<div>\n",
       "<style scoped>\n",
       "    .dataframe tbody tr th:only-of-type {\n",
       "        vertical-align: middle;\n",
       "    }\n",
       "\n",
       "    .dataframe tbody tr th {\n",
       "        vertical-align: top;\n",
       "    }\n",
       "\n",
       "    .dataframe thead th {\n",
       "        text-align: right;\n",
       "    }\n",
       "</style>\n",
       "<table border=\"1\" class=\"dataframe\">\n",
       "  <thead>\n",
       "    <tr style=\"text-align: right;\">\n",
       "      <th></th>\n",
       "      <th>Qual sua Idade?</th>\n",
       "      <th>Você trabalhou de casa durante a pandemia?</th>\n",
       "      <th>Você já exercia esse modelo de trabalho?</th>\n",
       "      <th>Você se vê e/ou pretende trabalhar remotamente no futuro?</th>\n",
       "      <th>Como você avalia sua adaptação ao Home Office?</th>\n",
       "      <th>Como você avalia a sua produtividade durante a pandemia?</th>\n",
       "      <th>Como você avalia o seu foco durante o trabalho de Home Office?</th>\n",
       "      <th>Como foi sua experiência em trabalhar de casa?</th>\n",
       "    </tr>\n",
       "  </thead>\n",
       "  <tbody>\n",
       "    <tr>\n",
       "      <th>0</th>\n",
       "      <td>Entre 18 e 25 anos</td>\n",
       "      <td>1</td>\n",
       "      <td>0</td>\n",
       "      <td>1</td>\n",
       "      <td>5</td>\n",
       "      <td>4</td>\n",
       "      <td>4</td>\n",
       "      <td>5</td>\n",
       "    </tr>\n",
       "    <tr>\n",
       "      <th>2</th>\n",
       "      <td>Entre 18 e 25 anos</td>\n",
       "      <td>1</td>\n",
       "      <td>0</td>\n",
       "      <td>0</td>\n",
       "      <td>4</td>\n",
       "      <td>3</td>\n",
       "      <td>4</td>\n",
       "      <td>4</td>\n",
       "    </tr>\n",
       "    <tr>\n",
       "      <th>5</th>\n",
       "      <td>Entre 18 e 25 anos</td>\n",
       "      <td>1</td>\n",
       "      <td>0</td>\n",
       "      <td>1</td>\n",
       "      <td>4</td>\n",
       "      <td>4</td>\n",
       "      <td>4</td>\n",
       "      <td>4</td>\n",
       "    </tr>\n",
       "    <tr>\n",
       "      <th>12</th>\n",
       "      <td>Entre 18 e 25 anos</td>\n",
       "      <td>1</td>\n",
       "      <td>0</td>\n",
       "      <td>0</td>\n",
       "      <td>5</td>\n",
       "      <td>5</td>\n",
       "      <td>4</td>\n",
       "      <td>4</td>\n",
       "    </tr>\n",
       "    <tr>\n",
       "      <th>15</th>\n",
       "      <td>Entre 18 e 25 anos</td>\n",
       "      <td>1</td>\n",
       "      <td>0</td>\n",
       "      <td>1</td>\n",
       "      <td>5</td>\n",
       "      <td>5</td>\n",
       "      <td>5</td>\n",
       "      <td>5</td>\n",
       "    </tr>\n",
       "    <tr>\n",
       "      <th>...</th>\n",
       "      <td>...</td>\n",
       "      <td>...</td>\n",
       "      <td>...</td>\n",
       "      <td>...</td>\n",
       "      <td>...</td>\n",
       "      <td>...</td>\n",
       "      <td>...</td>\n",
       "      <td>...</td>\n",
       "    </tr>\n",
       "    <tr>\n",
       "      <th>145</th>\n",
       "      <td>Entre 36 e 45 anos</td>\n",
       "      <td>1</td>\n",
       "      <td>0</td>\n",
       "      <td>1</td>\n",
       "      <td>4</td>\n",
       "      <td>4</td>\n",
       "      <td>4</td>\n",
       "      <td>3</td>\n",
       "    </tr>\n",
       "    <tr>\n",
       "      <th>147</th>\n",
       "      <td>Entre 26 e 35 anos</td>\n",
       "      <td>1</td>\n",
       "      <td>0</td>\n",
       "      <td>1</td>\n",
       "      <td>4</td>\n",
       "      <td>3</td>\n",
       "      <td>4</td>\n",
       "      <td>4</td>\n",
       "    </tr>\n",
       "    <tr>\n",
       "      <th>148</th>\n",
       "      <td>Entre 46 e 60 anos</td>\n",
       "      <td>1</td>\n",
       "      <td>0</td>\n",
       "      <td>0</td>\n",
       "      <td>4</td>\n",
       "      <td>4</td>\n",
       "      <td>5</td>\n",
       "      <td>4</td>\n",
       "    </tr>\n",
       "    <tr>\n",
       "      <th>150</th>\n",
       "      <td>Entre 36 e 45 anos</td>\n",
       "      <td>1</td>\n",
       "      <td>0</td>\n",
       "      <td>0</td>\n",
       "      <td>2</td>\n",
       "      <td>2</td>\n",
       "      <td>4</td>\n",
       "      <td>2</td>\n",
       "    </tr>\n",
       "    <tr>\n",
       "      <th>151</th>\n",
       "      <td>Entre 26 e 35 anos</td>\n",
       "      <td>1</td>\n",
       "      <td>0</td>\n",
       "      <td>1</td>\n",
       "      <td>4</td>\n",
       "      <td>5</td>\n",
       "      <td>4</td>\n",
       "      <td>5</td>\n",
       "    </tr>\n",
       "  </tbody>\n",
       "</table>\n",
       "<p>78 rows × 8 columns</p>\n",
       "</div>"
      ],
      "text/plain": [
       "        Qual sua Idade?  ...  Como foi sua experiência em trabalhar de casa?\n",
       "0    Entre 18 e 25 anos  ...                                               5\n",
       "2    Entre 18 e 25 anos  ...                                               4\n",
       "5    Entre 18 e 25 anos  ...                                               4\n",
       "12   Entre 18 e 25 anos  ...                                               4\n",
       "15   Entre 18 e 25 anos  ...                                               5\n",
       "..                  ...  ...                                             ...\n",
       "145  Entre 36 e 45 anos  ...                                               3\n",
       "147  Entre 26 e 35 anos  ...                                               4\n",
       "148  Entre 46 e 60 anos  ...                                               4\n",
       "150  Entre 36 e 45 anos  ...                                               2\n",
       "151  Entre 26 e 35 anos  ...                                               5\n",
       "\n",
       "[78 rows x 8 columns]"
      ]
     },
     "metadata": {
      "tags": []
     },
     "output_type": "display_data"
    }
   ],
   "source": [
    "foco_positivo_df=foco_df.loc[foco_df['Como você avalia o seu foco durante o trabalho de Home Office?'] > 3]\n",
    "produtividade_positivo_df=foco_df.loc[foco_df['Como você avalia a sua produtividade durante a pandemia?'] > 3]\n",
    "display(foco_positivo_df)"
   ]
  },
  {
   "cell_type": "code",
   "execution_count": null,
   "metadata": {
    "colab": {
     "base_uri": "https://localhost:8080/",
     "height": 625
    },
    "id": "4L7ekeg3cNnP",
    "outputId": "1f8e9079-e7be-4cba-f444-7cb2cf101db6"
   },
   "outputs": [
    {
     "data": {
      "text/html": [
       "<div>\n",
       "<style scoped>\n",
       "    .dataframe tbody tr th:only-of-type {\n",
       "        vertical-align: middle;\n",
       "    }\n",
       "\n",
       "    .dataframe tbody tr th {\n",
       "        vertical-align: top;\n",
       "    }\n",
       "\n",
       "    .dataframe thead th {\n",
       "        text-align: right;\n",
       "    }\n",
       "</style>\n",
       "<table border=\"1\" class=\"dataframe\">\n",
       "  <thead>\n",
       "    <tr style=\"text-align: right;\">\n",
       "      <th></th>\n",
       "      <th>Você trabalhou de casa durante a pandemia?</th>\n",
       "      <th>Você já exercia esse modelo de trabalho?</th>\n",
       "      <th>Você se vê e/ou pretende trabalhar remotamente no futuro?</th>\n",
       "      <th>Como você avalia sua adaptação ao Home Office?</th>\n",
       "      <th>Como você avalia a sua produtividade durante a pandemia?</th>\n",
       "      <th>Como você avalia o seu foco durante o trabalho de Home Office?</th>\n",
       "      <th>Como foi sua experiência em trabalhar de casa?</th>\n",
       "    </tr>\n",
       "  </thead>\n",
       "  <tbody>\n",
       "    <tr>\n",
       "      <th>count</th>\n",
       "      <td>78.0</td>\n",
       "      <td>78.000000</td>\n",
       "      <td>78.000000</td>\n",
       "      <td>78.000000</td>\n",
       "      <td>78.000000</td>\n",
       "      <td>78.000000</td>\n",
       "      <td>78.000000</td>\n",
       "    </tr>\n",
       "    <tr>\n",
       "      <th>mean</th>\n",
       "      <td>1.0</td>\n",
       "      <td>0.230769</td>\n",
       "      <td>0.807692</td>\n",
       "      <td>4.217949</td>\n",
       "      <td>4.153846</td>\n",
       "      <td>4.294872</td>\n",
       "      <td>4.102564</td>\n",
       "    </tr>\n",
       "    <tr>\n",
       "      <th>std</th>\n",
       "      <td>0.0</td>\n",
       "      <td>0.424052</td>\n",
       "      <td>0.396664</td>\n",
       "      <td>0.892209</td>\n",
       "      <td>0.912780</td>\n",
       "      <td>0.458936</td>\n",
       "      <td>0.961462</td>\n",
       "    </tr>\n",
       "    <tr>\n",
       "      <th>min</th>\n",
       "      <td>1.0</td>\n",
       "      <td>0.000000</td>\n",
       "      <td>0.000000</td>\n",
       "      <td>1.000000</td>\n",
       "      <td>1.000000</td>\n",
       "      <td>4.000000</td>\n",
       "      <td>1.000000</td>\n",
       "    </tr>\n",
       "    <tr>\n",
       "      <th>25%</th>\n",
       "      <td>1.0</td>\n",
       "      <td>0.000000</td>\n",
       "      <td>1.000000</td>\n",
       "      <td>4.000000</td>\n",
       "      <td>4.000000</td>\n",
       "      <td>4.000000</td>\n",
       "      <td>4.000000</td>\n",
       "    </tr>\n",
       "    <tr>\n",
       "      <th>50%</th>\n",
       "      <td>1.0</td>\n",
       "      <td>0.000000</td>\n",
       "      <td>1.000000</td>\n",
       "      <td>4.000000</td>\n",
       "      <td>4.000000</td>\n",
       "      <td>4.000000</td>\n",
       "      <td>4.000000</td>\n",
       "    </tr>\n",
       "    <tr>\n",
       "      <th>75%</th>\n",
       "      <td>1.0</td>\n",
       "      <td>0.000000</td>\n",
       "      <td>1.000000</td>\n",
       "      <td>5.000000</td>\n",
       "      <td>5.000000</td>\n",
       "      <td>5.000000</td>\n",
       "      <td>5.000000</td>\n",
       "    </tr>\n",
       "    <tr>\n",
       "      <th>max</th>\n",
       "      <td>1.0</td>\n",
       "      <td>1.000000</td>\n",
       "      <td>1.000000</td>\n",
       "      <td>5.000000</td>\n",
       "      <td>5.000000</td>\n",
       "      <td>5.000000</td>\n",
       "      <td>5.000000</td>\n",
       "    </tr>\n",
       "  </tbody>\n",
       "</table>\n",
       "</div>"
      ],
      "text/plain": [
       "       Você trabalhou de casa durante a pandemia?  ...  Como foi sua experiência em trabalhar de casa?\n",
       "count                                        78.0  ...                                       78.000000\n",
       "mean                                          1.0  ...                                        4.102564\n",
       "std                                           0.0  ...                                        0.961462\n",
       "min                                           1.0  ...                                        1.000000\n",
       "25%                                           1.0  ...                                        4.000000\n",
       "50%                                           1.0  ...                                        4.000000\n",
       "75%                                           1.0  ...                                        5.000000\n",
       "max                                           1.0  ...                                        5.000000\n",
       "\n",
       "[8 rows x 7 columns]"
      ]
     },
     "metadata": {
      "tags": []
     },
     "output_type": "display_data"
    },
    {
     "data": {
      "text/html": [
       "<div>\n",
       "<style scoped>\n",
       "    .dataframe tbody tr th:only-of-type {\n",
       "        vertical-align: middle;\n",
       "    }\n",
       "\n",
       "    .dataframe tbody tr th {\n",
       "        vertical-align: top;\n",
       "    }\n",
       "\n",
       "    .dataframe thead th {\n",
       "        text-align: right;\n",
       "    }\n",
       "</style>\n",
       "<table border=\"1\" class=\"dataframe\">\n",
       "  <thead>\n",
       "    <tr style=\"text-align: right;\">\n",
       "      <th></th>\n",
       "      <th>Você trabalhou de casa durante a pandemia?</th>\n",
       "      <th>Você já exercia esse modelo de trabalho?</th>\n",
       "      <th>Você se vê e/ou pretende trabalhar remotamente no futuro?</th>\n",
       "      <th>Como você avalia sua adaptação ao Home Office?</th>\n",
       "      <th>Como você avalia a sua produtividade durante a pandemia?</th>\n",
       "      <th>Como você avalia o seu foco durante o trabalho de Home Office?</th>\n",
       "      <th>Como foi sua experiência em trabalhar de casa?</th>\n",
       "    </tr>\n",
       "  </thead>\n",
       "  <tbody>\n",
       "    <tr>\n",
       "      <th>count</th>\n",
       "      <td>89.0</td>\n",
       "      <td>89.000000</td>\n",
       "      <td>89.000000</td>\n",
       "      <td>89.000000</td>\n",
       "      <td>89.00000</td>\n",
       "      <td>89.000000</td>\n",
       "      <td>89.000000</td>\n",
       "    </tr>\n",
       "    <tr>\n",
       "      <th>mean</th>\n",
       "      <td>1.0</td>\n",
       "      <td>0.224719</td>\n",
       "      <td>0.808989</td>\n",
       "      <td>4.213483</td>\n",
       "      <td>4.41573</td>\n",
       "      <td>3.853933</td>\n",
       "      <td>4.112360</td>\n",
       "    </tr>\n",
       "    <tr>\n",
       "      <th>std</th>\n",
       "      <td>0.0</td>\n",
       "      <td>0.419762</td>\n",
       "      <td>0.395325</td>\n",
       "      <td>0.832192</td>\n",
       "      <td>0.49564</td>\n",
       "      <td>0.898870</td>\n",
       "      <td>0.897448</td>\n",
       "    </tr>\n",
       "    <tr>\n",
       "      <th>min</th>\n",
       "      <td>1.0</td>\n",
       "      <td>0.000000</td>\n",
       "      <td>0.000000</td>\n",
       "      <td>1.000000</td>\n",
       "      <td>4.00000</td>\n",
       "      <td>1.000000</td>\n",
       "      <td>1.000000</td>\n",
       "    </tr>\n",
       "    <tr>\n",
       "      <th>25%</th>\n",
       "      <td>1.0</td>\n",
       "      <td>0.000000</td>\n",
       "      <td>1.000000</td>\n",
       "      <td>4.000000</td>\n",
       "      <td>4.00000</td>\n",
       "      <td>3.000000</td>\n",
       "      <td>4.000000</td>\n",
       "    </tr>\n",
       "    <tr>\n",
       "      <th>50%</th>\n",
       "      <td>1.0</td>\n",
       "      <td>0.000000</td>\n",
       "      <td>1.000000</td>\n",
       "      <td>4.000000</td>\n",
       "      <td>4.00000</td>\n",
       "      <td>4.000000</td>\n",
       "      <td>4.000000</td>\n",
       "    </tr>\n",
       "    <tr>\n",
       "      <th>75%</th>\n",
       "      <td>1.0</td>\n",
       "      <td>0.000000</td>\n",
       "      <td>1.000000</td>\n",
       "      <td>5.000000</td>\n",
       "      <td>5.00000</td>\n",
       "      <td>4.000000</td>\n",
       "      <td>5.000000</td>\n",
       "    </tr>\n",
       "    <tr>\n",
       "      <th>max</th>\n",
       "      <td>1.0</td>\n",
       "      <td>1.000000</td>\n",
       "      <td>1.000000</td>\n",
       "      <td>5.000000</td>\n",
       "      <td>5.00000</td>\n",
       "      <td>5.000000</td>\n",
       "      <td>5.000000</td>\n",
       "    </tr>\n",
       "  </tbody>\n",
       "</table>\n",
       "</div>"
      ],
      "text/plain": [
       "       Você trabalhou de casa durante a pandemia?  ...  Como foi sua experiência em trabalhar de casa?\n",
       "count                                        89.0  ...                                       89.000000\n",
       "mean                                          1.0  ...                                        4.112360\n",
       "std                                           0.0  ...                                        0.897448\n",
       "min                                           1.0  ...                                        1.000000\n",
       "25%                                           1.0  ...                                        4.000000\n",
       "50%                                           1.0  ...                                        4.000000\n",
       "75%                                           1.0  ...                                        5.000000\n",
       "max                                           1.0  ...                                        5.000000\n",
       "\n",
       "[8 rows x 7 columns]"
      ]
     },
     "metadata": {
      "tags": []
     },
     "output_type": "display_data"
    }
   ],
   "source": [
    "display(foco_positivo_df.describe())\n",
    "display(produtividade_positivo_df.describe())"
   ]
  },
  {
   "cell_type": "code",
   "execution_count": null,
   "metadata": {
    "colab": {
     "base_uri": "https://localhost:8080/",
     "height": 264
    },
    "id": "YrhY1crscNtk",
    "outputId": "3cb22b40-8e46-4f72-d76b-d0b9b4c0354d"
   },
   "outputs": [
    {
     "data": {
      "image/png": "[encoded data removed]",
      "text/plain": [
       "<Figure size 432x288 with 1 Axes>"
      ]
     },
     "metadata": {
      "needs_background": "light",
      "tags": []
     },
     "output_type": "display_data"
    }
   ],
   "source": [
    "plt.plot(foco_positivo_df[[\"Como você avalia o seu foco durante o trabalho de Home Office?\",\"Como você avalia a sua produtividade durante a pandemia?\"]])\n",
    "plt.show()"
   ]
  },
  {
   "cell_type": "code",
   "execution_count": null,
   "metadata": {
    "colab": {
     "base_uri": "https://localhost:8080/",
     "height": 282
    },
    "id": "hb4dbOhFcN-2",
    "outputId": "24e87719-2a08-442d-b86e-2e25e34de500"
   },
   "outputs": [
    {
     "data": {
      "text/plain": [
       "<function matplotlib.pyplot.show>"
      ]
     },
     "execution_count": 8,
     "metadata": {
      "tags": []
     },
     "output_type": "execute_result"
    },
    {
     "data": {
      "image/png": "[encoded data removed]",
      "text/plain": [
       "<Figure size 432x288 with 1 Axes>"
      ]
     },
     "metadata": {
      "needs_background": "light",
      "tags": []
     },
     "output_type": "display_data"
    }
   ],
   "source": [
    "plt.plot(produtividade_positivo_df[[\"Como você avalia o seu foco durante o trabalho de Home Office?\",\"Como você avalia a sua produtividade durante a pandemia?\"]])\n",
    "plt.show"
   ]
  },
  {
   "cell_type": "markdown",
   "metadata": {
    "id": "PychjGF2KAV9"
   },
   "source": [
    "\n",
    "\n",
    "# Saúde Mental\n"
   ]
  },
  {
   "cell_type": "code",
   "execution_count": 12,
   "metadata": {
    "colab": {
     "base_uri": "https://localhost:8080/",
     "height": 640
    },
    "id": "Ko_zNrvRKA-B",
    "outputId": "ada37c6a-7562-4843-8213-708b97c9d081"
   },
   "outputs": [
    {
     "data": {
      "text/html": [
       "<div>\n",
       "<style scoped>\n",
       "    .dataframe tbody tr th:only-of-type {\n",
       "        vertical-align: middle;\n",
       "    }\n",
       "\n",
       "    .dataframe tbody tr th {\n",
       "        vertical-align: top;\n",
       "    }\n",
       "\n",
       "    .dataframe thead th {\n",
       "        text-align: right;\n",
       "    }\n",
       "</style>\n",
       "<table border=\"1\" class=\"dataframe\">\n",
       "  <thead>\n",
       "    <tr style=\"text-align: right;\">\n",
       "      <th></th>\n",
       "      <th>Qual sua Idade?</th>\n",
       "      <th>Você trabalhou de casa durante a pandemia?</th>\n",
       "      <th>Você se vê e/ou pretende trabalhar remotamente no futuro?</th>\n",
       "      <th>Como você avalia o seu nível de fadiga (Cansaço excessivo) durante o trabalho de Home Office?</th>\n",
       "      <th>Como você avalia o seu nível de estresse durante o trabalho de Home Office?</th>\n",
       "      <th>Como foi sua experiência em trabalhar de casa?</th>\n",
       "    </tr>\n",
       "  </thead>\n",
       "  <tbody>\n",
       "    <tr>\n",
       "      <th>0</th>\n",
       "      <td>Entre 18 e 25 anos</td>\n",
       "      <td>1</td>\n",
       "      <td>1</td>\n",
       "      <td>3</td>\n",
       "      <td>3</td>\n",
       "      <td>5</td>\n",
       "    </tr>\n",
       "    <tr>\n",
       "      <th>1</th>\n",
       "      <td>Entre 18 e 25 anos</td>\n",
       "      <td>1</td>\n",
       "      <td>0</td>\n",
       "      <td>3</td>\n",
       "      <td>3</td>\n",
       "      <td>3</td>\n",
       "    </tr>\n",
       "    <tr>\n",
       "      <th>2</th>\n",
       "      <td>Entre 18 e 25 anos</td>\n",
       "      <td>1</td>\n",
       "      <td>0</td>\n",
       "      <td>5</td>\n",
       "      <td>4</td>\n",
       "      <td>4</td>\n",
       "    </tr>\n",
       "    <tr>\n",
       "      <th>3</th>\n",
       "      <td>Entre 18 e 25 anos</td>\n",
       "      <td>1</td>\n",
       "      <td>1</td>\n",
       "      <td>5</td>\n",
       "      <td>3</td>\n",
       "      <td>3</td>\n",
       "    </tr>\n",
       "    <tr>\n",
       "      <th>4</th>\n",
       "      <td>Entre 18 e 25 anos</td>\n",
       "      <td>1</td>\n",
       "      <td>1</td>\n",
       "      <td>3</td>\n",
       "      <td>4</td>\n",
       "      <td>2</td>\n",
       "    </tr>\n",
       "    <tr>\n",
       "      <th>...</th>\n",
       "      <td>...</td>\n",
       "      <td>...</td>\n",
       "      <td>...</td>\n",
       "      <td>...</td>\n",
       "      <td>...</td>\n",
       "      <td>...</td>\n",
       "    </tr>\n",
       "    <tr>\n",
       "      <th>148</th>\n",
       "      <td>Entre 46 e 60 anos</td>\n",
       "      <td>1</td>\n",
       "      <td>0</td>\n",
       "      <td>5</td>\n",
       "      <td>5</td>\n",
       "      <td>4</td>\n",
       "    </tr>\n",
       "    <tr>\n",
       "      <th>149</th>\n",
       "      <td>mais de 60 anos</td>\n",
       "      <td>1</td>\n",
       "      <td>0</td>\n",
       "      <td>3</td>\n",
       "      <td>3</td>\n",
       "      <td>3</td>\n",
       "    </tr>\n",
       "    <tr>\n",
       "      <th>150</th>\n",
       "      <td>Entre 36 e 45 anos</td>\n",
       "      <td>1</td>\n",
       "      <td>0</td>\n",
       "      <td>2</td>\n",
       "      <td>2</td>\n",
       "      <td>2</td>\n",
       "    </tr>\n",
       "    <tr>\n",
       "      <th>151</th>\n",
       "      <td>Entre 26 e 35 anos</td>\n",
       "      <td>1</td>\n",
       "      <td>1</td>\n",
       "      <td>5</td>\n",
       "      <td>5</td>\n",
       "      <td>5</td>\n",
       "    </tr>\n",
       "    <tr>\n",
       "      <th>152</th>\n",
       "      <td>Entre 26 e 35 anos</td>\n",
       "      <td>1</td>\n",
       "      <td>1</td>\n",
       "      <td>3</td>\n",
       "      <td>2</td>\n",
       "      <td>4</td>\n",
       "    </tr>\n",
       "  </tbody>\n",
       "</table>\n",
       "<p>153 rows × 6 columns</p>\n",
       "</div>"
      ],
      "text/plain": [
       "        Qual sua Idade?  ...  Como foi sua experiência em trabalhar de casa?\n",
       "0    Entre 18 e 25 anos  ...                                               5\n",
       "1    Entre 18 e 25 anos  ...                                               3\n",
       "2    Entre 18 e 25 anos  ...                                               4\n",
       "3    Entre 18 e 25 anos  ...                                               3\n",
       "4    Entre 18 e 25 anos  ...                                               2\n",
       "..                  ...  ...                                             ...\n",
       "148  Entre 46 e 60 anos  ...                                               4\n",
       "149     mais de 60 anos  ...                                               3\n",
       "150  Entre 36 e 45 anos  ...                                               2\n",
       "151  Entre 26 e 35 anos  ...                                               5\n",
       "152  Entre 26 e 35 anos  ...                                               4\n",
       "\n",
       "[153 rows x 6 columns]"
      ]
     },
     "execution_count": 12,
     "metadata": {
      "tags": []
     },
     "output_type": "execute_result"
    }
   ],
   "source": [
    "import pandas as pd\n",
    "\n",
    "respostas = 'https://github.com/vittoria-thomasini/comportment-analytics-covid19/blob/main/Planilhas/Saude%20mental.csv?raw=true'\n",
    "\n",
    "dados = pd.read_csv(respostas,  delimiter=';' )\n",
    "dados = dados.replace('Sim', 1)\n",
    "dados = dados.replace('Não', 0)\n",
    "dados\n",
    "  \n"
   ]
  },
  {
   "cell_type": "code",
   "execution_count": 18,
   "metadata": {
    "colab": {
     "base_uri": "https://localhost:8080/",
     "height": 348
    },
    "id": "qitWNMRDGNss",
    "outputId": "15d2faca-654e-4896-e2da-104413608783"
   },
   "outputs": [
    {
     "data": {
      "text/html": [
       "<div>\n",
       "<style scoped>\n",
       "    .dataframe tbody tr th:only-of-type {\n",
       "        vertical-align: middle;\n",
       "    }\n",
       "\n",
       "    .dataframe tbody tr th {\n",
       "        vertical-align: top;\n",
       "    }\n",
       "\n",
       "    .dataframe thead th {\n",
       "        text-align: right;\n",
       "    }\n",
       "</style>\n",
       "<table border=\"1\" class=\"dataframe\">\n",
       "  <thead>\n",
       "    <tr style=\"text-align: right;\">\n",
       "      <th></th>\n",
       "      <th>Você trabalhou de casa durante a pandemia?</th>\n",
       "      <th>Você se vê e/ou pretende trabalhar remotamente no futuro?</th>\n",
       "      <th>Como você avalia o seu nível de fadiga (Cansaço excessivo) durante o trabalho de Home Office?</th>\n",
       "      <th>Como você avalia o seu nível de estresse durante o trabalho de Home Office?</th>\n",
       "      <th>Como foi sua experiência em trabalhar de casa?</th>\n",
       "    </tr>\n",
       "  </thead>\n",
       "  <tbody>\n",
       "    <tr>\n",
       "      <th>count</th>\n",
       "      <td>153.0</td>\n",
       "      <td>153.000000</td>\n",
       "      <td>153.000000</td>\n",
       "      <td>153.000000</td>\n",
       "      <td>153.000000</td>\n",
       "    </tr>\n",
       "    <tr>\n",
       "      <th>mean</th>\n",
       "      <td>1.0</td>\n",
       "      <td>0.718954</td>\n",
       "      <td>3.117647</td>\n",
       "      <td>3.196078</td>\n",
       "      <td>3.660131</td>\n",
       "    </tr>\n",
       "    <tr>\n",
       "      <th>std</th>\n",
       "      <td>0.0</td>\n",
       "      <td>0.450986</td>\n",
       "      <td>1.031996</td>\n",
       "      <td>1.135891</td>\n",
       "      <td>1.077054</td>\n",
       "    </tr>\n",
       "    <tr>\n",
       "      <th>min</th>\n",
       "      <td>1.0</td>\n",
       "      <td>0.000000</td>\n",
       "      <td>1.000000</td>\n",
       "      <td>1.000000</td>\n",
       "      <td>1.000000</td>\n",
       "    </tr>\n",
       "    <tr>\n",
       "      <th>25%</th>\n",
       "      <td>1.0</td>\n",
       "      <td>0.000000</td>\n",
       "      <td>2.000000</td>\n",
       "      <td>2.000000</td>\n",
       "      <td>3.000000</td>\n",
       "    </tr>\n",
       "    <tr>\n",
       "      <th>50%</th>\n",
       "      <td>1.0</td>\n",
       "      <td>1.000000</td>\n",
       "      <td>3.000000</td>\n",
       "      <td>3.000000</td>\n",
       "      <td>4.000000</td>\n",
       "    </tr>\n",
       "    <tr>\n",
       "      <th>75%</th>\n",
       "      <td>1.0</td>\n",
       "      <td>1.000000</td>\n",
       "      <td>4.000000</td>\n",
       "      <td>4.000000</td>\n",
       "      <td>4.000000</td>\n",
       "    </tr>\n",
       "    <tr>\n",
       "      <th>max</th>\n",
       "      <td>1.0</td>\n",
       "      <td>1.000000</td>\n",
       "      <td>5.000000</td>\n",
       "      <td>5.000000</td>\n",
       "      <td>5.000000</td>\n",
       "    </tr>\n",
       "  </tbody>\n",
       "</table>\n",
       "</div>"
      ],
      "text/plain": [
       "       Você trabalhou de casa durante a pandemia?  ...  Como foi sua experiência em trabalhar de casa?\n",
       "count                                       153.0  ...                                      153.000000\n",
       "mean                                          1.0  ...                                        3.660131\n",
       "std                                           0.0  ...                                        1.077054\n",
       "min                                           1.0  ...                                        1.000000\n",
       "25%                                           1.0  ...                                        3.000000\n",
       "50%                                           1.0  ...                                        4.000000\n",
       "75%                                           1.0  ...                                        4.000000\n",
       "max                                           1.0  ...                                        5.000000\n",
       "\n",
       "[8 rows x 5 columns]"
      ]
     },
     "metadata": {
      "tags": []
     },
     "output_type": "display_data"
    }
   ],
   "source": [
    "display(dados.describe())"
   ]
  },
  {
   "cell_type": "code",
   "execution_count": 17,
   "metadata": {
    "colab": {
     "base_uri": "https://localhost:8080/",
     "height": 596
    },
    "id": "Orew2xwN16L8",
    "outputId": "27e252bc-fc80-4305-b3f4-3ce0fcafb7dd"
   },
   "outputs": [
    {
     "data": {
      "text/plain": [
       "1    110\n",
       "0     43\n",
       "Name: Você se vê e/ou pretende trabalhar remotamente no futuro?, dtype: int64"
      ]
     },
     "execution_count": 17,
     "metadata": {
      "tags": []
     },
     "output_type": "execute_result"
    },
    {
     "data": {
      "image/png": "[encoded data removed]",
      "text/plain": [
       "<Figure size 432x288 with 1 Axes>"
      ]
     },
     "metadata": {
      "needs_background": "light",
      "tags": []
     },
     "output_type": "display_data"
    },
    {
     "data": {
      "image/png": "[encoded data removed]",
      "text/plain": [
       "<Figure size 432x288 with 1 Axes>"
      ]
     },
     "metadata": {
      "needs_background": "light",
      "tags": []
     },
     "output_type": "display_data"
    }
   ],
   "source": [
    "#coluna2 = respostas['Você trabalhou de casa durante a pandemia?']\n",
    "#coluna3 = respostas['Você se vê e/ou pretende trabalhar remotamente no futuro?']\n",
    "dados.hist(['Você trabalhou de casa durante a pandemia?'])\n",
    "dados.hist(['Você se vê e/ou pretende trabalhar remotamente no futuro?'])\n",
    "dados['Você se vê e/ou pretende trabalhar remotamente no futuro?'].value_counts()"
   ]
  },
  {
   "cell_type": "markdown",
   "metadata": {
    "id": "Q2TDMpk8xiQ8"
   },
   "source": [
    "# Seção - Gustavo"
   ]
  },
  {
   "cell_type": "code",
   "execution_count": null,
   "metadata": {
    "colab": {
     "base_uri": "https://localhost:8080/",
     "height": 790
    },
    "id": "sWIts3gqxtZe",
    "outputId": "ce1b1d58-6fb0-4e0b-eec6-356995908cdf"
   },
   "outputs": [
    {
     "data": {
      "text/html": [
       "<div>\n",
       "<style scoped>\n",
       "    .dataframe tbody tr th:only-of-type {\n",
       "        vertical-align: middle;\n",
       "    }\n",
       "\n",
       "    .dataframe tbody tr th {\n",
       "        vertical-align: top;\n",
       "    }\n",
       "\n",
       "    .dataframe thead th {\n",
       "        text-align: right;\n",
       "    }\n",
       "</style>\n",
       "<table border=\"1\" class=\"dataframe\">\n",
       "  <thead>\n",
       "    <tr style=\"text-align: right;\">\n",
       "      <th></th>\n",
       "      <th>Qual sua Idade?</th>\n",
       "      <th>Você trabalhou de casa durante a pandemia?</th>\n",
       "      <th>Você já exercia esse modelo de trabalho?</th>\n",
       "      <th>Você sente que sua carga de trabalho aumentou durante o trabalho de casa?</th>\n",
       "      <th>Por conta do home office você trabalhou mais do que a sua carga horária contratual?</th>\n",
       "      <th>Você se vê e/ou pretende trabalhar remotamente no futuro?</th>\n",
       "      <th>Como você avalia o suporte/auxílio que a sua empresa prestou durante o trabalho de Home Office?</th>\n",
       "      <th>Como você avalia o entrosamento com seus colegas de trabalho durante Home Office?</th>\n",
       "      <th>Como foi sua experiência em trabalhar de casa?</th>\n",
       "    </tr>\n",
       "  </thead>\n",
       "  <tbody>\n",
       "    <tr>\n",
       "      <th>0</th>\n",
       "      <td>Entre 18 e 25 anos</td>\n",
       "      <td>Sim</td>\n",
       "      <td>Não</td>\n",
       "      <td>Não</td>\n",
       "      <td>Não</td>\n",
       "      <td>Sim</td>\n",
       "      <td>3</td>\n",
       "      <td>4</td>\n",
       "      <td>5</td>\n",
       "    </tr>\n",
       "    <tr>\n",
       "      <th>1</th>\n",
       "      <td>Entre 18 e 25 anos</td>\n",
       "      <td>Sim</td>\n",
       "      <td>Não</td>\n",
       "      <td>Não</td>\n",
       "      <td>Não</td>\n",
       "      <td>Não</td>\n",
       "      <td>3</td>\n",
       "      <td>3</td>\n",
       "      <td>3</td>\n",
       "    </tr>\n",
       "    <tr>\n",
       "      <th>2</th>\n",
       "      <td>Entre 18 e 25 anos</td>\n",
       "      <td>Sim</td>\n",
       "      <td>Não</td>\n",
       "      <td>Sim</td>\n",
       "      <td>Sim</td>\n",
       "      <td>Não</td>\n",
       "      <td>5</td>\n",
       "      <td>5</td>\n",
       "      <td>4</td>\n",
       "    </tr>\n",
       "    <tr>\n",
       "      <th>3</th>\n",
       "      <td>Entre 18 e 25 anos</td>\n",
       "      <td>Sim</td>\n",
       "      <td>Não</td>\n",
       "      <td>Não</td>\n",
       "      <td>Não</td>\n",
       "      <td>Sim</td>\n",
       "      <td>3</td>\n",
       "      <td>2</td>\n",
       "      <td>3</td>\n",
       "    </tr>\n",
       "    <tr>\n",
       "      <th>4</th>\n",
       "      <td>Entre 18 e 25 anos</td>\n",
       "      <td>Sim</td>\n",
       "      <td>Não</td>\n",
       "      <td>Sim</td>\n",
       "      <td>Sim</td>\n",
       "      <td>Sim</td>\n",
       "      <td>5</td>\n",
       "      <td>4</td>\n",
       "      <td>2</td>\n",
       "    </tr>\n",
       "    <tr>\n",
       "      <th>...</th>\n",
       "      <td>...</td>\n",
       "      <td>...</td>\n",
       "      <td>...</td>\n",
       "      <td>...</td>\n",
       "      <td>...</td>\n",
       "      <td>...</td>\n",
       "      <td>...</td>\n",
       "      <td>...</td>\n",
       "      <td>...</td>\n",
       "    </tr>\n",
       "    <tr>\n",
       "      <th>148</th>\n",
       "      <td>Entre 46 e 60 anos</td>\n",
       "      <td>Sim</td>\n",
       "      <td>Não</td>\n",
       "      <td>Sim</td>\n",
       "      <td>Sim</td>\n",
       "      <td>Não</td>\n",
       "      <td>4</td>\n",
       "      <td>4</td>\n",
       "      <td>4</td>\n",
       "    </tr>\n",
       "    <tr>\n",
       "      <th>149</th>\n",
       "      <td>mais de 60 anos</td>\n",
       "      <td>Sim</td>\n",
       "      <td>Não</td>\n",
       "      <td>Não</td>\n",
       "      <td>Não</td>\n",
       "      <td>Não</td>\n",
       "      <td>2</td>\n",
       "      <td>4</td>\n",
       "      <td>3</td>\n",
       "    </tr>\n",
       "    <tr>\n",
       "      <th>150</th>\n",
       "      <td>Entre 36 e 45 anos</td>\n",
       "      <td>Sim</td>\n",
       "      <td>Não</td>\n",
       "      <td>Sim</td>\n",
       "      <td>Não</td>\n",
       "      <td>Não</td>\n",
       "      <td>4</td>\n",
       "      <td>3</td>\n",
       "      <td>2</td>\n",
       "    </tr>\n",
       "    <tr>\n",
       "      <th>151</th>\n",
       "      <td>Entre 26 e 35 anos</td>\n",
       "      <td>Sim</td>\n",
       "      <td>Não</td>\n",
       "      <td>Não</td>\n",
       "      <td>Não</td>\n",
       "      <td>Sim</td>\n",
       "      <td>5</td>\n",
       "      <td>4</td>\n",
       "      <td>5</td>\n",
       "    </tr>\n",
       "    <tr>\n",
       "      <th>152</th>\n",
       "      <td>Entre 26 e 35 anos</td>\n",
       "      <td>Sim</td>\n",
       "      <td>Sim</td>\n",
       "      <td>Sim</td>\n",
       "      <td>Sim</td>\n",
       "      <td>Sim</td>\n",
       "      <td>3</td>\n",
       "      <td>5</td>\n",
       "      <td>4</td>\n",
       "    </tr>\n",
       "  </tbody>\n",
       "</table>\n",
       "<p>153 rows × 9 columns</p>\n",
       "</div>"
      ],
      "text/plain": [
       "        Qual sua Idade?  ... Como foi sua experiência em trabalhar de casa?\n",
       "0    Entre 18 e 25 anos  ...                                              5\n",
       "1    Entre 18 e 25 anos  ...                                              3\n",
       "2    Entre 18 e 25 anos  ...                                              4\n",
       "3    Entre 18 e 25 anos  ...                                              3\n",
       "4    Entre 18 e 25 anos  ...                                              2\n",
       "..                  ...  ...                                            ...\n",
       "148  Entre 46 e 60 anos  ...                                              4\n",
       "149     mais de 60 anos  ...                                              3\n",
       "150  Entre 36 e 45 anos  ...                                              2\n",
       "151  Entre 26 e 35 anos  ...                                              5\n",
       "152  Entre 26 e 35 anos  ...                                              4\n",
       "\n",
       "[153 rows x 9 columns]"
      ]
     },
     "execution_count": 16,
     "metadata": {
      "tags": []
     },
     "output_type": "execute_result"
    }
   ],
   "source": [
    "import pandas as pd\n",
    "import matplotlib.pyplot as plt\n",
    "\n",
    "\n",
    "respostasgu = pd.read_csv('https://raw.githubusercontent.com/vittoria-thomasini/comportment-analytics-covid19/main/Planilhas/Empresa.csv', delimiter = ';')\n",
    "respostasgu"
   ]
  },
  {
   "cell_type": "code",
   "execution_count": null,
   "metadata": {
    "colab": {
     "base_uri": "https://localhost:8080/",
     "height": 790
    },
    "id": "-LH7GB5kEIMN",
    "outputId": "85d2765c-0aa8-4b3f-9b22-e26be88ca0ab"
   },
   "outputs": [
    {
     "data": {
      "text/html": [
       "<div>\n",
       "<style scoped>\n",
       "    .dataframe tbody tr th:only-of-type {\n",
       "        vertical-align: middle;\n",
       "    }\n",
       "\n",
       "    .dataframe tbody tr th {\n",
       "        vertical-align: top;\n",
       "    }\n",
       "\n",
       "    .dataframe thead th {\n",
       "        text-align: right;\n",
       "    }\n",
       "</style>\n",
       "<table border=\"1\" class=\"dataframe\">\n",
       "  <thead>\n",
       "    <tr style=\"text-align: right;\">\n",
       "      <th></th>\n",
       "      <th>Qual sua Idade?</th>\n",
       "      <th>Você trabalhou de casa durante a pandemia?</th>\n",
       "      <th>Você já exercia esse modelo de trabalho?</th>\n",
       "      <th>Você sente que sua carga de trabalho aumentou durante o trabalho de casa?</th>\n",
       "      <th>Por conta do home office você trabalhou mais do que a sua carga horária contratual?</th>\n",
       "      <th>Você se vê e/ou pretende trabalhar remotamente no futuro?</th>\n",
       "      <th>Como você avalia o suporte/auxílio que a sua empresa prestou durante o trabalho de Home Office?</th>\n",
       "      <th>Como você avalia o entrosamento com seus colegas de trabalho durante Home Office?</th>\n",
       "      <th>Como foi sua experiência em trabalhar de casa?</th>\n",
       "    </tr>\n",
       "  </thead>\n",
       "  <tbody>\n",
       "    <tr>\n",
       "      <th>0</th>\n",
       "      <td>Entre 18 e 25 anos</td>\n",
       "      <td>1</td>\n",
       "      <td>0</td>\n",
       "      <td>0</td>\n",
       "      <td>0</td>\n",
       "      <td>1</td>\n",
       "      <td>3</td>\n",
       "      <td>4</td>\n",
       "      <td>5</td>\n",
       "    </tr>\n",
       "    <tr>\n",
       "      <th>1</th>\n",
       "      <td>Entre 18 e 25 anos</td>\n",
       "      <td>1</td>\n",
       "      <td>0</td>\n",
       "      <td>0</td>\n",
       "      <td>0</td>\n",
       "      <td>0</td>\n",
       "      <td>3</td>\n",
       "      <td>3</td>\n",
       "      <td>3</td>\n",
       "    </tr>\n",
       "    <tr>\n",
       "      <th>2</th>\n",
       "      <td>Entre 18 e 25 anos</td>\n",
       "      <td>1</td>\n",
       "      <td>0</td>\n",
       "      <td>1</td>\n",
       "      <td>1</td>\n",
       "      <td>0</td>\n",
       "      <td>5</td>\n",
       "      <td>5</td>\n",
       "      <td>4</td>\n",
       "    </tr>\n",
       "    <tr>\n",
       "      <th>3</th>\n",
       "      <td>Entre 18 e 25 anos</td>\n",
       "      <td>1</td>\n",
       "      <td>0</td>\n",
       "      <td>0</td>\n",
       "      <td>0</td>\n",
       "      <td>1</td>\n",
       "      <td>3</td>\n",
       "      <td>2</td>\n",
       "      <td>3</td>\n",
       "    </tr>\n",
       "    <tr>\n",
       "      <th>4</th>\n",
       "      <td>Entre 18 e 25 anos</td>\n",
       "      <td>1</td>\n",
       "      <td>0</td>\n",
       "      <td>1</td>\n",
       "      <td>1</td>\n",
       "      <td>1</td>\n",
       "      <td>5</td>\n",
       "      <td>4</td>\n",
       "      <td>2</td>\n",
       "    </tr>\n",
       "    <tr>\n",
       "      <th>...</th>\n",
       "      <td>...</td>\n",
       "      <td>...</td>\n",
       "      <td>...</td>\n",
       "      <td>...</td>\n",
       "      <td>...</td>\n",
       "      <td>...</td>\n",
       "      <td>...</td>\n",
       "      <td>...</td>\n",
       "      <td>...</td>\n",
       "    </tr>\n",
       "    <tr>\n",
       "      <th>148</th>\n",
       "      <td>Entre 46 e 60 anos</td>\n",
       "      <td>1</td>\n",
       "      <td>0</td>\n",
       "      <td>1</td>\n",
       "      <td>1</td>\n",
       "      <td>0</td>\n",
       "      <td>4</td>\n",
       "      <td>4</td>\n",
       "      <td>4</td>\n",
       "    </tr>\n",
       "    <tr>\n",
       "      <th>149</th>\n",
       "      <td>mais de 60 anos</td>\n",
       "      <td>1</td>\n",
       "      <td>0</td>\n",
       "      <td>0</td>\n",
       "      <td>0</td>\n",
       "      <td>0</td>\n",
       "      <td>2</td>\n",
       "      <td>4</td>\n",
       "      <td>3</td>\n",
       "    </tr>\n",
       "    <tr>\n",
       "      <th>150</th>\n",
       "      <td>Entre 36 e 45 anos</td>\n",
       "      <td>1</td>\n",
       "      <td>0</td>\n",
       "      <td>1</td>\n",
       "      <td>0</td>\n",
       "      <td>0</td>\n",
       "      <td>4</td>\n",
       "      <td>3</td>\n",
       "      <td>2</td>\n",
       "    </tr>\n",
       "    <tr>\n",
       "      <th>151</th>\n",
       "      <td>Entre 26 e 35 anos</td>\n",
       "      <td>1</td>\n",
       "      <td>0</td>\n",
       "      <td>0</td>\n",
       "      <td>0</td>\n",
       "      <td>1</td>\n",
       "      <td>5</td>\n",
       "      <td>4</td>\n",
       "      <td>5</td>\n",
       "    </tr>\n",
       "    <tr>\n",
       "      <th>152</th>\n",
       "      <td>Entre 26 e 35 anos</td>\n",
       "      <td>1</td>\n",
       "      <td>1</td>\n",
       "      <td>1</td>\n",
       "      <td>1</td>\n",
       "      <td>1</td>\n",
       "      <td>3</td>\n",
       "      <td>5</td>\n",
       "      <td>4</td>\n",
       "    </tr>\n",
       "  </tbody>\n",
       "</table>\n",
       "<p>153 rows × 9 columns</p>\n",
       "</div>"
      ],
      "text/plain": [
       "        Qual sua Idade?  ...  Como foi sua experiência em trabalhar de casa?\n",
       "0    Entre 18 e 25 anos  ...                                               5\n",
       "1    Entre 18 e 25 anos  ...                                               3\n",
       "2    Entre 18 e 25 anos  ...                                               4\n",
       "3    Entre 18 e 25 anos  ...                                               3\n",
       "4    Entre 18 e 25 anos  ...                                               2\n",
       "..                  ...  ...                                             ...\n",
       "148  Entre 46 e 60 anos  ...                                               4\n",
       "149     mais de 60 anos  ...                                               3\n",
       "150  Entre 36 e 45 anos  ...                                               2\n",
       "151  Entre 26 e 35 anos  ...                                               5\n",
       "152  Entre 26 e 35 anos  ...                                               4\n",
       "\n",
       "[153 rows x 9 columns]"
      ]
     },
     "execution_count": 17,
     "metadata": {
      "tags": []
     },
     "output_type": "execute_result"
    }
   ],
   "source": [
    "respostasgu = respostasgu.replace('Sim', 1)\n",
    "respostasgu = respostasgu.replace('Não', 0)\n",
    "respostasgu\n",
    "  "
   ]
  },
  {
   "cell_type": "code",
   "execution_count": null,
   "metadata": {
    "colab": {
     "base_uri": "https://localhost:8080/",
     "height": 1000
    },
    "id": "uLiTnt6ffWze",
    "outputId": "bb6e3fb7-db70-412d-8cd6-cffc3337ec9a"
   },
   "outputs": [
    {
     "data": {
      "text/plain": [
       "array([[<matplotlib.axes._subplots.AxesSubplot object at 0x7f7d86a5ba50>]],\n",
       "      dtype=object)"
      ]
     },
     "execution_count": 18,
     "metadata": {
      "tags": []
     },
     "output_type": "execute_result"
    },
    {
     "data": {
      "image/png": "[encoded data removed]",
      "text/plain": [
       "<Figure size 432x288 with 1 Axes>"
      ]
     },
     "metadata": {
      "needs_background": "light",
      "tags": []
     },
     "output_type": "display_data"
    },
    {
     "data": {
      "image/png": "[encoded data removed]",
      "text/plain": [
       "<Figure size 432x288 with 1 Axes>"
      ]
     },
     "metadata": {
      "needs_background": "light",
      "tags": []
     },
     "output_type": "display_data"
    },
    {
     "data": {
      "image/png": "[encoded data removed]",
      "text/plain": [
       "<Figure size 432x288 with 1 Axes>"
      ]
     },
     "metadata": {
      "needs_background": "light",
      "tags": []
     },
     "output_type": "display_data"
    },
    {
     "data": {
      "image/png": "[encoded data removed]",
      "text/plain": [
       "<Figure size 432x288 with 1 Axes>"
      ]
     },
     "metadata": {
      "needs_background": "light",
      "tags": []
     },
     "output_type": "display_data"
    }
   ],
   "source": [
    "#coluna3 = respostas['Você já exercia esse modelo de trabalho?']\n",
    "#coluna4 = respostas['Você sente que sua carga de trabalho aumentou durante o trabalho de casa?']\n",
    "#coluna5 = respostas['Por conta do home office você trabalhou mais do que a sua carga horária contratual?']\n",
    "#coluna6 = respostas['Você se vê e/ou pretende trabalhar remotamente no futuro?']\n",
    "respostasgu.hist(['Você já exercia esse modelo de trabalho?'])\n",
    "respostasgu.hist(['Você sente que sua carga de trabalho aumentou durante o trabalho de casa?'])\n",
    "respostasgu.hist(['Por conta do home office você trabalhou mais do que a sua carga horária contratual?'])\n",
    "respostasgu.hist(['Você se vê e/ou pretende trabalhar remotamente no futuro?'])"
   ]
  },
  {
   "cell_type": "code",
   "execution_count": null,
   "metadata": {
    "colab": {
     "base_uri": "https://localhost:8080/"
    },
    "id": "p8ORC6L1kNfn",
    "outputId": "667814a7-6265-4e9f-9bf7-85c586a53a1c"
   },
   "outputs": [
    {
     "data": {
      "text/plain": [
       "(36, 81, 36)"
      ]
     },
     "execution_count": 23,
     "metadata": {
      "tags": []
     },
     "output_type": "execute_result"
    }
   ],
   "source": [
    "positivas = respostasgu['Como você avalia o entrosamento com seus colegas de trabalho durante Home Office?'] > 3\n",
    "\n",
    "#bom = 0\n",
    "#ruim = 0\n",
    "#neutro = 0\n",
    "#for i in positivas: \n",
    "#  if i == True:\n",
    "#    bom = bom + 1\n",
    "\n",
    "#negativas = respostasgu['Como você avalia o entrosamento com seus colegas de trabalho durante Home Office?'] < 3\n",
    "\n",
    "#for i in negativas: \n",
    "#  if i == True:\n",
    "#    ruim = ruim + 1\n",
    "filtroneutro = respostasgu.loc[respostasgu['Como você avalia o entrosamento com seus colegas de trabalho durante Home Office?'] == 3]\n",
    "filtrobom = respostasgu.loc[respostasgu['Como você avalia o entrosamento com seus colegas de trabalho durante Home Office?'] > 3]\n",
    "filtroruim = respostasgu.loc[respostasgu['Como você avalia o entrosamento com seus colegas de trabalho durante Home Office?'] < 3]\n",
    "neutras = filtroneutro['Como você avalia o entrosamento com seus colegas de trabalho durante Home Office?'].count()\n",
    "bom = filtrobom['Como você avalia o entrosamento com seus colegas de trabalho durante Home Office?'].count()\n",
    "ruim = filtroruim['Como você avalia o entrosamento com seus colegas de trabalho durante Home Office?'].count()\n",
    "resposta = neutras, bom, ruim\n",
    "resposta\n",
    "#plt.pie(resposta)"
   ]
  },
  {
   "cell_type": "code",
   "execution_count": null,
   "metadata": {
    "colab": {
     "base_uri": "https://localhost:8080/"
    },
    "id": "Ig_qXpBM5rNF",
    "outputId": "6ecfabdb-4fd0-4c5e-af98-5e1436628e8e"
   },
   "outputs": [
    {
     "data": {
      "text/plain": [
       "(37, 83, 33)"
      ]
     },
     "execution_count": 21,
     "metadata": {
      "tags": []
     },
     "output_type": "execute_result"
    }
   ],
   "source": [
    "filtroneutro = respostasgu.loc[respostasgu['Como você avalia o suporte/auxílio que a sua empresa prestou durante o trabalho de Home Office? '] == 3]\n",
    "filtrobom = respostasgu.loc[respostasgu['Como você avalia o suporte/auxílio que a sua empresa prestou durante o trabalho de Home Office? '] > 3]\n",
    "filtroruim = respostasgu.loc[respostasgu['Como você avalia o suporte/auxílio que a sua empresa prestou durante o trabalho de Home Office? '] < 3]\n",
    "neutras = filtroneutro['Como você avalia o suporte/auxílio que a sua empresa prestou durante o trabalho de Home Office? '].count()\n",
    "bom = filtrobom['Como você avalia o suporte/auxílio que a sua empresa prestou durante o trabalho de Home Office? '].count()\n",
    "ruim = filtroruim['Como você avalia o suporte/auxílio que a sua empresa prestou durante o trabalho de Home Office? '].count()\n",
    "resposta = neutras, bom, ruim\n",
    "resposta\n",
    "#plt.pie(resposta)"
   ]
  },
  {
   "cell_type": "markdown",
   "metadata": {
    "id": "AN_RXVFGVAeZ"
   },
   "source": [
    "# Idades - Gabriel"
   ]
  },
  {
   "cell_type": "code",
   "execution_count": null,
   "metadata": {
    "colab": {
     "base_uri": "https://localhost:8080/",
     "height": 945
    },
    "id": "L-rBcgXqVUo7",
    "outputId": "d0e5f6bd-ad06-4f1d-a693-5c3ad15adc9c"
   },
   "outputs": [
    {
     "data": {
      "text/html": [
       "<div>\n",
       "<style scoped>\n",
       "    .dataframe tbody tr th:only-of-type {\n",
       "        vertical-align: middle;\n",
       "    }\n",
       "\n",
       "    .dataframe tbody tr th {\n",
       "        vertical-align: top;\n",
       "    }\n",
       "\n",
       "    .dataframe thead th {\n",
       "        text-align: right;\n",
       "    }\n",
       "</style>\n",
       "<table border=\"1\" class=\"dataframe\">\n",
       "  <thead>\n",
       "    <tr style=\"text-align: right;\">\n",
       "      <th></th>\n",
       "      <th>Qual sua Idade?</th>\n",
       "      <th>Você trabalhou de casa durante a pandemia?</th>\n",
       "      <th>Seu trabalho permite o modelo Home Office?</th>\n",
       "      <th>Você se vê e/ou gostaria de trabalhar remotamente no futuro?</th>\n",
       "      <th>Você já exercia esse modelo de trabalho?</th>\n",
       "      <th>Você sente que sua carga de trabalho aumentou durante o trabalho de casa?</th>\n",
       "      <th>Por conta do home office você trabalhou mais do que a sua carga horária contratual?</th>\n",
       "      <th>Você se vê e/ou pretende trabalhar remotamente no futuro?</th>\n",
       "      <th>Como você avalia sua adaptação ao Home Office?</th>\n",
       "      <th>Como você avalia a sua produtividade durante a pandemia?</th>\n",
       "      <th>Como você avalia o seu foco durante o trabalho de Home Office?</th>\n",
       "      <th>Como você avalia o seu nível de fadiga (Cansaço excessivo) durante o trabalho de Home Office?</th>\n",
       "      <th>Como você avalia o seu nível de estresse durante o trabalho de Home Office?</th>\n",
       "      <th>Como você avalia o suporte/auxílio que a sua empresa prestou durante o trabalho de Home Office?</th>\n",
       "      <th>Como você avalia o entrosamento com seus colegas de trabalho durante Home Office?</th>\n",
       "      <th>Como foi sua experiência em trabalhar de casa?</th>\n",
       "    </tr>\n",
       "  </thead>\n",
       "  <tbody>\n",
       "    <tr>\n",
       "      <th>0</th>\n",
       "      <td>Entre 18 e 25 anos</td>\n",
       "      <td>Não</td>\n",
       "      <td>Sim</td>\n",
       "      <td>Sim</td>\n",
       "      <td>NaN</td>\n",
       "      <td>NaN</td>\n",
       "      <td>NaN</td>\n",
       "      <td>NaN</td>\n",
       "      <td>NaN</td>\n",
       "      <td>NaN</td>\n",
       "      <td>NaN</td>\n",
       "      <td>NaN</td>\n",
       "      <td>NaN</td>\n",
       "      <td>NaN</td>\n",
       "      <td>NaN</td>\n",
       "      <td>NaN</td>\n",
       "    </tr>\n",
       "    <tr>\n",
       "      <th>1</th>\n",
       "      <td>Entre 18 e 25 anos</td>\n",
       "      <td>Sim</td>\n",
       "      <td>NaN</td>\n",
       "      <td>NaN</td>\n",
       "      <td>Não</td>\n",
       "      <td>Não</td>\n",
       "      <td>Não</td>\n",
       "      <td>Sim</td>\n",
       "      <td>5.0</td>\n",
       "      <td>4.0</td>\n",
       "      <td>4.0</td>\n",
       "      <td>3.0</td>\n",
       "      <td>3.0</td>\n",
       "      <td>3.0</td>\n",
       "      <td>4.0</td>\n",
       "      <td>5.0</td>\n",
       "    </tr>\n",
       "    <tr>\n",
       "      <th>2</th>\n",
       "      <td>Entre 18 e 25 anos</td>\n",
       "      <td>Sim</td>\n",
       "      <td>NaN</td>\n",
       "      <td>NaN</td>\n",
       "      <td>Não</td>\n",
       "      <td>Não</td>\n",
       "      <td>Não</td>\n",
       "      <td>Não</td>\n",
       "      <td>3.0</td>\n",
       "      <td>3.0</td>\n",
       "      <td>3.0</td>\n",
       "      <td>3.0</td>\n",
       "      <td>3.0</td>\n",
       "      <td>3.0</td>\n",
       "      <td>3.0</td>\n",
       "      <td>3.0</td>\n",
       "    </tr>\n",
       "    <tr>\n",
       "      <th>3</th>\n",
       "      <td>Entre 18 e 25 anos</td>\n",
       "      <td>Sim</td>\n",
       "      <td>NaN</td>\n",
       "      <td>NaN</td>\n",
       "      <td>Não</td>\n",
       "      <td>Sim</td>\n",
       "      <td>Sim</td>\n",
       "      <td>Não</td>\n",
       "      <td>4.0</td>\n",
       "      <td>3.0</td>\n",
       "      <td>4.0</td>\n",
       "      <td>5.0</td>\n",
       "      <td>4.0</td>\n",
       "      <td>5.0</td>\n",
       "      <td>5.0</td>\n",
       "      <td>4.0</td>\n",
       "    </tr>\n",
       "    <tr>\n",
       "      <th>4</th>\n",
       "      <td>Entre 18 e 25 anos</td>\n",
       "      <td>Sim</td>\n",
       "      <td>NaN</td>\n",
       "      <td>NaN</td>\n",
       "      <td>Não</td>\n",
       "      <td>Não</td>\n",
       "      <td>Não</td>\n",
       "      <td>Sim</td>\n",
       "      <td>4.0</td>\n",
       "      <td>3.0</td>\n",
       "      <td>2.0</td>\n",
       "      <td>5.0</td>\n",
       "      <td>3.0</td>\n",
       "      <td>3.0</td>\n",
       "      <td>2.0</td>\n",
       "      <td>3.0</td>\n",
       "    </tr>\n",
       "    <tr>\n",
       "      <th>...</th>\n",
       "      <td>...</td>\n",
       "      <td>...</td>\n",
       "      <td>...</td>\n",
       "      <td>...</td>\n",
       "      <td>...</td>\n",
       "      <td>...</td>\n",
       "      <td>...</td>\n",
       "      <td>...</td>\n",
       "      <td>...</td>\n",
       "      <td>...</td>\n",
       "      <td>...</td>\n",
       "      <td>...</td>\n",
       "      <td>...</td>\n",
       "      <td>...</td>\n",
       "      <td>...</td>\n",
       "      <td>...</td>\n",
       "    </tr>\n",
       "    <tr>\n",
       "      <th>223</th>\n",
       "      <td>mais de 60 anos</td>\n",
       "      <td>Sim</td>\n",
       "      <td>NaN</td>\n",
       "      <td>NaN</td>\n",
       "      <td>Não</td>\n",
       "      <td>Não</td>\n",
       "      <td>Não</td>\n",
       "      <td>Não</td>\n",
       "      <td>3.0</td>\n",
       "      <td>2.0</td>\n",
       "      <td>3.0</td>\n",
       "      <td>3.0</td>\n",
       "      <td>3.0</td>\n",
       "      <td>2.0</td>\n",
       "      <td>4.0</td>\n",
       "      <td>3.0</td>\n",
       "    </tr>\n",
       "    <tr>\n",
       "      <th>224</th>\n",
       "      <td>Entre 36 e 45 anos</td>\n",
       "      <td>Sim</td>\n",
       "      <td>NaN</td>\n",
       "      <td>NaN</td>\n",
       "      <td>Não</td>\n",
       "      <td>Sim</td>\n",
       "      <td>Não</td>\n",
       "      <td>Não</td>\n",
       "      <td>2.0</td>\n",
       "      <td>2.0</td>\n",
       "      <td>4.0</td>\n",
       "      <td>2.0</td>\n",
       "      <td>2.0</td>\n",
       "      <td>4.0</td>\n",
       "      <td>3.0</td>\n",
       "      <td>2.0</td>\n",
       "    </tr>\n",
       "    <tr>\n",
       "      <th>225</th>\n",
       "      <td>Entre 18 e 25 anos</td>\n",
       "      <td>Não</td>\n",
       "      <td>Sim</td>\n",
       "      <td>Sim</td>\n",
       "      <td>NaN</td>\n",
       "      <td>NaN</td>\n",
       "      <td>NaN</td>\n",
       "      <td>NaN</td>\n",
       "      <td>NaN</td>\n",
       "      <td>NaN</td>\n",
       "      <td>NaN</td>\n",
       "      <td>NaN</td>\n",
       "      <td>NaN</td>\n",
       "      <td>NaN</td>\n",
       "      <td>NaN</td>\n",
       "      <td>NaN</td>\n",
       "    </tr>\n",
       "    <tr>\n",
       "      <th>226</th>\n",
       "      <td>Entre 26 e 35 anos</td>\n",
       "      <td>Sim</td>\n",
       "      <td>NaN</td>\n",
       "      <td>NaN</td>\n",
       "      <td>Não</td>\n",
       "      <td>Não</td>\n",
       "      <td>Não</td>\n",
       "      <td>Sim</td>\n",
       "      <td>4.0</td>\n",
       "      <td>5.0</td>\n",
       "      <td>4.0</td>\n",
       "      <td>5.0</td>\n",
       "      <td>5.0</td>\n",
       "      <td>5.0</td>\n",
       "      <td>4.0</td>\n",
       "      <td>5.0</td>\n",
       "    </tr>\n",
       "    <tr>\n",
       "      <th>227</th>\n",
       "      <td>Entre 26 e 35 anos</td>\n",
       "      <td>Sim</td>\n",
       "      <td>NaN</td>\n",
       "      <td>NaN</td>\n",
       "      <td>Sim</td>\n",
       "      <td>Sim</td>\n",
       "      <td>Sim</td>\n",
       "      <td>Sim</td>\n",
       "      <td>5.0</td>\n",
       "      <td>4.0</td>\n",
       "      <td>3.0</td>\n",
       "      <td>3.0</td>\n",
       "      <td>2.0</td>\n",
       "      <td>3.0</td>\n",
       "      <td>5.0</td>\n",
       "      <td>4.0</td>\n",
       "    </tr>\n",
       "  </tbody>\n",
       "</table>\n",
       "<p>228 rows × 16 columns</p>\n",
       "</div>"
      ],
      "text/plain": [
       "        Qual sua Idade?  ... Como foi sua experiência em trabalhar de casa?\n",
       "0    Entre 18 e 25 anos  ...                                            NaN\n",
       "1    Entre 18 e 25 anos  ...                                            5.0\n",
       "2    Entre 18 e 25 anos  ...                                            3.0\n",
       "3    Entre 18 e 25 anos  ...                                            4.0\n",
       "4    Entre 18 e 25 anos  ...                                            3.0\n",
       "..                  ...  ...                                            ...\n",
       "223     mais de 60 anos  ...                                            3.0\n",
       "224  Entre 36 e 45 anos  ...                                            2.0\n",
       "225  Entre 18 e 25 anos  ...                                            NaN\n",
       "226  Entre 26 e 35 anos  ...                                            5.0\n",
       "227  Entre 26 e 35 anos  ...                                            4.0\n",
       "\n",
       "[228 rows x 16 columns]"
      ]
     },
     "execution_count": 18,
     "metadata": {
      "tags": []
     },
     "output_type": "execute_result"
    }
   ],
   "source": [
    "import pandas as pd\n",
    "\n",
    "respostas = pd.read_csv('https://github.com/vittoria-thomasini/comportment-analytics-covid19/blob/main/Planilhas/Idades.csv?raw=true', delimiter = ';')\n",
    "respostas"
   ]
  },
  {
   "cell_type": "code",
   "execution_count": null,
   "metadata": {
    "id": "6CFjnABQVeZi"
   },
   "outputs": [],
   "source": [
    "respostas = respostas.replace('Menos de 18 anos', '-18')\n",
    "respostas = respostas.replace('Entre 18 e 25 anos', '18-25')\n",
    "respostas = respostas.replace('Entre 26 e 35 anos', '26-35')\n",
    "respostas = respostas.replace('Entre 36 e 45 anos', '36-45')\n",
    "respostas = respostas.replace('Entre 46 e 60 anos', '46-59')\n",
    "respostas = respostas.replace('mais de 60 anos', '60+')\n",
    "respostas = respostas.replace('Sim', 1)\n",
    "respostas = respostas.replace('Não', 0)"
   ]
  },
  {
   "cell_type": "code",
   "execution_count": null,
   "metadata": {
    "colab": {
     "base_uri": "https://localhost:8080/",
     "height": 283
    },
    "id": "0XnZYh2eVfui",
    "outputId": "9ee1d862-5a03-49d3-eaf2-c6d3735d4a62"
   },
   "outputs": [
    {
     "name": "stdout",
     "output_type": "stream",
     "text": [
      "Gráfico idades\n"
     ]
    },
    {
     "data": {
      "image/png": "[encoded data removed]",
      "text/plain": [
       "<Figure size 432x288 with 1 Axes>"
      ]
     },
     "metadata": {
      "needs_background": "light",
      "tags": []
     },
     "output_type": "display_data"
    }
   ],
   "source": [
    "import matplotlib.pyplot as plt\n",
    "\n",
    "plt.hist(respostas[\"Qual sua Idade?\"])\n",
    "print(\"Gráfico idades\")\n",
    "plt.show()"
   ]
  },
  {
   "cell_type": "code",
   "execution_count": null,
   "metadata": {
    "colab": {
     "base_uri": "https://localhost:8080/"
    },
    "id": "sFZuARduVzdj",
    "outputId": "73728061-b277-4581-eadd-24b6035bb161"
   },
   "outputs": [
    {
     "name": "stdout",
     "output_type": "stream",
     "text": [
      "Total de Pessoas que trabalharam remotamente durante a pandemia\n"
     ]
    },
    {
     "data": {
      "text/plain": [
       "153"
      ]
     },
     "execution_count": 21,
     "metadata": {
      "tags": []
     },
     "output_type": "execute_result"
    }
   ],
   "source": [
    "print('Total de Pessoas que trabalharam remotamente durante a pandemia')\n",
    "filtro1_1 = respostas.loc[respostas['Você trabalhou de casa durante a pandemia?'] == 1]\n",
    "filtro1_1['Você trabalhou de casa durante a pandemia?'].count()"
   ]
  },
  {
   "cell_type": "code",
   "execution_count": null,
   "metadata": {
    "colab": {
     "base_uri": "https://localhost:8080/"
    },
    "id": "ldFSA7bnV5Y9",
    "outputId": "6508c164-c7b5-4442-d479-cf76a2b9b382"
   },
   "outputs": [
    {
     "name": "stdout",
     "output_type": "stream",
     "text": [
      "Total de Pessoas que NÃO trabalharam remotamente durante a pandemia\n"
     ]
    },
    {
     "data": {
      "text/plain": [
       "75"
      ]
     },
     "execution_count": 22,
     "metadata": {
      "tags": []
     },
     "output_type": "execute_result"
    }
   ],
   "source": [
    "print('Total de Pessoas que NÃO trabalharam remotamente durante a pandemia')\n",
    "filtro1_2 = respostas.loc[respostas['Você trabalhou de casa durante a pandemia?'] == 0]\n",
    "filtro1_2['Você trabalhou de casa durante a pandemia?'].count()"
   ]
  },
  {
   "cell_type": "code",
   "execution_count": null,
   "metadata": {
    "colab": {
     "base_uri": "https://localhost:8080/",
     "height": 407
    },
    "id": "E4PftwN5V6y1",
    "outputId": "cfcc3534-6ce5-4550-80fe-44ff648f99f6"
   },
   "outputs": [
    {
     "data": {
      "text/html": [
       "<div>\n",
       "<style scoped>\n",
       "    .dataframe tbody tr th:only-of-type {\n",
       "        vertical-align: middle;\n",
       "    }\n",
       "\n",
       "    .dataframe tbody tr th {\n",
       "        vertical-align: top;\n",
       "    }\n",
       "\n",
       "    .dataframe thead th {\n",
       "        text-align: right;\n",
       "    }\n",
       "</style>\n",
       "<table border=\"1\" class=\"dataframe\">\n",
       "  <thead>\n",
       "    <tr style=\"text-align: right;\">\n",
       "      <th></th>\n",
       "      <th>Qual sua Idade?</th>\n",
       "      <th>Você se vê e/ou gostaria de trabalhar remotamente no futuro?</th>\n",
       "    </tr>\n",
       "  </thead>\n",
       "  <tbody>\n",
       "    <tr>\n",
       "      <th>0</th>\n",
       "      <td>18-25</td>\n",
       "      <td>1.0</td>\n",
       "    </tr>\n",
       "    <tr>\n",
       "      <th>1</th>\n",
       "      <td>18-25</td>\n",
       "      <td>NaN</td>\n",
       "    </tr>\n",
       "    <tr>\n",
       "      <th>2</th>\n",
       "      <td>18-25</td>\n",
       "      <td>NaN</td>\n",
       "    </tr>\n",
       "    <tr>\n",
       "      <th>3</th>\n",
       "      <td>18-25</td>\n",
       "      <td>NaN</td>\n",
       "    </tr>\n",
       "    <tr>\n",
       "      <th>4</th>\n",
       "      <td>18-25</td>\n",
       "      <td>NaN</td>\n",
       "    </tr>\n",
       "    <tr>\n",
       "      <th>...</th>\n",
       "      <td>...</td>\n",
       "      <td>...</td>\n",
       "    </tr>\n",
       "    <tr>\n",
       "      <th>223</th>\n",
       "      <td>60+</td>\n",
       "      <td>NaN</td>\n",
       "    </tr>\n",
       "    <tr>\n",
       "      <th>224</th>\n",
       "      <td>36-45</td>\n",
       "      <td>NaN</td>\n",
       "    </tr>\n",
       "    <tr>\n",
       "      <th>225</th>\n",
       "      <td>18-25</td>\n",
       "      <td>1.0</td>\n",
       "    </tr>\n",
       "    <tr>\n",
       "      <th>226</th>\n",
       "      <td>26-35</td>\n",
       "      <td>NaN</td>\n",
       "    </tr>\n",
       "    <tr>\n",
       "      <th>227</th>\n",
       "      <td>26-35</td>\n",
       "      <td>NaN</td>\n",
       "    </tr>\n",
       "  </tbody>\n",
       "</table>\n",
       "<p>228 rows × 2 columns</p>\n",
       "</div>"
      ],
      "text/plain": [
       "    Qual sua Idade?  Você se vê e/ou gostaria de trabalhar remotamente no futuro?\n",
       "0             18-25                                                1.0           \n",
       "1             18-25                                                NaN           \n",
       "2             18-25                                                NaN           \n",
       "3             18-25                                                NaN           \n",
       "4             18-25                                                NaN           \n",
       "..              ...                                                ...           \n",
       "223             60+                                                NaN           \n",
       "224           36-45                                                NaN           \n",
       "225           18-25                                                1.0           \n",
       "226           26-35                                                NaN           \n",
       "227           26-35                                                NaN           \n",
       "\n",
       "[228 rows x 2 columns]"
      ]
     },
     "execution_count": 23,
     "metadata": {
      "tags": []
     },
     "output_type": "execute_result"
    }
   ],
   "source": [
    "## Pessoas que NÃO trabalharam remotamente durante a pandemia\n",
    "\n",
    "respostas2 = pd.read_csv('https://github.com/vittoria-thomasini/comportment-analytics-covid19/blob/main/Planilhas/Idades.csv?raw=true', delimiter = ';', usecols = [\"Qual sua Idade?\", \"Você se vê e/ou gostaria de trabalhar remotamente no futuro?\"])\n",
    "respostas2 = respostas2.replace('Menos de 18 anos', '-18')\n",
    "respostas2 = respostas2.replace('Entre 18 e 25 anos', '18-25')\n",
    "respostas2 = respostas2.replace('Entre 26 e 35 anos', '26-35')\n",
    "respostas2 = respostas2.replace('Entre 36 e 45 anos', '36-45')\n",
    "respostas2 = respostas2.replace('Entre 46 e 60 anos', '46-59')\n",
    "respostas2 = respostas2.replace('mais de 60 anos', '60+')\n",
    "respostas2 = respostas2.replace('Sim', 1)\n",
    "respostas2 = respostas2.replace('Não', 0)\n",
    "\n",
    "respostas2"
   ]
  },
  {
   "cell_type": "code",
   "execution_count": null,
   "metadata": {
    "id": "03S0jaqNV9Zp"
   },
   "outputs": [],
   "source": [
    "## Sim = 1 / Não = 0\n",
    "\n",
    "filtro2_1 = respostas2.loc[respostas2['Você se vê e/ou gostaria de trabalhar remotamente no futuro?'] == 1]\n",
    "filtro2_2 = respostas2.loc[respostas2['Você se vê e/ou gostaria de trabalhar remotamente no futuro?'] == 0]"
   ]
  },
  {
   "cell_type": "code",
   "execution_count": null,
   "metadata": {
    "colab": {
     "base_uri": "https://localhost:8080/"
    },
    "id": "3WhTICx5WCCG",
    "outputId": "ecc7975a-5f26-4ba0-c571-921a22b1f9ab"
   },
   "outputs": [
    {
     "name": "stdout",
     "output_type": "stream",
     "text": [
      "Total de Sim\n"
     ]
    },
    {
     "data": {
      "text/plain": [
       "25"
      ]
     },
     "execution_count": 25,
     "metadata": {
      "tags": []
     },
     "output_type": "execute_result"
    }
   ],
   "source": [
    "print('Total de Sim')\n",
    "filtro2_1['Você se vê e/ou gostaria de trabalhar remotamente no futuro?'].count()"
   ]
  },
  {
   "cell_type": "code",
   "execution_count": null,
   "metadata": {
    "colab": {
     "base_uri": "https://localhost:8080/"
    },
    "id": "m4HrwHoYWEOb",
    "outputId": "e5b27e17-ac11-41cb-b6cc-94dd5f7a1ea7"
   },
   "outputs": [
    {
     "name": "stdout",
     "output_type": "stream",
     "text": [
      "Total de Não\n"
     ]
    },
    {
     "data": {
      "text/plain": [
       "50"
      ]
     },
     "execution_count": 26,
     "metadata": {
      "tags": []
     },
     "output_type": "execute_result"
    }
   ],
   "source": [
    "print('Total de Não')\n",
    "filtro2_2['Você se vê e/ou gostaria de trabalhar remotamente no futuro?'].count()"
   ]
  },
  {
   "cell_type": "code",
   "execution_count": null,
   "metadata": {
    "colab": {
     "base_uri": "https://localhost:8080/",
     "height": 283
    },
    "id": "yza2rdQXWGMP",
    "outputId": "a2097741-9df6-49e6-88a8-905513242bf2"
   },
   "outputs": [
    {
     "name": "stdout",
     "output_type": "stream",
     "text": [
      "Idade pessoas que NÃO gostariam de trabalhar remotamente no futuro\n"
     ]
    },
    {
     "data": {
      "image/png": "[encoded data removed]",
      "text/plain": [
       "<Figure size 432x288 with 1 Axes>"
      ]
     },
     "metadata": {
      "needs_background": "light",
      "tags": []
     },
     "output_type": "display_data"
    }
   ],
   "source": [
    "print('Idade pessoas que NÃO gostariam de trabalhar remotamente no futuro')\n",
    "plt.hist(filtro2_2[\"Qual sua Idade?\"])\n",
    "plt.show()"
   ]
  },
  {
   "cell_type": "code",
   "execution_count": null,
   "metadata": {
    "colab": {
     "base_uri": "https://localhost:8080/",
     "height": 407
    },
    "id": "XdaWbfjJWHeD",
    "outputId": "d897f805-c5e9-40b8-a321-16c87f2b3a31"
   },
   "outputs": [
    {
     "data": {
      "text/html": [
       "<div>\n",
       "<style scoped>\n",
       "    .dataframe tbody tr th:only-of-type {\n",
       "        vertical-align: middle;\n",
       "    }\n",
       "\n",
       "    .dataframe tbody tr th {\n",
       "        vertical-align: top;\n",
       "    }\n",
       "\n",
       "    .dataframe thead th {\n",
       "        text-align: right;\n",
       "    }\n",
       "</style>\n",
       "<table border=\"1\" class=\"dataframe\">\n",
       "  <thead>\n",
       "    <tr style=\"text-align: right;\">\n",
       "      <th></th>\n",
       "      <th>Qual sua Idade?</th>\n",
       "      <th>Você se vê e/ou pretende trabalhar remotamente no futuro?</th>\n",
       "    </tr>\n",
       "  </thead>\n",
       "  <tbody>\n",
       "    <tr>\n",
       "      <th>0</th>\n",
       "      <td>18-25</td>\n",
       "      <td>NaN</td>\n",
       "    </tr>\n",
       "    <tr>\n",
       "      <th>1</th>\n",
       "      <td>18-25</td>\n",
       "      <td>1.0</td>\n",
       "    </tr>\n",
       "    <tr>\n",
       "      <th>2</th>\n",
       "      <td>18-25</td>\n",
       "      <td>0.0</td>\n",
       "    </tr>\n",
       "    <tr>\n",
       "      <th>3</th>\n",
       "      <td>18-25</td>\n",
       "      <td>0.0</td>\n",
       "    </tr>\n",
       "    <tr>\n",
       "      <th>4</th>\n",
       "      <td>18-25</td>\n",
       "      <td>1.0</td>\n",
       "    </tr>\n",
       "    <tr>\n",
       "      <th>...</th>\n",
       "      <td>...</td>\n",
       "      <td>...</td>\n",
       "    </tr>\n",
       "    <tr>\n",
       "      <th>223</th>\n",
       "      <td>60+</td>\n",
       "      <td>0.0</td>\n",
       "    </tr>\n",
       "    <tr>\n",
       "      <th>224</th>\n",
       "      <td>36-45</td>\n",
       "      <td>0.0</td>\n",
       "    </tr>\n",
       "    <tr>\n",
       "      <th>225</th>\n",
       "      <td>18-25</td>\n",
       "      <td>NaN</td>\n",
       "    </tr>\n",
       "    <tr>\n",
       "      <th>226</th>\n",
       "      <td>26-35</td>\n",
       "      <td>1.0</td>\n",
       "    </tr>\n",
       "    <tr>\n",
       "      <th>227</th>\n",
       "      <td>26-35</td>\n",
       "      <td>1.0</td>\n",
       "    </tr>\n",
       "  </tbody>\n",
       "</table>\n",
       "<p>228 rows × 2 columns</p>\n",
       "</div>"
      ],
      "text/plain": [
       "    Qual sua Idade?  Você se vê e/ou pretende trabalhar remotamente no futuro?\n",
       "0             18-25                                                NaN        \n",
       "1             18-25                                                1.0        \n",
       "2             18-25                                                0.0        \n",
       "3             18-25                                                0.0        \n",
       "4             18-25                                                1.0        \n",
       "..              ...                                                ...        \n",
       "223             60+                                                0.0        \n",
       "224           36-45                                                0.0        \n",
       "225           18-25                                                NaN        \n",
       "226           26-35                                                1.0        \n",
       "227           26-35                                                1.0        \n",
       "\n",
       "[228 rows x 2 columns]"
      ]
     },
     "execution_count": 28,
     "metadata": {
      "tags": []
     },
     "output_type": "execute_result"
    }
   ],
   "source": [
    "## Pessoas que trabalharam remotamente durante a pandemia\n",
    "\n",
    "respostas3 = pd.read_csv('https://github.com/vittoria-thomasini/comportment-analytics-covid19/blob/main/Planilhas/Idades.csv?raw=true', delimiter = ';', usecols = [\"Qual sua Idade?\", \"Você se vê e/ou pretende trabalhar remotamente no futuro?\"])\n",
    "respostas3 = respostas3.replace('Menos de 18 anos', '-18')\n",
    "respostas3 = respostas3.replace('Entre 18 e 25 anos', '18-25')\n",
    "respostas3 = respostas3.replace('Entre 26 e 35 anos', '26-35')\n",
    "respostas3 = respostas3.replace('Entre 36 e 45 anos', '36-45')\n",
    "respostas3 = respostas3.replace('Entre 46 e 60 anos', '46-59')\n",
    "respostas3 = respostas3.replace('mais de 60 anos', '60+')\n",
    "respostas3 = respostas3.replace('Sim', 1)\n",
    "respostas3 = respostas3.replace('Não', 0)\n",
    "\n",
    "respostas3"
   ]
  },
  {
   "cell_type": "code",
   "execution_count": null,
   "metadata": {
    "id": "LLTeFSHnWJlM"
   },
   "outputs": [],
   "source": [
    "## Sim = 1 / Não = 0\n",
    "\n",
    "filtro3_1 = respostas3.loc[respostas3['Você se vê e/ou pretende trabalhar remotamente no futuro?'] == 1]\n",
    "filtro3_2 = respostas3.loc[respostas3['Você se vê e/ou pretende trabalhar remotamente no futuro?'] == 0]"
   ]
  },
  {
   "cell_type": "code",
   "execution_count": null,
   "metadata": {
    "colab": {
     "base_uri": "https://localhost:8080/"
    },
    "id": "tq3Ih2BUWL9e",
    "outputId": "74083717-cc02-4a26-ebd1-147fb12da9b0"
   },
   "outputs": [
    {
     "name": "stdout",
     "output_type": "stream",
     "text": [
      "Total de Sim\n"
     ]
    },
    {
     "data": {
      "text/plain": [
       "110"
      ]
     },
     "execution_count": 30,
     "metadata": {
      "tags": []
     },
     "output_type": "execute_result"
    }
   ],
   "source": [
    "print('Total de Sim')\n",
    "filtro3_1['Você se vê e/ou pretende trabalhar remotamente no futuro?'].count()"
   ]
  },
  {
   "cell_type": "code",
   "execution_count": null,
   "metadata": {
    "colab": {
     "base_uri": "https://localhost:8080/"
    },
    "id": "vGfifyRjWNdv",
    "outputId": "37522001-b773-45f0-80e4-bb49b2e0d4d9"
   },
   "outputs": [
    {
     "name": "stdout",
     "output_type": "stream",
     "text": [
      "Total de Não\n"
     ]
    },
    {
     "data": {
      "text/plain": [
       "43"
      ]
     },
     "execution_count": 31,
     "metadata": {
      "tags": []
     },
     "output_type": "execute_result"
    }
   ],
   "source": [
    "print('Total de Não')\n",
    "filtro3_2['Você se vê e/ou pretende trabalhar remotamente no futuro?'].count()"
   ]
  },
  {
   "cell_type": "code",
   "execution_count": null,
   "metadata": {
    "colab": {
     "base_uri": "https://localhost:8080/",
     "height": 283
    },
    "id": "Q6jFjENdWOXx",
    "outputId": "3e5b36b5-a449-4a6f-e91f-12a9987e9be1"
   },
   "outputs": [
    {
     "name": "stdout",
     "output_type": "stream",
     "text": [
      "Idade pessoas que gostariam de trabalhar remotamente no futuro\n"
     ]
    },
    {
     "data": {
      "image/png": "[encoded data removed]",
      "text/plain": [
       "<Figure size 432x288 with 1 Axes>"
      ]
     },
     "metadata": {
      "needs_background": "light",
      "tags": []
     },
     "output_type": "display_data"
    }
   ],
   "source": [
    "print('Idade pessoas que gostariam de trabalhar remotamente no futuro')\n",
    "plt.hist(filtro3_1[\"Qual sua Idade?\"])\n",
    "plt.show()"
   ]
  },
  {
   "cell_type": "code",
   "execution_count": null,
   "metadata": {
    "colab": {
     "base_uri": "https://localhost:8080/",
     "height": 407
    },
    "id": "SeJMmKmIWQYu",
    "outputId": "596c6334-bbbb-4262-e56d-41114cb90661"
   },
   "outputs": [
    {
     "data": {
      "text/html": [
       "<div>\n",
       "<style scoped>\n",
       "    .dataframe tbody tr th:only-of-type {\n",
       "        vertical-align: middle;\n",
       "    }\n",
       "\n",
       "    .dataframe tbody tr th {\n",
       "        vertical-align: top;\n",
       "    }\n",
       "\n",
       "    .dataframe thead th {\n",
       "        text-align: right;\n",
       "    }\n",
       "</style>\n",
       "<table border=\"1\" class=\"dataframe\">\n",
       "  <thead>\n",
       "    <tr style=\"text-align: right;\">\n",
       "      <th></th>\n",
       "      <th>Qual sua Idade?</th>\n",
       "      <th>Como você avalia sua adaptação ao Home Office?</th>\n",
       "    </tr>\n",
       "  </thead>\n",
       "  <tbody>\n",
       "    <tr>\n",
       "      <th>0</th>\n",
       "      <td>18-25</td>\n",
       "      <td>NaN</td>\n",
       "    </tr>\n",
       "    <tr>\n",
       "      <th>1</th>\n",
       "      <td>18-25</td>\n",
       "      <td>5.0</td>\n",
       "    </tr>\n",
       "    <tr>\n",
       "      <th>2</th>\n",
       "      <td>18-25</td>\n",
       "      <td>3.0</td>\n",
       "    </tr>\n",
       "    <tr>\n",
       "      <th>3</th>\n",
       "      <td>18-25</td>\n",
       "      <td>4.0</td>\n",
       "    </tr>\n",
       "    <tr>\n",
       "      <th>4</th>\n",
       "      <td>18-25</td>\n",
       "      <td>4.0</td>\n",
       "    </tr>\n",
       "    <tr>\n",
       "      <th>...</th>\n",
       "      <td>...</td>\n",
       "      <td>...</td>\n",
       "    </tr>\n",
       "    <tr>\n",
       "      <th>223</th>\n",
       "      <td>60+</td>\n",
       "      <td>3.0</td>\n",
       "    </tr>\n",
       "    <tr>\n",
       "      <th>224</th>\n",
       "      <td>36-45</td>\n",
       "      <td>2.0</td>\n",
       "    </tr>\n",
       "    <tr>\n",
       "      <th>225</th>\n",
       "      <td>18-25</td>\n",
       "      <td>NaN</td>\n",
       "    </tr>\n",
       "    <tr>\n",
       "      <th>226</th>\n",
       "      <td>26-35</td>\n",
       "      <td>4.0</td>\n",
       "    </tr>\n",
       "    <tr>\n",
       "      <th>227</th>\n",
       "      <td>26-35</td>\n",
       "      <td>5.0</td>\n",
       "    </tr>\n",
       "  </tbody>\n",
       "</table>\n",
       "<p>228 rows × 2 columns</p>\n",
       "</div>"
      ],
      "text/plain": [
       "    Qual sua Idade?  Como você avalia sua adaptação ao Home Office?\n",
       "0             18-25                                             NaN\n",
       "1             18-25                                             5.0\n",
       "2             18-25                                             3.0\n",
       "3             18-25                                             4.0\n",
       "4             18-25                                             4.0\n",
       "..              ...                                             ...\n",
       "223             60+                                             3.0\n",
       "224           36-45                                             2.0\n",
       "225           18-25                                             NaN\n",
       "226           26-35                                             4.0\n",
       "227           26-35                                             5.0\n",
       "\n",
       "[228 rows x 2 columns]"
      ]
     },
     "execution_count": 33,
     "metadata": {
      "tags": []
     },
     "output_type": "execute_result"
    }
   ],
   "source": [
    "## Adaptação ao Home Office\n",
    "\n",
    "respostas4 = pd.read_csv('https://github.com/vittoria-thomasini/comportment-analytics-covid19/blob/main/Planilhas/Idades.csv?raw=true', delimiter = ';', usecols = [\"Qual sua Idade?\", \"Como você avalia sua adaptação ao Home Office?\"])\n",
    "respostas4 = respostas4.replace('Menos de 18 anos', '-18')\n",
    "respostas4 = respostas4.replace('Entre 18 e 25 anos', '18-25')\n",
    "respostas4 = respostas4.replace('Entre 26 e 35 anos', '26-35')\n",
    "respostas4 = respostas4.replace('Entre 36 e 45 anos', '36-45')\n",
    "respostas4 = respostas4.replace('Entre 46 e 60 anos', '46-59')\n",
    "respostas4 = respostas4.replace('mais de 60 anos', '60+')\n",
    "\n",
    "respostas4"
   ]
  },
  {
   "cell_type": "code",
   "execution_count": null,
   "metadata": {
    "id": "nnChmZxTWSSE"
   },
   "outputs": [],
   "source": [
    "## >3 = bom / <3 = ruim / 3 = neutro\n",
    "\n",
    "filtro4_1 = respostas4.loc[respostas4['Como você avalia sua adaptação ao Home Office?'] > 3]\n",
    "filtro4_2 = respostas4.loc[respostas4['Como você avalia sua adaptação ao Home Office?'] < 3]\n",
    "filtro4_3 = respostas4.loc[respostas4['Como você avalia sua adaptação ao Home Office?'] == 3]"
   ]
  },
  {
   "cell_type": "code",
   "execution_count": null,
   "metadata": {
    "colab": {
     "base_uri": "https://localhost:8080/"
    },
    "id": "418a9XKRWUWB",
    "outputId": "94c3a2fd-aa62-45d9-f066-26aeb17273f7"
   },
   "outputs": [
    {
     "name": "stdout",
     "output_type": "stream",
     "text": [
      "Total de Bom\n"
     ]
    },
    {
     "data": {
      "text/plain": [
       "105"
      ]
     },
     "execution_count": 35,
     "metadata": {
      "tags": []
     },
     "output_type": "execute_result"
    }
   ],
   "source": [
    "print('Total de Bom')\n",
    "filtro4_1['Como você avalia sua adaptação ao Home Office?'].count()"
   ]
  },
  {
   "cell_type": "code",
   "execution_count": null,
   "metadata": {
    "colab": {
     "base_uri": "https://localhost:8080/"
    },
    "id": "HA0HOogOWWiW",
    "outputId": "811dfc24-61ae-4379-e4b8-8132692f4690"
   },
   "outputs": [
    {
     "name": "stdout",
     "output_type": "stream",
     "text": [
      "Total de Neutros\n"
     ]
    },
    {
     "data": {
      "text/plain": [
       "34"
      ]
     },
     "execution_count": 36,
     "metadata": {
      "tags": []
     },
     "output_type": "execute_result"
    }
   ],
   "source": [
    "print('Total de Neutros')\n",
    "filtro4_3['Como você avalia sua adaptação ao Home Office?'].count()"
   ]
  },
  {
   "cell_type": "code",
   "execution_count": null,
   "metadata": {
    "colab": {
     "base_uri": "https://localhost:8080/"
    },
    "id": "2b6HZcoxWYQ5",
    "outputId": "4a4e9457-cbf4-4969-c7e0-fa504518f0f4"
   },
   "outputs": [
    {
     "name": "stdout",
     "output_type": "stream",
     "text": [
      "Total de Ruim\n"
     ]
    },
    {
     "data": {
      "text/plain": [
       "14"
      ]
     },
     "execution_count": 37,
     "metadata": {
      "tags": []
     },
     "output_type": "execute_result"
    }
   ],
   "source": [
    "print('Total de Ruim')\n",
    "filtro4_2['Como você avalia sua adaptação ao Home Office?'].count()"
   ]
  },
  {
   "cell_type": "code",
   "execution_count": null,
   "metadata": {
    "colab": {
     "base_uri": "https://localhost:8080/",
     "height": 283
    },
    "id": "bVPKGMphWaIl",
    "outputId": "9b3ee18c-f908-471a-f477-8d5ee279325e"
   },
   "outputs": [
    {
     "name": "stdout",
     "output_type": "stream",
     "text": [
      "Idade pessoas que se adaptaram bem ao Home Office\n"
     ]
    },
    {
     "data": {
      "image/png": "[encoded data removed]",
      "text/plain": [
       "<Figure size 432x288 with 1 Axes>"
      ]
     },
     "metadata": {
      "needs_background": "light",
      "tags": []
     },
     "output_type": "display_data"
    }
   ],
   "source": [
    "print('Idade pessoas que se adaptaram bem ao Home Office')\n",
    "plt.hist(filtro4_1[\"Qual sua Idade?\"])\n",
    "plt.show()"
   ]
  },
  {
   "cell_type": "code",
   "execution_count": null,
   "metadata": {
    "id": "7sQOKmLKWb8L"
   },
   "outputs": [],
   "source": [
    "## Nível de Fadíga\n",
    "\n",
    "respostas5 = pd.read_csv('https://github.com/vittoria-thomasini/comportment-analytics-covid19/blob/main/Planilhas/Idades.csv?raw=true', delimiter = ';', usecols = [\"Qual sua Idade?\", \"Como você avalia o seu nível de fadiga (Cansaço excessivo) durante o trabalho de Home Office?\"])\n",
    "respostas5 = respostas5.replace('Menos de 18 anos', '-18')\n",
    "respostas5 = respostas5.replace('Entre 18 e 25 anos', '18-25')\n",
    "respostas5 = respostas5.replace('Entre 26 e 35 anos', '26-35')\n",
    "respostas5 = respostas5.replace('Entre 36 e 45 anos', '36-45')\n",
    "respostas5 = respostas5.replace('Entre 46 e 60 anos', '46-59')\n",
    "respostas5 = respostas5.replace('mais de 60 anos', '60+')\n",
    "respostas5 = respostas5.replace('Sim', 1)\n",
    "respostas5 = respostas5.replace('Não', 0)\n",
    "\n",
    "respostas5"
   ]
  },
  {
   "cell_type": "code",
   "execution_count": null,
   "metadata": {
    "id": "bi8uqQJOWeXh"
   },
   "outputs": [],
   "source": [
    "## >3 = bom / <3 = ruim / 3 = neutro\n",
    "\n",
    "filtro5_1 = respostas5.loc[respostas5['Como você avalia o seu nível de fadiga (Cansaço excessivo) durante o trabalho de Home Office?'] > 3]\n",
    "filtro5_2 = respostas5.loc[respostas5['Como você avalia o seu nível de fadiga (Cansaço excessivo) durante o trabalho de Home Office?'] < 3]\n",
    "filtro5_3 = respostas5.loc[respostas5['Como você avalia o seu nível de fadiga (Cansaço excessivo) durante o trabalho de Home Office?'] == 3]"
   ]
  },
  {
   "cell_type": "code",
   "execution_count": null,
   "metadata": {
    "id": "Mzc3NKJeWgh4"
   },
   "outputs": [],
   "source": [
    "print('Total de Bom')\n",
    "filtro5_1['Como você avalia o seu nível de fadiga (Cansaço excessivo) durante o trabalho de Home Office?'].count()"
   ]
  },
  {
   "cell_type": "code",
   "execution_count": null,
   "metadata": {
    "id": "PCD-vd97WiNX"
   },
   "outputs": [],
   "source": [
    "print('Total de Neutro')\n",
    "filtro5_2['Como você avalia o seu nível de fadiga (Cansaço excessivo) durante o trabalho de Home Office?'].count()"
   ]
  },
  {
   "cell_type": "code",
   "execution_count": null,
   "metadata": {
    "id": "vaIOU5ABWjjc"
   },
   "outputs": [],
   "source": [
    "print('Total de Ruim')\n",
    "filtro5_3['Como você avalia o seu nível de fadiga (Cansaço excessivo) durante o trabalho de Home Office?'].count()"
   ]
  },
  {
   "cell_type": "code",
   "execution_count": null,
   "metadata": {
    "id": "YhNmO-lLWlZn"
   },
   "outputs": [],
   "source": [
    "print('Idade das pessoas que tiveram seu nível de fadíga aumentado')\n",
    "plt.hist(filtro5_3[\"Qual sua Idade?\"])\n",
    "plt.show()"
   ]
  },
  {
   "cell_type": "markdown",
   "metadata": {
    "id": "0KPE1JNrVEdA"
   },
   "source": [
    "Seção final"
   ]
  },
  {
   "cell_type": "markdown",
   "metadata": {
    "id": "FmvMmRMuVNmg"
   },
   "source": [
    "Perfís definidos:\n",
    "\n",
    "---\n",
    "\n",
    "1 Presencial - 20\n",
    "\n",
    "---\n",
    "\n",
    "2 Hibrido - 30\n",
    "\n",
    "---\n",
    "\n",
    "3 Home Office - 40\n",
    "\n",
    "---\n",
    "\n"
   ]
  },
  {
   "cell_type": "code",
   "execution_count": null,
   "metadata": {
    "colab": {
     "base_uri": "https://localhost:8080/",
     "height": 207
    },
    "id": "m8yKkNaKfLun",
    "outputId": "4ef83d95-bf2d-4e5c-9cfe-3f9b66b935f8"
   },
   "outputs": [
    {
     "ename": "AttributeError",
     "evalue": "ignored",
     "output_type": "error",
     "traceback": [
      "\u001b[0;31m---------------------------------------------------------------------------\u001b[0m",
      "\u001b[0;31mAttributeError\u001b[0m                            Traceback (most recent call last)",
      "\u001b[0;32m<ipython-input-86-11e8d4428cf9>\u001b[0m in \u001b[0;36m<module>\u001b[0;34m()\u001b[0m\n\u001b[1;32m     27\u001b[0m \u001b[0mperfis\u001b[0m\u001b[0;34m\u001b[0m\u001b[0;34m\u001b[0m\u001b[0m\n\u001b[1;32m     28\u001b[0m \u001b[0;34m\u001b[0m\u001b[0m\n\u001b[0;32m---> 29\u001b[0;31m \u001b[0mperfis\u001b[0m\u001b[0;34m.\u001b[0m\u001b[0mplot\u001b[0m\u001b[0;34m(\u001b[0m\u001b[0;34m)\u001b[0m\u001b[0;34m\u001b[0m\u001b[0;34m\u001b[0m\u001b[0m\n\u001b[0m",
      "\u001b[0;31mAttributeError\u001b[0m: 'tuple' object has no attribute 'plot'"
     ]
    }
   ],
   "source": [
    "import pandas as pd\n",
    "import matplotlib.pyplot as plt\n",
    "\n",
    "df = pd.read_csv('https://raw.githubusercontent.com/vittoria-thomasini/comportment-analytics-covid19/main/Planilhas/Trabalho%20de%20Casa.csv', delimiter = ';')\n",
    "\n",
    "df['total'] = df['Como você avalia sua adaptação ao Home Office?'] + df['Como você avalia a sua produtividade durante a pandemia?'] + df['Como você avalia o seu foco durante o trabalho de Home Office?'] + df['Como você avalia o seu nível de fadiga (Cansaço excessivo) durante o trabalho de Home Office?'] + df['Como você avalia o seu nível de estresse durante o trabalho de Home Office?'] + df['Como você avalia o suporte/auxílio que a sua empresa prestou durante o trabalho de Home Office? '] + df['Como você avalia o entrosamento com seus colegas de trabalho durante Home Office?'] + df['Como foi sua experiência em trabalhar de casa?']\n",
    "\n",
    "total = df['total']\n",
    "\n",
    "presencial = 0\n",
    "hibrido = 0\n",
    "homeoffice = 0\n",
    "\n",
    "for i in total:\n",
    "  if i <= 20:\n",
    "    presencial = presencial + 1\n",
    "\n",
    "for i in total:\n",
    "  if i > 20 and i <= 30:\n",
    "    hibrido = hibrido + 1\n",
    "\n",
    "for i in total:\n",
    "  if i > 30:\n",
    "    homeoffice = homeoffice + 1\n",
    "\n",
    "perfis = homeoffice, hibrido, presencial\n",
    "perfis\n",
    "\n",
    "´çt.()\n"
   ]
  },
  {
   "cell_type": "markdown",
   "metadata": {
    "id": "tQfhjSMpfEFe"
   },
   "source": [
    "\n",
    "Plus: profissionar Anywhere\n",
    "\n"
   ]
  },
  {
   "cell_type": "code",
   "execution_count": null,
   "metadata": {
    "colab": {
     "base_uri": "https://localhost:8080/",
     "height": 886
    },
    "id": "djAQ5n17VH10",
    "outputId": "11ad6834-2f5a-4106-ca4e-5b9daae27f6e"
   },
   "outputs": [
    {
     "data": {
      "text/html": [
       "<div>\n",
       "<style scoped>\n",
       "    .dataframe tbody tr th:only-of-type {\n",
       "        vertical-align: middle;\n",
       "    }\n",
       "\n",
       "    .dataframe tbody tr th {\n",
       "        vertical-align: top;\n",
       "    }\n",
       "\n",
       "    .dataframe thead th {\n",
       "        text-align: right;\n",
       "    }\n",
       "</style>\n",
       "<table border=\"1\" class=\"dataframe\">\n",
       "  <thead>\n",
       "    <tr style=\"text-align: right;\">\n",
       "      <th></th>\n",
       "      <th>Qual sua Idade?</th>\n",
       "      <th>Você trabalhou de casa durante a pandemia?</th>\n",
       "      <th>Você já exercia esse modelo de trabalho?</th>\n",
       "      <th>Você sente que sua carga de trabalho aumentou durante o trabalho de casa?</th>\n",
       "      <th>Por conta do home office você trabalhou mais do que a sua carga horária contratual?</th>\n",
       "      <th>Você se vê e/ou pretende trabalhar remotamente no futuro?</th>\n",
       "      <th>Como você avalia sua adaptação ao Home Office?</th>\n",
       "      <th>Como você avalia a sua produtividade durante a pandemia?</th>\n",
       "      <th>Como você avalia o seu foco durante o trabalho de Home Office?</th>\n",
       "      <th>Como você avalia o seu nível de fadiga (Cansaço excessivo) durante o trabalho de Home Office?</th>\n",
       "      <th>Como você avalia o seu nível de estresse durante o trabalho de Home Office?</th>\n",
       "      <th>Como você avalia o suporte/auxílio que a sua empresa prestou durante o trabalho de Home Office?</th>\n",
       "      <th>Como você avalia o entrosamento com seus colegas de trabalho durante Home Office?</th>\n",
       "      <th>Como foi sua experiência em trabalhar de casa?</th>\n",
       "    </tr>\n",
       "  </thead>\n",
       "  <tbody>\n",
       "    <tr>\n",
       "      <th>18</th>\n",
       "      <td>Entre 46 e 60 anos</td>\n",
       "      <td>Sim</td>\n",
       "      <td>Não</td>\n",
       "      <td>Sim</td>\n",
       "      <td>Sim</td>\n",
       "      <td>Sim</td>\n",
       "      <td>4</td>\n",
       "      <td>5</td>\n",
       "      <td>4</td>\n",
       "      <td>4</td>\n",
       "      <td>4</td>\n",
       "      <td>5</td>\n",
       "      <td>4</td>\n",
       "      <td>5</td>\n",
       "    </tr>\n",
       "    <tr>\n",
       "      <th>21</th>\n",
       "      <td>Entre 18 e 25 anos</td>\n",
       "      <td>Sim</td>\n",
       "      <td>Não</td>\n",
       "      <td>Não</td>\n",
       "      <td>Não</td>\n",
       "      <td>Sim</td>\n",
       "      <td>5</td>\n",
       "      <td>4</td>\n",
       "      <td>4</td>\n",
       "      <td>4</td>\n",
       "      <td>4</td>\n",
       "      <td>4</td>\n",
       "      <td>5</td>\n",
       "      <td>5</td>\n",
       "    </tr>\n",
       "    <tr>\n",
       "      <th>24</th>\n",
       "      <td>Entre 18 e 25 anos</td>\n",
       "      <td>Sim</td>\n",
       "      <td>Não</td>\n",
       "      <td>Não</td>\n",
       "      <td>Não</td>\n",
       "      <td>Sim</td>\n",
       "      <td>5</td>\n",
       "      <td>4</td>\n",
       "      <td>4</td>\n",
       "      <td>4</td>\n",
       "      <td>4</td>\n",
       "      <td>5</td>\n",
       "      <td>5</td>\n",
       "      <td>5</td>\n",
       "    </tr>\n",
       "    <tr>\n",
       "      <th>47</th>\n",
       "      <td>Entre 26 e 35 anos</td>\n",
       "      <td>Sim</td>\n",
       "      <td>Não</td>\n",
       "      <td>Não</td>\n",
       "      <td>Não</td>\n",
       "      <td>Sim</td>\n",
       "      <td>5</td>\n",
       "      <td>5</td>\n",
       "      <td>5</td>\n",
       "      <td>5</td>\n",
       "      <td>4</td>\n",
       "      <td>4</td>\n",
       "      <td>4</td>\n",
       "      <td>5</td>\n",
       "    </tr>\n",
       "    <tr>\n",
       "      <th>66</th>\n",
       "      <td>mais de 60 anos</td>\n",
       "      <td>Sim</td>\n",
       "      <td>Não</td>\n",
       "      <td>Não</td>\n",
       "      <td>Não</td>\n",
       "      <td>Sim</td>\n",
       "      <td>5</td>\n",
       "      <td>5</td>\n",
       "      <td>5</td>\n",
       "      <td>5</td>\n",
       "      <td>5</td>\n",
       "      <td>5</td>\n",
       "      <td>5</td>\n",
       "      <td>5</td>\n",
       "    </tr>\n",
       "    <tr>\n",
       "      <th>77</th>\n",
       "      <td>Entre 46 e 60 anos</td>\n",
       "      <td>Sim</td>\n",
       "      <td>Não</td>\n",
       "      <td>Não</td>\n",
       "      <td>Sim</td>\n",
       "      <td>Sim</td>\n",
       "      <td>4</td>\n",
       "      <td>5</td>\n",
       "      <td>4</td>\n",
       "      <td>5</td>\n",
       "      <td>5</td>\n",
       "      <td>5</td>\n",
       "      <td>4</td>\n",
       "      <td>4</td>\n",
       "    </tr>\n",
       "    <tr>\n",
       "      <th>81</th>\n",
       "      <td>Entre 46 e 60 anos</td>\n",
       "      <td>Sim</td>\n",
       "      <td>Não</td>\n",
       "      <td>Sim</td>\n",
       "      <td>Sim</td>\n",
       "      <td>Sim</td>\n",
       "      <td>5</td>\n",
       "      <td>5</td>\n",
       "      <td>4</td>\n",
       "      <td>5</td>\n",
       "      <td>4</td>\n",
       "      <td>5</td>\n",
       "      <td>5</td>\n",
       "      <td>5</td>\n",
       "    </tr>\n",
       "    <tr>\n",
       "      <th>133</th>\n",
       "      <td>Entre 18 e 25 anos</td>\n",
       "      <td>Sim</td>\n",
       "      <td>Não</td>\n",
       "      <td>Não</td>\n",
       "      <td>Não</td>\n",
       "      <td>Sim</td>\n",
       "      <td>4</td>\n",
       "      <td>4</td>\n",
       "      <td>4</td>\n",
       "      <td>4</td>\n",
       "      <td>4</td>\n",
       "      <td>4</td>\n",
       "      <td>4</td>\n",
       "      <td>4</td>\n",
       "    </tr>\n",
       "    <tr>\n",
       "      <th>148</th>\n",
       "      <td>Entre 46 e 60 anos</td>\n",
       "      <td>Sim</td>\n",
       "      <td>Não</td>\n",
       "      <td>Sim</td>\n",
       "      <td>Sim</td>\n",
       "      <td>Não</td>\n",
       "      <td>4</td>\n",
       "      <td>4</td>\n",
       "      <td>5</td>\n",
       "      <td>5</td>\n",
       "      <td>5</td>\n",
       "      <td>4</td>\n",
       "      <td>4</td>\n",
       "      <td>4</td>\n",
       "    </tr>\n",
       "    <tr>\n",
       "      <th>151</th>\n",
       "      <td>Entre 26 e 35 anos</td>\n",
       "      <td>Sim</td>\n",
       "      <td>Não</td>\n",
       "      <td>Não</td>\n",
       "      <td>Não</td>\n",
       "      <td>Sim</td>\n",
       "      <td>4</td>\n",
       "      <td>5</td>\n",
       "      <td>4</td>\n",
       "      <td>5</td>\n",
       "      <td>5</td>\n",
       "      <td>5</td>\n",
       "      <td>4</td>\n",
       "      <td>5</td>\n",
       "    </tr>\n",
       "  </tbody>\n",
       "</table>\n",
       "</div>"
      ],
      "text/plain": [
       "        Qual sua Idade?  ... Como foi sua experiência em trabalhar de casa?\n",
       "18   Entre 46 e 60 anos  ...                                              5\n",
       "21   Entre 18 e 25 anos  ...                                              5\n",
       "24   Entre 18 e 25 anos  ...                                              5\n",
       "47   Entre 26 e 35 anos  ...                                              5\n",
       "66      mais de 60 anos  ...                                              5\n",
       "77   Entre 46 e 60 anos  ...                                              4\n",
       "81   Entre 46 e 60 anos  ...                                              5\n",
       "133  Entre 18 e 25 anos  ...                                              4\n",
       "148  Entre 46 e 60 anos  ...                                              4\n",
       "151  Entre 26 e 35 anos  ...                                              5\n",
       "\n",
       "[10 rows x 14 columns]"
      ]
     },
     "execution_count": 55,
     "metadata": {
      "tags": []
     },
     "output_type": "execute_result"
    }
   ],
   "source": [
    "import pandas as pd\n",
    "import matplotlib.pyplot as plt\n",
    "\n",
    "respostasgeral = pd.read_csv('https://raw.githubusercontent.com/vittoria-thomasini/comportment-analytics-covid19/main/Planilhas/Trabalho%20de%20Casa.csv', delimiter = ';')\n",
    "\n",
    "Anywhere = respostasgeral.loc[respostasgeral['Como você avalia sua adaptação ao Home Office?'] > 3]\n",
    "Anywhere = Anywhere.loc[Anywhere['Como você avalia a sua produtividade durante a pandemia?'] > 3]\n",
    "Anywhere = Anywhere.loc[Anywhere['Como você avalia o seu foco durante o trabalho de Home Office?'] > 3]\n",
    "Anywhere = Anywhere.loc[Anywhere['Como você avalia o seu nível de fadiga (Cansaço excessivo) durante o trabalho de Home Office?'] > 3]\n",
    "Anywhere = Anywhere.loc[Anywhere['Como você avalia o seu nível de estresse durante o trabalho de Home Office?'] > 3]\n",
    "Anywhere = Anywhere.loc[Anywhere['Como você avalia o suporte/auxílio que a sua empresa prestou durante o trabalho de Home Office? '] > 3]\n",
    "Anywhere = Anywhere.loc[Anywhere['Como você avalia o entrosamento com seus colegas de trabalho durante Home Office?'] > 3]\n",
    "Anywhere = Anywhere.loc[Anywhere['Como foi sua experiência em trabalhar de casa?'] > 3]\n",
    "Anywhere"
   ]
  }
 ],
 "metadata": {
  "colab": {
   "collapsed_sections": [],
   "name": "ProjetoCovid19.ipynb",
   "provenance": []
  },
  "kernelspec": {
   "display_name": "Python 3",
   "language": "python",
   "name": "python3"
  },
  "language_info": {
   "codemirror_mode": {
    "name": "ipython",
    "version": 3
   },
   "file_extension": ".py",
   "mimetype": "text/x-python",
   "name": "python",
   "nbconvert_exporter": "python",
   "pygments_lexer": "ipython3",
   "version": "3.8.8"
  }
 },
 "nbformat": 4,
 "nbformat_minor": 1
}
